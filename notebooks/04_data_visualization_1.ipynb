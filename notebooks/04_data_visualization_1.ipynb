{
 "cells": [
  {
   "cell_type": "markdown",
   "id": "759653ce",
   "metadata": {},
   "source": [
    "# Data Visualization\n",
    "*Jon Stelman*  \n",
    "*Learning Sciences & Innovation*  \n",
    "*Renaissance Learning, 2021*  \n",
    "  \n",
    "Now that we can load, select, and transform data, it's time to unpack some of the more important aspects of data visualization.  \n",
    "\n",
    "## Overview\n",
    "As a data researcher, we generally use data visualization for one of three purposes:\n",
    "1. **Research:** To help ourselves better understand the data, by \"asking questions\" of datasets\n",
    "2. **Storytelling**: To highlight and communicate important details about the data for other stakeholders\n",
    "3. **Dashboard**: To provide stakeholders with a way to easily answer pre-defined questions about dynamic datasets\n",
    "  \n",
    "This notebook addresses the first two of these. The latter topic, dashboards, generally require greater interactivity. Because of the greater complexity involved, we'll save that topic for another time.  \n",
    "\n",
    "### `matplotlib`\n",
    "\n",
    "[`matplotlib`](https://matplotlib.org/) is a Python library for plotting. In their words:\n",
    "> Matplotlib is a comprehensive library for creating static, animated, and interactive visualizations in Python.\n",
    "  \n",
    "There are many tools and libraries available for data visualization and plotting. Each has its own strengths. This tutorial favors `matplotlib` because it is easy to use \"out-of-the-box.\" `pandas` has integrated `matplotlib` methods, to very easily make simple plots of data in DataFrames and Series.\n",
    "\n",
    "## Data Visualization for Research\n",
    "As data researchers, we often need to quickly explore the shape of data, scanning for information about distributions, trends, clusters, and outliers. Here, we put the emphasis on function over form. We want to make a plot quickly so we can move on to the next question. In a Jupyter Notebook, our plot will appear right below the code that created it, so we might be okay with skipping over aspects like titles, grids, color, axis labels, or pre-configured axis ranges. We'll pay those aspects much more attention when doing data visualization for storytelling and dashboard applications."
   ]
  },
  {
   "cell_type": "markdown",
   "id": "ee8d3628",
   "metadata": {},
   "source": [
    "## Topics\n",
    "- Data viz for research\n",
    "    - Quick plotting using pandas methods\n",
    "        - Scatter plots & heat maps\n",
    "        - Histograms\n",
    "        - Correlation matrices\n",
    "        \n",
    "- Shareable graphs\n",
    "    - Storytelling\n",
    "        - https://towardsdatascience.com/data-visualization-principles-tools-and-useful-tricks-b68d9c138a86\n",
    "        - Make sure one or two insights jump off the page\n",
    "        - Use color, size to call attention to important elements\n",
    "    \n",
    "    - Be mindful of labels\n",
    "        - Legends\n",
    "        - Grid lines\n",
    "        - Axis range\n",
    "        - Title\n",
    "        - Shape of points\n",
    "    \n",
    "    - Colors\n",
    "        - https://matplotlib.org/stable/tutorials/colors/colormaps.html\n",
    "        - Be aware of colorblindedness\n",
    "        - Be aware of social meaning\n",
    "            - What does blue / pink mean for most people\n",
    "            - What does green mean for most people\n",
    "            - What are the colors used in national flags\n",
    "            - What do these color combinations connote\n",
    "    - Other Principles\n",
    "        - Data - Ink Maximixation\n",
    "        - One property to facet\n",
    "                "
   ]
  },
  {
   "cell_type": "code",
   "execution_count": null,
   "id": "cf03b230",
   "metadata": {},
   "outputs": [],
   "source": []
  },
  {
   "cell_type": "code",
   "execution_count": null,
   "id": "1b15550e",
   "metadata": {},
   "outputs": [],
   "source": []
  }
 ],
 "metadata": {
  "kernelspec": {
   "display_name": "Python 3 (ipykernel)",
   "language": "python",
   "name": "python3"
  },
  "language_info": {
   "codemirror_mode": {
    "name": "ipython",
    "version": 3
   },
   "file_extension": ".py",
   "mimetype": "text/x-python",
   "name": "python",
   "nbconvert_exporter": "python",
   "pygments_lexer": "ipython3",
   "version": "3.7.11"
  }
 },
 "nbformat": 4,
 "nbformat_minor": 5
}
