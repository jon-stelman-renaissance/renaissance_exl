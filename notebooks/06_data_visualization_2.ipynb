{
 "cells": [
  {
   "cell_type": "markdown",
   "id": "ea15da56",
   "metadata": {
    "slideshow": {
     "slide_type": "slide"
    }
   },
   "source": [
    "# Data Vizualization for Others    \n",
    "*Renaissance EXL*  \n",
    "*Renaissance Learning, 2022*  \n",
    "  \n",
    "You've explored the data, found some patterns, and run some analytics. Now it's time to share your data with others."
   ]
  },
  {
   "cell_type": "code",
   "execution_count": null,
   "id": "4f11a7c2",
   "metadata": {
    "slideshow": {
     "slide_type": "fragment"
    }
   },
   "outputs": [],
   "source": [
    "import numpy as np\n",
    "import pandas as pd\n",
    "from matplotlib import pyplot as plt\n",
    "from pandas.core.frame import DataFrame\n",
    "from random import shuffle"
   ]
  },
  {
   "cell_type": "markdown",
   "id": "767734ab",
   "metadata": {
    "slideshow": {
     "slide_type": "subslide"
    }
   },
   "source": [
    "## Today's Session\n",
    "1. Housekeeping\n",
    "2. Share out your data visualization\n",
    "3. Data visualization for others\n",
    "    1. General principles\n",
    "    2. Ensuring clarity with axes, ranges, and labels\n",
    "    3. Choosing the right visualization for your story\n",
    "    4. Colorblind friendly color schemes\n",
    "    5. Communication across cultures\n",
    "    6. How to confuse (mislead?) others\n",
    "4. Wrap up"
   ]
  },
  {
   "cell_type": "markdown",
   "id": "a5511b20",
   "metadata": {
    "slideshow": {
     "slide_type": "slide"
    }
   },
   "source": [
    "## Housekeeping"
   ]
  },
  {
   "cell_type": "markdown",
   "id": "9c820107",
   "metadata": {
    "slideshow": {
     "slide_type": "fragment"
    }
   },
   "source": [
    "The presentation date has been deferred from week 8. I'm trying to line up a new date where I can bring in some key people at the company, but the new date hasn't been confirmed. I'll be in touch and we'll find a time that works for all of you, even with school."
   ]
  },
  {
   "cell_type": "markdown",
   "id": "0fe872b8",
   "metadata": {
    "slideshow": {
     "slide_type": "fragment"
    }
   },
   "source": [
    "Justin will lead a Writers Workshop on Friday."
   ]
  },
  {
   "cell_type": "markdown",
   "id": "e7813d95",
   "metadata": {
    "slideshow": {
     "slide_type": "slide"
    }
   },
   "source": [
    "## Sharing Out"
   ]
  },
  {
   "cell_type": "markdown",
   "id": "747f2f3a",
   "metadata": {
    "slideshow": {
     "slide_type": "fragment"
    }
   },
   "source": [
    "Take 2–3 minutes each to talk about a graph or graphs you have made. Walk us through..."
   ]
  },
  {
   "cell_type": "markdown",
   "id": "62f706ce",
   "metadata": {
    "slideshow": {
     "slide_type": "fragment"
    }
   },
   "source": [
    "- What is the most important take-away from the graph(s)"
   ]
  },
  {
   "cell_type": "markdown",
   "id": "1ad80789",
   "metadata": {
    "slideshow": {
     "slide_type": "fragment"
    }
   },
   "source": [
    "- Any secondary take-aways you want people to notice?"
   ]
  },
  {
   "cell_type": "markdown",
   "id": "54ab5aa8",
   "metadata": {
    "slideshow": {
     "slide_type": "fragment"
    }
   },
   "source": [
    "- Why did you choose to visualize this data in this way...\n",
    "    - Why *this* type of graph (bar plot, scatterplot, histogram, etc.)\n",
    "    - Why *these* colors?\n",
    "    - Why *these* shapes?"
   ]
  },
  {
   "cell_type": "markdown",
   "id": "23a62fbd",
   "metadata": {
    "slideshow": {
     "slide_type": "fragment"
    }
   },
   "source": [
    "- Is there anything you think could be confusing?"
   ]
  },
  {
   "cell_type": "markdown",
   "id": "1b5607f4",
   "metadata": {
    "slideshow": {
     "slide_type": "fragment"
    }
   },
   "source": [
    "- Something you're proud of in this visual?"
   ]
  },
  {
   "cell_type": "markdown",
   "id": "ad02a6fc",
   "metadata": {
    "slideshow": {
     "slide_type": "fragment"
    }
   },
   "source": [
    "- Anything else"
   ]
  },
  {
   "cell_type": "code",
   "execution_count": null,
   "id": "beae03fd",
   "metadata": {
    "slideshow": {
     "slide_type": "subslide"
    }
   },
   "outputs": [],
   "source": [
    "presenters = ['Aiden', 'Allison', 'Hassan', 'Srikar', 'Trevor', 'Vianney']\n",
    "shuffle(presenters)\n",
    "for i, p in enumerate(presenters):\n",
    "    print(f'{i+1}. {p}')"
   ]
  },
  {
   "cell_type": "markdown",
   "id": "7c48c3a8",
   "metadata": {
    "slideshow": {
     "slide_type": "slide"
    }
   },
   "source": [
    "## Data Visualization for Others"
   ]
  },
  {
   "cell_type": "markdown",
   "id": "12020804",
   "metadata": {
    "slideshow": {
     "slide_type": "fragment"
    }
   },
   "source": [
    "As a data researcher, we generally use data visualization for one of three purposes:"
   ]
  },
  {
   "cell_type": "markdown",
   "id": "7f03a73d",
   "metadata": {
    "slideshow": {
     "slide_type": "fragment"
    }
   },
   "source": [
    "1. **Research:** To help ourselves better understand the data, by \"asking questions\" of datasets"
   ]
  },
  {
   "cell_type": "markdown",
   "id": "7b452804",
   "metadata": {
    "slideshow": {
     "slide_type": "fragment"
    }
   },
   "source": [
    "2. **Storytelling**: To highlight and communicate important details about the data for other stakeholders"
   ]
  },
  {
   "cell_type": "markdown",
   "id": "a29e45ea",
   "metadata": {
    "slideshow": {
     "slide_type": "fragment"
    }
   },
   "source": [
    "3. **Dashboard**: To provide stakeholders with a way to *easily retrieve their own answers* to a pre-defined set of questions about datasets that change over time"
   ]
  },
  {
   "cell_type": "markdown",
   "id": "a6f5e730",
   "metadata": {
    "slideshow": {
     "slide_type": "subslide"
    }
   },
   "source": [
    "### General Principles"
   ]
  },
  {
   "cell_type": "markdown",
   "id": "75226cd4",
   "metadata": {
    "slideshow": {
     "slide_type": "subslide"
    }
   },
   "source": [
    "**Type in chat:** What are 2 things you'd change to improve / declutter this visualization?"
   ]
  },
  {
   "cell_type": "code",
   "execution_count": null,
   "id": "a036ba8e",
   "metadata": {
    "slideshow": {
     "slide_type": "fragment"
    }
   },
   "outputs": [],
   "source": [
    "from utils import make_simple_graph\n",
    "p = make_simple_graph()"
   ]
  },
  {
   "cell_type": "markdown",
   "id": "0ce284ea",
   "metadata": {
    "slideshow": {
     "slide_type": "subslide"
    }
   },
   "source": [
    "#### Core principles"
   ]
  },
  {
   "cell_type": "markdown",
   "id": "119a7f90",
   "metadata": {
    "slideshow": {
     "slide_type": "fragment"
    }
   },
   "source": [
    "- Data - Ink Maximixation"
   ]
  },
  {
   "cell_type": "markdown",
   "id": "1a417f58",
   "metadata": {
    "slideshow": {
     "slide_type": "fragment"
    }
   },
   "source": [
    "- One property to facet"
   ]
  },
  {
   "cell_type": "markdown",
   "id": "05e1fc68",
   "metadata": {
    "slideshow": {
     "slide_type": "fragment"
    }
   },
   "source": [
    "Facets\n",
    "- location (x, y, z)\n",
    "- size\n",
    "- color\n",
    "- shape"
   ]
  },
  {
   "cell_type": "markdown",
   "id": "16b0ada3",
   "metadata": {
    "slideshow": {
     "slide_type": "slide"
    }
   },
   "source": [
    "### Ensuring clarity with axes, ranges, and labels"
   ]
  },
  {
   "cell_type": "code",
   "execution_count": null,
   "id": "31d8502e",
   "metadata": {
    "slideshow": {
     "slide_type": "skip"
    }
   },
   "outputs": [],
   "source": [
    "# code to reproduce graph above:\n",
    "tickets = pd.read_csv('../data/tickets_processed.csv')\n",
    "\n",
    "x = tickets['month']\n",
    "y1 = tickets['ticket_volume_received']\n",
    "y2 = tickets['ticket_volume_processed']\n",
    "\n",
    "fig = plt.figure(figsize=(12, 5))\n",
    "ax = fig.add_subplot()\n",
    "\n",
    "ax.plot(x, y2, marker='o', label='Ticket Volume Received', color='red')\n",
    "ax.plot(x, y1, marker='D', label='Ticket Volume Processed', color='blue')\n",
    "\n",
    "ax.legend(loc=1)\n",
    "ax.yaxis.set_major_formatter('{x:9<5.2f}')\n",
    "ax.set_ylim(0,300)\n",
    "ax.grid()\n",
    "fig.patch.set_linewidth(5)\n",
    "fig.patch.set_edgecolor('black')\n",
    "\n",
    "plt.show();"
   ]
  },
  {
   "cell_type": "markdown",
   "id": "ee8d3628",
   "metadata": {
    "slideshow": {
     "slide_type": "subslide"
    }
   },
   "source": [
    "#### Accessing elements on a graph in `matplotlib`\n",
    "- Figure Size\n",
    "- Colors\n",
    "- Shape of Markers\n",
    "- Title\n",
    "- Grid Lines\n",
    "- Legends\n",
    "- Spines\n",
    "- Axis Range\n",
    "- Axis Ticks\n",
    "- Axis Labels"
   ]
  },
  {
   "cell_type": "code",
   "execution_count": null,
   "id": "01e01c28",
   "metadata": {
    "slideshow": {
     "slide_type": "subslide"
    }
   },
   "outputs": [],
   "source": [
    "# Figure Size, Colors, Shape of Markers, Title, Grid Lines, \n",
    "# Legends, Spines, Axis Range, Axis Ticks, Axis Labels\n",
    "\n",
    "fig = plt.figure()\n",
    "ax = fig.add_subplot()\n",
    "\n",
    "#fig = plt.figure(figsize=(12, 5))\n",
    "#ax = fig.add_subplot()\n",
    "\n",
    "#ax.plot(x, y2)\n",
    "#ax.plot(x, y1)\n",
    "\n",
    "#ax.plot(x, y2, marker='o', label='Ticket Volume Received' , color='red')\n",
    "#ax.plot(x, y1, marker='D', label='Ticket Volume Processed', color='blue')\n",
    "\n",
    "#ax.set_title('Tickets by Month')\n",
    "#ax.grid()\n",
    "#ax.grid(axis='both') # default\n",
    "#ax.grid(axis='y')\n",
    "#ax.legend(loc=1)\n",
    "\n",
    "#ax.yaxis.set_major_formatter('{x:9<5.2f}') # precision of axis labels\n",
    "#ax.set_ylim(0, 300)\n",
    "\n",
    "#ax.spines['top'].set_visible(False)\n",
    "#ax.spines[['top', 'right']].set_visible(False)\n",
    "#ax.spines[:].set_visible(False)\n",
    "#ax.spines['top'].set_color('green')\n",
    "\n",
    "#ax.tick_params(bottom=False, left=True, right=True, top=True)\n",
    "#ax.tick_params(bottom=False)\n",
    "\n",
    "#ax.set_xlabel('Month', fontsize=14)\n",
    "#ax.set_ylabel('Number of Tickets', fontsize=14)\n",
    "\n",
    "#fig.patch.set_linewidth(5)\n",
    "#fig.patch.set_edgecolor('black')\n",
    "\n",
    "plt.show()"
   ]
  },
  {
   "cell_type": "markdown",
   "id": "e0807b81",
   "metadata": {
    "slideshow": {
     "slide_type": "subslide"
    }
   },
   "source": [
    "Let's clean up our original graph"
   ]
  },
  {
   "cell_type": "code",
   "execution_count": null,
   "id": "c0c3b932",
   "metadata": {
    "slideshow": {
     "slide_type": "fragment"
    }
   },
   "outputs": [],
   "source": [
    "x2 = [m[:3] for m in x] # shorten month names to first 3 letters\n",
    "fig = plt.figure(figsize=(24, 8))\n",
    "ax = fig.add_subplot()\n",
    "\n",
    "ax.plot(x2, y1, label='Ticket Volume Processed', color='lightgrey')\n",
    "ax.plot(x2, y2, label='Ticket Volume Received', color='red')\n",
    "\n",
    "ax.annotate('New feature added', (5, y2[5]), xytext=(0.8, 0.9), \n",
    "    textcoords='axes fraction', arrowprops=dict(facecolor='black', shrink=0.05),\n",
    "    fontsize=16, horizontalalignment='right', verticalalignment='center'\n",
    ")\n",
    "\n",
    "ax.legend(loc=4)\n",
    "ax.set_ylim(0, 300)\n",
    "ax.set_xlabel('Month', fontsize=14)\n",
    "ax.set_ylabel('Number of Tickets', fontsize=14)\n",
    "\n",
    "ax.spines[['top', 'right']].set_visible(False)\n",
    "ax.tick_params(bottom=False)\n",
    "\n",
    "plt.show()"
   ]
  },
  {
   "cell_type": "markdown",
   "id": "26f61b1f",
   "metadata": {
    "slideshow": {
     "slide_type": "slide"
    }
   },
   "source": [
    "### Choosing the right visualization for your story"
   ]
  },
  {
   "cell_type": "markdown",
   "id": "2601703a",
   "metadata": {
    "slideshow": {
     "slide_type": "fragment"
    }
   },
   "source": [
    "Some graphs are better suited than others for certain data"
   ]
  },
  {
   "cell_type": "markdown",
   "id": "7244e7e1",
   "metadata": {
    "slideshow": {
     "slide_type": "fragment"
    }
   },
   "source": [
    "- **Barplot:** Comparing categorical data"
   ]
  },
  {
   "cell_type": "markdown",
   "id": "3f4fcf4c",
   "metadata": {
    "slideshow": {
     "slide_type": "fragment"
    }
   },
   "source": [
    "- **Scatterplot:** Showing shape and patterns in all data points"
   ]
  },
  {
   "cell_type": "markdown",
   "id": "5c28e3e3",
   "metadata": {
    "slideshow": {
     "slide_type": "fragment"
    }
   },
   "source": [
    "- **Connected lines:** Showing the trend over time"
   ]
  },
  {
   "cell_type": "markdown",
   "id": "47ee714a",
   "metadata": {
    "slideshow": {
     "slide_type": "fragment"
    }
   },
   "source": [
    "- **Pie chart:** Almost nothing"
   ]
  },
  {
   "cell_type": "markdown",
   "id": "84aa88d1",
   "metadata": {
    "slideshow": {
     "slide_type": "subslide"
    }
   },
   "source": [
    "### Effective communication"
   ]
  },
  {
   "cell_type": "markdown",
   "id": "fb6ad9d8",
   "metadata": {
    "slideshow": {
     "slide_type": "fragment"
    }
   },
   "source": [
    "- Make sure no more than one or two insights jump off the graph"
   ]
  },
  {
   "cell_type": "markdown",
   "id": "3807f993",
   "metadata": {
    "slideshow": {
     "slide_type": "fragment"
    }
   },
   "source": [
    "- Use color, size, and labels to call attention to important elements"
   ]
  },
  {
   "cell_type": "markdown",
   "id": "c80d8894",
   "metadata": {
    "slideshow": {
     "slide_type": "fragment"
    }
   },
   "source": [
    "- If there's nothing obvious, you can add a text box to tell people what they should see"
   ]
  },
  {
   "cell_type": "markdown",
   "id": "b3526d99",
   "metadata": {
    "slideshow": {
     "slide_type": "slide"
    }
   },
   "source": [
    "### Colors\n",
    "Put your favorite color in the chat...\n",
    "<img src=\"../images/color-wheel.webp\" alt=\"A color wheel\" width=\"800\"/>\n",
    "\n"
   ]
  },
  {
   "cell_type": "markdown",
   "id": "01541c9d",
   "metadata": {
    "slideshow": {
     "slide_type": "slide"
    }
   },
   "source": [
    "#### Colorblind-friendly color schemes"
   ]
  },
  {
   "cell_type": "markdown",
   "id": "236946f1",
   "metadata": {
    "slideshow": {
     "slide_type": "subslide"
    }
   },
   "source": [
    "About 8–9% of people in the US have a form of colorblindness."
   ]
  },
  {
   "cell_type": "markdown",
   "id": "54947fc7",
   "metadata": {
    "slideshow": {
     "slide_type": "fragment"
    }
   },
   "source": [
    "~1 in 12 people"
   ]
  },
  {
   "cell_type": "markdown",
   "id": "84ee9e48",
   "metadata": {
    "slideshow": {
     "slide_type": "fragment"
    }
   },
   "source": [
    "We should make sure these people can see our graphs too!"
   ]
  },
  {
   "cell_type": "markdown",
   "id": "12684878",
   "metadata": {
    "slideshow": {
     "slide_type": "subslide"
    }
   },
   "source": [
    "How does color vision work?\n",
    "![cones](../images/cones)"
   ]
  },
  {
   "cell_type": "markdown",
   "id": "89f64251",
   "metadata": {
    "slideshow": {
     "slide_type": "fragment"
    }
   },
   "source": [
    "![frequency sensitivity](../images/frequency-sensitivity)"
   ]
  },
  {
   "cell_type": "markdown",
   "id": "08cffc54",
   "metadata": {
    "slideshow": {
     "slide_type": "subslide"
    }
   },
   "source": [
    "![colorblind color wheels](../images/colorblindness-wheels)"
   ]
  },
  {
   "cell_type": "markdown",
   "id": "6efca3d9",
   "metadata": {
    "slideshow": {
     "slide_type": "fragment"
    }
   },
   "source": [
    "![Apples with colorblind filter](../images/colorblind-apples)"
   ]
  },
  {
   "cell_type": "markdown",
   "id": "1a42d887",
   "metadata": {
    "slideshow": {
     "slide_type": "fragment"
    }
   },
   "source": [
    "Avoid colormaps between red and green!"
   ]
  },
  {
   "cell_type": "markdown",
   "id": "9adf1a25",
   "metadata": {
    "slideshow": {
     "slide_type": "subslide"
    }
   },
   "source": [
    "Default color gradient in matplotlib, `viridis`: a safe choice!"
   ]
  },
  {
   "cell_type": "code",
   "execution_count": null,
   "id": "0c44c693",
   "metadata": {
    "slideshow": {
     "slide_type": "subslide"
    }
   },
   "outputs": [],
   "source": [
    "# from https://matplotlib.org/stable/tutorials/colors/colormaps.html\n",
    "import matplotlib as mpl\n",
    "\n",
    "gradient = np.linspace(0, 1, 256)\n",
    "gradient = np.vstack((gradient, gradient))\n",
    "\n",
    "def plot_color_gradients(category, cmap_list):\n",
    "    # Create figure and adjust figure height to number of colormaps\n",
    "    nrows = len(cmap_list)\n",
    "    #figh = 0.35 + 0.15 + (nrows + (nrows - 1) * 0.1) * 0.22\n",
    "    figh = 3\n",
    "    fig, axs = plt.subplots(nrows=nrows + 1, figsize=(6.4, figh))\n",
    "    fig.subplots_adjust(top=1 - 0.35 / figh, bottom=0.15 / figh,\n",
    "                        left=0.2, right=0.99)\n",
    "\n",
    "    for ax, name in zip(axs, cmap_list):\n",
    "        ax.imshow(gradient, aspect='auto', cmap=plt.get_cmap(name))\n",
    "        ax.text(-0.01, 0.5, name, va='center', ha='right', fontsize=10,\n",
    "                transform=ax.transAxes)\n",
    "\n",
    "    # Turn off *all* ticks & spines, not just the ones with colormaps.\n",
    "    for ax in axs:\n",
    "        ax.set_axis_off()\n",
    "\n",
    "plot_color_gradients('Perceptually Uniform Sequential', ['viridis'])\n"
   ]
  },
  {
   "cell_type": "code",
   "execution_count": null,
   "id": "a4a959e7",
   "metadata": {
    "slideshow": {
     "slide_type": "subslide"
    }
   },
   "outputs": [],
   "source": [
    "plot_color_gradients('Perceptually Uniform Sequential',\n",
    "                     ['viridis', 'plasma', 'inferno', 'magma', 'cividis'])"
   ]
  },
  {
   "cell_type": "markdown",
   "id": "41e63204",
   "metadata": {
    "slideshow": {
     "slide_type": "slide"
    }
   },
   "source": [
    "### Communication across cultures"
   ]
  },
  {
   "cell_type": "markdown",
   "id": "810af116",
   "metadata": {
    "slideshow": {
     "slide_type": "subslide"
    }
   },
   "source": [
    "Is anything confusing about this graph?"
   ]
  },
  {
   "cell_type": "code",
   "execution_count": null,
   "id": "179d0e14",
   "metadata": {
    "slideshow": {
     "slide_type": "fragment"
    }
   },
   "outputs": [],
   "source": [
    "vikings = pd.read_csv('../data/vikings.csv')\n",
    "year = vikings['year']\n",
    "wins = vikings['wins']\n",
    "losses = vikings['losses']\n",
    "ties = vikings['ties']\n",
    "fig = plt.figure(figsize=(10, 8))\n",
    "ax = fig.add_subplot()\n",
    "ax.plot(year, wins,   color='#FABA13', label='Wins')\n",
    "ax.plot(year, losses, color='#DB1734', label='Losses')\n",
    "ax.plot(year, ties,   color='#161A1B', label='Ties')\n",
    "plt.title('Minnesota Vikings Seasonal Record')\n",
    "plt.xticks(np.arange(2011, 2022, 2))\n",
    "ax.yaxis.grid(True, which='major', color='#EEE')\n",
    "plt.legend(loc=4)\n",
    "ax.spines[:].set_visible(False)\n",
    "ax.tick_params(bottom=False, left=False)\n",
    "plt.show()"
   ]
  },
  {
   "cell_type": "markdown",
   "id": "a535b38d",
   "metadata": {
    "slideshow": {
     "slide_type": "subslide"
    }
   },
   "source": [
    "Is anything confusing about this graph?"
   ]
  },
  {
   "cell_type": "code",
   "execution_count": null,
   "id": "31e391f1",
   "metadata": {
    "slideshow": {
     "slide_type": "fragment"
    }
   },
   "outputs": [],
   "source": [
    "le = pd.read_csv('../data/life_expectancy.csv')\n",
    "year = le['year']\n",
    "female = le['female']\n",
    "male = le['male']\n",
    "fig = plt.figure(figsize=(10, 8))\n",
    "ax = fig.add_subplot()\n",
    "ax.plot(year, female, color='blue', label='Female')\n",
    "ax.plot(year, male, color='pink', label='Male')\n",
    "ax.set_title('U.S. Life Expectancy by Sex')\n",
    "ax.yaxis.grid(True, which='major', color='#EEE')\n",
    "ax.legend(loc=3)\n",
    "plt.yticks(np.arange(70, 85))\n",
    "ax.spines[:].set_visible(False)\n",
    "ax.tick_params(bottom=False, left=False)\n",
    "plt.show()"
   ]
  },
  {
   "cell_type": "markdown",
   "id": "e8cdcf4e",
   "metadata": {
    "slideshow": {
     "slide_type": "subslide"
    }
   },
   "source": [
    "I am ***NOT*** saying we should use stereotypes. Please do not do this."
   ]
  },
  {
   "cell_type": "markdown",
   "id": "aa2c7d62",
   "metadata": {
    "slideshow": {
     "slide_type": "fragment"
    }
   },
   "source": [
    "I ***AM*** saying be aware of the meaning of colors, shapes, etc. within a culture. "
   ]
  },
  {
   "cell_type": "markdown",
   "id": "74ffb0ca",
   "metadata": {
    "slideshow": {
     "slide_type": "fragment"
    }
   },
   "source": [
    "If you seek to contradict a cultural norm, do it with intent."
   ]
  },
  {
   "cell_type": "markdown",
   "id": "9345cc67",
   "metadata": {
    "slideshow": {
     "slide_type": "subslide"
    }
   },
   "source": [
    "#### More on colors\n",
    "What does <b><span style=\"color:red\">red</span></b> represent in..."
   ]
  },
  {
   "cell_type": "markdown",
   "id": "5ea74a8f",
   "metadata": {
    "slideshow": {
     "slide_type": "fragment"
    }
   },
   "source": [
    "- the United States?"
   ]
  },
  {
   "cell_type": "markdown",
   "id": "c4986aa2",
   "metadata": {
    "slideshow": {
     "slide_type": "fragment"
    }
   },
   "source": [
    "- Mexico?"
   ]
  },
  {
   "cell_type": "markdown",
   "id": "92dac55c",
   "metadata": {
    "slideshow": {
     "slide_type": "fragment"
    }
   },
   "source": [
    "- China?"
   ]
  },
  {
   "cell_type": "markdown",
   "id": "0b0cc645",
   "metadata": {
    "slideshow": {
     "slide_type": "subslide"
    }
   },
   "source": [
    "### Other cultural norms to be aware of"
   ]
  },
  {
   "cell_type": "markdown",
   "id": "26abc199",
   "metadata": {
    "slideshow": {
     "slide_type": "fragment"
    }
   },
   "source": [
    "**Direction**"
   ]
  },
  {
   "cell_type": "markdown",
   "id": "aa572c37",
   "metadata": {
    "slideshow": {
     "slide_type": "fragment"
    }
   },
   "source": [
    "- Among European/American cultures, time is generally plotted **left-to-right** on the x- (horizontal) axis."
   ]
  },
  {
   "cell_type": "markdown",
   "id": "11e6e15e",
   "metadata": {
    "slideshow": {
     "slide_type": "fragment"
    }
   },
   "source": [
    "- Arabic and Hebrew *may occasionally* plot time **right-to-left** on the x-axis."
   ]
  },
  {
   "cell_type": "markdown",
   "id": "18e10b7f",
   "metadata": {
    "slideshow": {
     "slide_type": "fragment"
    }
   },
   "source": [
    "- (This may be true in other RTL languages like Urdu, Kurdish, Rohingya, Divehi, etc., but I could not confirm)"
   ]
  },
  {
   "cell_type": "markdown",
   "id": "6c011d2e",
   "metadata": {
    "slideshow": {
     "slide_type": "fragment"
    }
   },
   "source": [
    "If you're not sure, ask someone who knows!  \n",
    "\n",
    "People generally like sharing their culture with people who are genuinely curious and non-judgemental"
   ]
  },
  {
   "cell_type": "markdown",
   "id": "bfe44367",
   "metadata": {
    "slideshow": {
     "slide_type": "subslide"
    }
   },
   "source": [
    "### How to confuse (mislead?) others"
   ]
  },
  {
   "cell_type": "markdown",
   "id": "7b11579c",
   "metadata": {
    "slideshow": {
     "slide_type": "fragment"
    }
   },
   "source": [
    "From [5 Ways Writers Use Misleading Graphs To Manipulate You](https://venngage.com/blog/misleading-graphs/), Ryan McReady, 2020"
   ]
  },
  {
   "cell_type": "markdown",
   "id": "58301f2e",
   "metadata": {
    "slideshow": {
     "slide_type": "fragment"
    }
   },
   "source": [
    "1. Omit the baseline\n",
    "2. Manipulate the Y-Axis\n",
    "3. Cherry Picking Data\n",
    "4. Using the Wrong Graph\n",
    "5. Going Against Conventions"
   ]
  },
  {
   "cell_type": "markdown",
   "id": "f1c575e2",
   "metadata": {
    "slideshow": {
     "slide_type": "subslide"
    }
   },
   "source": [
    "![trump-gavel](../images/trump-gavel.png)\n",
    "What do you see in the graph above?"
   ]
  },
  {
   "cell_type": "code",
   "execution_count": null,
   "id": "79a775b5",
   "metadata": {
    "scrolled": false,
    "slideshow": {
     "slide_type": "subslide"
    }
   },
   "outputs": [],
   "source": [
    "pres_data = pd.read_csv('../data/presidential_appointments.csv')\n",
    "pres = pres_data['president']\n",
    "party = pres_data['party']\n",
    "appts = pres_data['appointments']\n",
    "cmap = {'Republican': 'red', 'Democrat': 'blue'}\n",
    "\n",
    "fig = plt.figure(figsize=(12, 6))\n",
    "ax = fig.add_subplot()\n",
    "\n",
    "ax.bar(pres, appts, color=[cmap[p] for p in party])\n",
    "\n",
    "ax.set_title('Appelate Judgeships Confirmed During First Congressional Term - FIXED')\n",
    "ax.spines[:].set_visible(False)\n",
    "ax.tick_params(bottom=False,  left=False)\n",
    "ax.set_ylim(0, 25)\n",
    "\n",
    "plt.show()"
   ]
  },
  {
   "cell_type": "markdown",
   "id": "994217c9",
   "metadata": {
    "slideshow": {
     "slide_type": "subslide"
    }
   },
   "source": [
    "![bush tax cuts from Fox Business](../images/bush-tax-cuts.png)\n",
    "What do you see in the graph above?"
   ]
  },
  {
   "cell_type": "code",
   "execution_count": null,
   "id": "ecfad318",
   "metadata": {
    "slideshow": {
     "slide_type": "subslide"
    }
   },
   "outputs": [],
   "source": [
    "fig = plt.figure(figsize=(8, 6))\n",
    "ax = fig.add_subplot()\n",
    "ax.bar(['Now', 'Jan. 1, 2013'], [35, 39.6], color='gold')\n",
    "ax.set_title('If Bush Tax Cuts Expire - FIXED')\n",
    "ax.spines[:].set_visible(False)\n",
    "ax.tick_params(bottom=False, left=False)\n",
    "plt.show()"
   ]
  },
  {
   "cell_type": "markdown",
   "id": "cbedb5ce",
   "metadata": {
    "slideshow": {
     "slide_type": "slide"
    }
   },
   "source": [
    "## Wrapping Up"
   ]
  },
  {
   "cell_type": "markdown",
   "id": "8c1d2833",
   "metadata": {
    "slideshow": {
     "slide_type": "fragment"
    }
   },
   "source": [
    "### Final recommendations"
   ]
  },
  {
   "cell_type": "markdown",
   "id": "7e99885d",
   "metadata": {
    "slideshow": {
     "slide_type": "fragment"
    }
   },
   "source": [
    "matplotlib can be very simple, but it gets complicated fast!"
   ]
  },
  {
   "cell_type": "markdown",
   "id": "66c17bed",
   "metadata": {
    "slideshow": {
     "slide_type": "fragment"
    }
   },
   "source": [
    "Start simple"
   ]
  },
  {
   "cell_type": "markdown",
   "id": "2a284491",
   "metadata": {
    "slideshow": {
     "slide_type": "fragment"
    }
   },
   "source": [
    "- Alter colors, axis labels, or add a legend"
   ]
  },
  {
   "cell_type": "markdown",
   "id": "8cd67b1f",
   "metadata": {
    "slideshow": {
     "slide_type": "fragment"
    }
   },
   "source": [
    "- Find examples online, and apply these to your graph"
   ]
  },
  {
   "cell_type": "markdown",
   "id": "7675e942",
   "metadata": {
    "slideshow": {
     "slide_type": "fragment"
    }
   },
   "source": [
    "- Don't try to do too much at once"
   ]
  },
  {
   "cell_type": "markdown",
   "id": "5ac47f36",
   "metadata": {
    "slideshow": {
     "slide_type": "fragment"
    }
   },
   "source": [
    "- Ask someone else who doesn't know your data to describe what they see\n",
    "    - By now, you know the data too well to see it with fresh eyes"
   ]
  },
  {
   "cell_type": "markdown",
   "id": "6fb11328",
   "metadata": {
    "slideshow": {
     "slide_type": "subslide"
    }
   },
   "source": [
    "Think back to the graph you shared earlier."
   ]
  },
  {
   "cell_type": "markdown",
   "id": "fc06bfbc",
   "metadata": {
    "slideshow": {
     "slide_type": "fragment"
    }
   },
   "source": [
    "Say one more thing you learned today that you can use to make your graph more clear"
   ]
  },
  {
   "cell_type": "markdown",
   "id": "23d50148",
   "metadata": {
    "slideshow": {
     "slide_type": "subslide"
    }
   },
   "source": [
    "### Todo\n",
    "1. Post your updated data visualization code to `#python` channel Slack\n",
    "2. Prepare for Writers Workshop on Friday"
   ]
  },
  {
   "cell_type": "markdown",
   "id": "258f173d",
   "metadata": {
    "slideshow": {
     "slide_type": "slide"
    }
   },
   "source": [
    "## Resources\n",
    "- [Data-Ink Principle (Edward Tufte)](https://jtr13.github.io/cc19/tuftes-principles-of-data-ink.html)\n",
    "- [A Layered Graphics of Grammar (Hadley Wickham)](http://vita.had.co.nz/papers/layered-grammar.pdf)\n",
    "- [5 Ways Writers Use Misleading Graphs to Manipulate You](https://venngage.com/blog/misleading-graphs/)\n",
    "  \n",
    "  \n",
    "- [matplotlib Home](https://matplotlib.org/stable/index.html)  \n",
    "- [matplotlib Examples](https://matplotlib.org/stable/gallery/index.html)\n",
    "- [matplotlib Tutorials](https://matplotlib.org/stable/tutorials/index.html)\n",
    "- [Colormaps in matplotlib](https://matplotlib.org/stable/tutorials/colors/colormaps.html)\n",
    "- [Markers in matplotlib](https://matplotlib.org/stable/api/markers_api.html) "
   ]
  }
 ],
 "metadata": {
  "celltoolbar": "Slideshow",
  "kernelspec": {
   "display_name": "Python 3 (ipykernel)",
   "language": "python",
   "name": "python3"
  },
  "language_info": {
   "codemirror_mode": {
    "name": "ipython",
    "version": 3
   },
   "file_extension": ".py",
   "mimetype": "text/x-python",
   "name": "python",
   "nbconvert_exporter": "python",
   "pygments_lexer": "ipython3",
   "version": "3.9.12"
  },
  "toc": {
   "base_numbering": 1,
   "nav_menu": {},
   "number_sections": true,
   "sideBar": false,
   "skip_h1_title": true,
   "title_cell": "Table of Contents",
   "title_sidebar": "Contents",
   "toc_cell": false,
   "toc_position": {
    "height": "261.733px",
    "left": "1522.94px",
    "top": "810.011px",
    "width": "301.449px"
   },
   "toc_section_display": true,
   "toc_window_display": true
  },
  "varInspector": {
   "cols": {
    "lenName": 16,
    "lenType": 16,
    "lenVar": 40
   },
   "kernels_config": {
    "python": {
     "delete_cmd_postfix": "",
     "delete_cmd_prefix": "del ",
     "library": "var_list.py",
     "varRefreshCmd": "print(var_dic_list())"
    },
    "r": {
     "delete_cmd_postfix": ") ",
     "delete_cmd_prefix": "rm(",
     "library": "var_list.r",
     "varRefreshCmd": "cat(var_dic_list()) "
    }
   },
   "types_to_exclude": [
    "module",
    "function",
    "builtin_function_or_method",
    "instance",
    "_Feature"
   ],
   "window_display": false
  }
 },
 "nbformat": 4,
 "nbformat_minor": 5
}
