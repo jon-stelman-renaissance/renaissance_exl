{
 "cells": [
  {
   "cell_type": "markdown",
   "id": "527b09a3",
   "metadata": {
    "slideshow": {
     "slide_type": "slide"
    }
   },
   "source": [
    "# Final Thoughts\n",
    "*Renaissance EXL*  \n",
    "*Renaissance Learning, 2022*  "
   ]
  },
  {
   "cell_type": "code",
   "execution_count": 4,
   "id": "56acf44f",
   "metadata": {
    "slideshow": {
     "slide_type": "fragment"
    }
   },
   "outputs": [],
   "source": [
    "import numpy as np\n",
    "import pandas as pd\n",
    "from random import shuffle"
   ]
  },
  {
   "cell_type": "markdown",
   "id": "d7181147",
   "metadata": {
    "slideshow": {
     "slide_type": "subslide"
    }
   },
   "source": [
    "**Today's Session**\n",
    "1. Housekeeping\n",
    "2. Highlights, so far\n",
    "3. Renaissance EXL Goals\n",
    "4. What's Next"
   ]
  },
  {
   "cell_type": "markdown",
   "id": "7dc657d3",
   "metadata": {
    "slideshow": {
     "slide_type": "slide"
    }
   },
   "source": [
    "## Housekeeping"
   ]
  },
  {
   "cell_type": "markdown",
   "id": "080c5aca",
   "metadata": {
    "slideshow": {
     "slide_type": "fragment"
    }
   },
   "source": [
    "Still working to confirm a presentation date. I'll keep you all updated"
   ]
  },
  {
   "cell_type": "markdown",
   "id": "7a4ab1a8",
   "metadata": {
    "slideshow": {
     "slide_type": "slide"
    }
   },
   "source": [
    "## Highlights"
   ]
  },
  {
   "cell_type": "markdown",
   "id": "fccf839e",
   "metadata": {
    "slideshow": {
     "slide_type": "fragment"
    }
   },
   "source": [
    "Take a 5 minutes to write down:"
   ]
  },
  {
   "cell_type": "markdown",
   "id": "f251873a",
   "metadata": {
    "slideshow": {
     "slide_type": "fragment"
    }
   },
   "source": [
    "- The most important thing you learned in EXL this summer\n",
    "- The most interesting thing\n",
    "- 1 unimportant or silly thing you learned\n",
    "- What will you do with what you learned"
   ]
  },
  {
   "cell_type": "code",
   "execution_count": 5,
   "id": "6d25bff4",
   "metadata": {
    "slideshow": {
     "slide_type": "fragment"
    }
   },
   "outputs": [
    {
     "name": "stdout",
     "output_type": "stream",
     "text": [
      "1. Srikar\n",
      "2. Hassan\n",
      "3. Aiden\n",
      "4. Trevor\n",
      "5. Allison\n"
     ]
    }
   ],
   "source": [
    "presenters = ['Aiden', 'Allison', 'Hassan', 'Srikar', 'Trevor']\n",
    "shuffle(presenters)\n",
    "for i, p in enumerate(presenters):\n",
    "    print(f'{i+1}. {p}')"
   ]
  },
  {
   "cell_type": "markdown",
   "id": "206e1210",
   "metadata": {
    "slideshow": {
     "slide_type": "slide"
    }
   },
   "source": [
    "## Renaissance EXL Goals"
   ]
  },
  {
   "cell_type": "markdown",
   "id": "0487e071",
   "metadata": {
    "slideshow": {
     "slide_type": "fragment"
    }
   },
   "source": [
    "- Prepare you for working with data in the real-world"
   ]
  },
  {
   "cell_type": "markdown",
   "id": "7e007fad",
   "metadata": {
    "slideshow": {
     "slide_type": "fragment"
    }
   },
   "source": [
    "- Managing code on your own device"
   ]
  },
  {
   "cell_type": "markdown",
   "id": "f9f9f267",
   "metadata": {
    "slideshow": {
     "slide_type": "fragment"
    }
   },
   "source": [
    "- Commonly-used programming languages"
   ]
  },
  {
   "cell_type": "markdown",
   "id": "44eeeee9",
   "metadata": {
    "slideshow": {
     "slide_type": "fragment"
    }
   },
   "source": [
    "- Managing your own project"
   ]
  },
  {
   "cell_type": "markdown",
   "id": "457a4c9c",
   "metadata": {
    "slideshow": {
     "slide_type": "fragment"
    }
   },
   "source": [
    "- Having a feeling for what parts of data research are most interesting and important to you"
   ]
  },
  {
   "cell_type": "markdown",
   "id": "823918d0",
   "metadata": {
    "slideshow": {
     "slide_type": "fragment"
    }
   },
   "source": [
    "- Giving a foundation for a strong professional profile"
   ]
  },
  {
   "cell_type": "markdown",
   "id": "5a6ad721",
   "metadata": {
    "slideshow": {
     "slide_type": "fragment"
    }
   },
   "source": [
    "- Ensuring you get to see how you can change the world for the better"
   ]
  },
  {
   "cell_type": "markdown",
   "id": "b9df49af",
   "metadata": {
    "slideshow": {
     "slide_type": "slide"
    }
   },
   "source": [
    "## Professional Portfolio"
   ]
  },
  {
   "cell_type": "markdown",
   "id": "ce2baab9",
   "metadata": {
    "slideshow": {
     "slide_type": "fragment"
    }
   },
   "source": [
    "### [LinkedIn.com](https://www.linkedin.com)\n",
    "- Why it matters\n",
    "- Create a page this summer\n",
    "- Add all of the people you met at Renaissance, and each other\n"
   ]
  },
  {
   "cell_type": "markdown",
   "id": "2c9078ee",
   "metadata": {
    "slideshow": {
     "slide_type": "slide"
    }
   },
   "source": [
    "## What's Next"
   ]
  },
  {
   "cell_type": "markdown",
   "id": "88665333",
   "metadata": {
    "slideshow": {
     "slide_type": "subslide"
    }
   },
   "source": [
    "### Tech Panel Discussions"
   ]
  },
  {
   "cell_type": "markdown",
   "id": "53bcf4a4",
   "metadata": {
    "slideshow": {
     "slide_type": "subslide"
    }
   },
   "source": [
    "**Wednesday, August 17th, 3-4pm CT**\n",
    "- Ajay Mathew (Senior Data Architect)\n",
    "- Bryn Murray (Senior Product Manager)\n",
    "- Sasha Paulovich (Software Engineer)\n",
    "- Soua Thoa (Technical Lead)"
   ]
  },
  {
   "cell_type": "markdown",
   "id": "d66ac828",
   "metadata": {
    "slideshow": {
     "slide_type": "subslide"
    }
   },
   "source": [
    "**Wednesday, August 24th, 3-4pm CT**\n",
    "- Sheila Zeidman (Senior Product Platform & Interoperability Manager)\n",
    "- Kim Brewbaker (Product Owner)\n",
    "- TBD (UX Designer)\n",
    "- TBD"
   ]
  },
  {
   "cell_type": "markdown",
   "id": "57bba669",
   "metadata": {
    "slideshow": {
     "slide_type": "subslide"
    }
   },
   "source": [
    "### Polishing your paper, presentation, and GitHub repository"
   ]
  },
  {
   "cell_type": "markdown",
   "id": "e3d20cc5",
   "metadata": {
    "slideshow": {
     "slide_type": "fragment"
    }
   },
   "source": [
    "- Aim to wrap this up in the next week or two. Continue to ask your mentor for feedback."
   ]
  }
 ],
 "metadata": {
  "celltoolbar": "Slideshow",
  "kernelspec": {
   "display_name": "Python 3 (ipykernel)",
   "language": "python",
   "name": "python3"
  },
  "language_info": {
   "codemirror_mode": {
    "name": "ipython",
    "version": 3
   },
   "file_extension": ".py",
   "mimetype": "text/x-python",
   "name": "python",
   "nbconvert_exporter": "python",
   "pygments_lexer": "ipython3",
   "version": "3.9.12"
  },
  "toc": {
   "base_numbering": 1,
   "nav_menu": {},
   "number_sections": true,
   "sideBar": false,
   "skip_h1_title": true,
   "title_cell": "Table of Contents",
   "title_sidebar": "Contents",
   "toc_cell": false,
   "toc_position": {
    "height": "261.733px",
    "left": "1954.92px",
    "top": "926.977px",
    "width": "301.435px"
   },
   "toc_section_display": true,
   "toc_window_display": true
  },
  "varInspector": {
   "cols": {
    "lenName": 16,
    "lenType": 16,
    "lenVar": 40
   },
   "kernels_config": {
    "python": {
     "delete_cmd_postfix": "",
     "delete_cmd_prefix": "del ",
     "library": "var_list.py",
     "varRefreshCmd": "print(var_dic_list())"
    },
    "r": {
     "delete_cmd_postfix": ") ",
     "delete_cmd_prefix": "rm(",
     "library": "var_list.r",
     "varRefreshCmd": "cat(var_dic_list()) "
    }
   },
   "types_to_exclude": [
    "module",
    "function",
    "builtin_function_or_method",
    "instance",
    "_Feature"
   ],
   "window_display": false
  }
 },
 "nbformat": 4,
 "nbformat_minor": 5
}
