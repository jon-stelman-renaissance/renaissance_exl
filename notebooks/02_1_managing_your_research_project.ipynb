{
 "cells": [
  {
   "cell_type": "markdown",
   "metadata": {
    "slideshow": {
     "slide_type": "slide"
    },
    "tags": []
   },
   "source": [
    "# Managing Your Research Project\n",
    "_Renaissance Experiential Learning Program_  \n",
    "_Renaissance Learning, 2024_  "
   ]
  },
  {
   "cell_type": "markdown",
   "metadata": {
    "jp-MarkdownHeadingCollapsed": true,
    "slideshow": {
     "slide_type": "slide"
    },
    "tags": []
   },
   "source": [
    "## Overview"
   ]
  },
  {
   "cell_type": "markdown",
   "metadata": {
    "slideshow": {
     "slide_type": "fragment"
    }
   },
   "source": [
    "**[Recap & Housekeeping](#Recap)**  \n",
    "1. Norms\n",
    "2. Follow Up\n",
    "3. Housekeeping\n",
    "\n",
    "<br>\n",
    "\n",
    "**[Project Management](#Project-Management)**\n",
    "1. Note-taking\n",
    "2. Outline\n",
    "3. Jira\n",
    "\n",
    "<br>\n",
    "\n",
    "**[Projects, Git, and GitHub](#Projects,-Git,-and-GitHub)**\n",
    "1. Folder structure\n",
    "2. git\n",
    "3. GitHub\n",
    "\n",
    "<br>\n",
    "\n",
    "**[Getting Started in Python](#Getting-Started-in-Python)**\n",
    "\n",
    "<br>\n",
    "\n",
    "**[Wrap Up](#Wrap-Up)**"
   ]
  },
  {
   "cell_type": "markdown",
   "metadata": {
    "slideshow": {
     "slide_type": "slide"
    }
   },
   "source": [
    "## Recap"
   ]
  },
  {
   "cell_type": "markdown",
   "metadata": {
    "slideshow": {
     "slide_type": "slide"
    }
   },
   "source": [
    "### Norms\n",
    "1. Treat everyone with respect\n",
    "2. Support one another\n",
    "3. What happens in EXL stays in EXL"
   ]
  },
  {
   "cell_type": "markdown",
   "metadata": {
    "slideshow": {
     "slide_type": "subslide"
    }
   },
   "source": [
    "### Follow Up\n",
    "\n",
    "Everyone should have...\n",
    "- Completed and shared their Research Question Guide\n",
    "- Met with their Coach\n",
    "- Installed and set up Anaconda, Jupyter, and GitHub Desktop\n",
    "- Signed and their Photo Release Form\n",
    "- Complete the Doodle Poll for scheduling Showcase"
   ]
  },
  {
   "cell_type": "markdown",
   "metadata": {
    "slideshow": {
     "slide_type": "subslide"
    }
   },
   "source": [
    "### Housekeeping"
   ]
  },
  {
   "cell_type": "markdown",
   "metadata": {
    "slideshow": {
     "slide_type": "fragment"
    }
   },
   "source": [
    "- [Syllabus](https://docs.google.com/document/d/1PXIEQ1SO02-ZPZinlyvhaSkiJeWBd0KyvMzh49aq9fs/edit?usp=sharing) (subject to change)"
   ]
  },
  {
   "cell_type": "markdown",
   "metadata": {
    "slideshow": {
     "slide_type": "fragment"
    }
   },
   "source": [
    "- [Doodle Poll](https://doodle.com/meeting/participate/id/elM3Ylga) (EXL Showcase Scheduling)"
   ]
  },
  {
   "cell_type": "markdown",
   "metadata": {
    "slideshow": {
     "slide_type": "fragment"
    }
   },
   "source": [
    "- [Weekly Review Form](https://forms.office.com/r/rCr02vZzHD)"
   ]
  },
  {
   "cell_type": "markdown",
   "metadata": {
    "slideshow": {
     "slide_type": "fragment"
    }
   },
   "source": [
    "- Research Question"
   ]
  },
  {
   "cell_type": "markdown",
   "metadata": {
    "slideshow": {
     "slide_type": "slide"
    },
    "tags": []
   },
   "source": [
    "## Project Management"
   ]
  },
  {
   "cell_type": "markdown",
   "metadata": {
    "slideshow": {
     "slide_type": "subslide"
    }
   },
   "source": [
    "### Note taking"
   ]
  },
  {
   "cell_type": "markdown",
   "metadata": {
    "slideshow": {
     "slide_type": "fragment"
    }
   },
   "source": [
    "- Use as few documents as possible\n",
    "    1. Meeting notes - suggestions, next steps\n",
    "    2. Research notes - resources, notes, ideas, issues\n",
    "    3. Outline"
   ]
  },
  {
   "cell_type": "markdown",
   "metadata": {
    "slideshow": {
     "slide_type": "subslide"
    }
   },
   "source": [
    "#### Resources"
   ]
  },
  {
   "cell_type": "markdown",
   "metadata": {
    "slideshow": {
     "slide_type": "fragment"
    }
   },
   "source": [
    "- Always record...\n",
    "    - Date found\n",
    "    - URL\n",
    "    - Description of site (who are they, why should they be trusted)\n",
    "    - Description of data"
   ]
  },
  {
   "cell_type": "markdown",
   "metadata": {
    "jp-MarkdownHeadingCollapsed": true,
    "slideshow": {
     "slide_type": "slide"
    },
    "tags": []
   },
   "source": [
    "### Outline\n"
   ]
  },
  {
   "cell_type": "markdown",
   "metadata": {
    "slideshow": {
     "slide_type": "fragment"
    }
   },
   "source": [
    "- [EXL Outline Template](https://docs.google.com/document/d/1Rf7loeq-qJ7qGhbofhgwOulVcxisLwlNtZRkfdD2SUc/edit?usp=sharing)"
   ]
  },
  {
   "cell_type": "markdown",
   "metadata": {
    "slideshow": {
     "slide_type": "fragment"
    }
   },
   "source": [
    "- If you use this template as you research, your paper will practically write itself"
   ]
  },
  {
   "cell_type": "markdown",
   "metadata": {
    "slideshow": {
     "slide_type": "slide"
    }
   },
   "source": [
    "#### Sections of your paper"
   ]
  },
  {
   "cell_type": "markdown",
   "metadata": {
    "slideshow": {
     "slide_type": "fragment"
    }
   },
   "source": [
    "1. Title Page\n",
    "2. Introduction\n",
    "3. Data\n",
    "4. Methodology\n",
    "5. Discussion\n",
    "6. References\n",
    "7. Appendix"
   ]
  },
  {
   "cell_type": "markdown",
   "metadata": {
    "slideshow": {
     "slide_type": "slide"
    }
   },
   "source": [
    "#### Examples"
   ]
  },
  {
   "cell_type": "markdown",
   "metadata": {
    "slideshow": {
     "slide_type": "fragment"
    }
   },
   "source": [
    "See [EXL Deliverables](https://docs.google.com/document/d/18WEk9NDMmqRufaxj0_Fp3PCYSSyw0KmisanYhvcpeRI/edit?usp=sharing) for some examples\n",
    "- [Detecting Cheaters in MOOCs Using Item Response Theory and Learning Analytics (Alexandron, Chen, Lee, & Pritchard, 2016)](https://drive.google.com/file/d/1svcyCIHe9cYT_-MEGTZPIx3HFaVNAc27/view?usp=sharing)\n",
    "- [The Four-Parameter Logistic Item Response Theory Model As a Robust Method of Estimating Ability Despite Aberrant Responses (Liao, Ho, Yen, & Cheng, 2012)](https://drive.google.com/file/d/1sevJrnz5QVZGtSU5YWpNKO6_Y1-agbQk/view?usp=sharing)"
   ]
  },
  {
   "cell_type": "markdown",
   "metadata": {
    "slideshow": {
     "slide_type": "slide"
    }
   },
   "source": [
    "### Jira\n",
    "[Projects](https://renaissance-exl.atlassian.net/jira/projects?selectedProjectType=software)\n",
    "- Roadmap\n",
    "- Backlog\n",
    "- Kanban Board\n"
   ]
  },
  {
   "cell_type": "markdown",
   "metadata": {
    "slideshow": {
     "slide_type": "slide"
    }
   },
   "source": [
    "## Projects, Git, and GitHub\n",
    "\n",
    "- Project folder structure\n",
    "- git\n",
    "- GitHub"
   ]
  },
  {
   "cell_type": "markdown",
   "metadata": {
    "slideshow": {
     "slide_type": "subslide"
    }
   },
   "source": [
    "### Project folder structure"
   ]
  },
  {
   "cell_type": "markdown",
   "metadata": {
    "slideshow": {
     "slide_type": "fragment"
    }
   },
   "source": [
    "- project_name/\n",
    "    - `README.md`\n",
    "    - notebooks/\n",
    "        - `01_exploration.ipynb`\n",
    "        - `02_analysis.ipynb`\n",
    "        - `03_data_visualization.ipynb`\n",
    "    - src/\n",
    "        - `utils.py`\n",
    "        - `plotting.py`\n",
    "    - data/\n",
    "        - `data_set_1.csv`\n",
    "        - `data_set_2.csv`"
   ]
  },
  {
   "cell_type": "markdown",
   "metadata": {
    "slideshow": {
     "slide_type": "slide"
    }
   },
   "source": [
    "### git"
   ]
  },
  {
   "cell_type": "markdown",
   "metadata": {
    "slideshow": {
     "slide_type": "subslide"
    }
   },
   "source": [
    "#### Why git?"
   ]
  },
  {
   "cell_type": "markdown",
   "metadata": {
    "slideshow": {
     "slide_type": "fragment"
    }
   },
   "source": [
    "Version control\n",
    "- file changes\n",
    "    - when\n",
    "    - author\n",
    "    - specific lines altered"
   ]
  },
  {
   "cell_type": "markdown",
   "metadata": {
    "slideshow": {
     "slide_type": "fragment"
    }
   },
   "source": [
    "- show entire history of code"
   ]
  },
  {
   "cell_type": "markdown",
   "metadata": {
    "slideshow": {
     "slide_type": "fragment"
    }
   },
   "source": [
    "- reverse changes"
   ]
  },
  {
   "cell_type": "markdown",
   "metadata": {
    "slideshow": {
     "slide_type": "fragment"
    }
   },
   "source": [
    "- have multiple versions of code and other files simultaneously"
   ]
  },
  {
   "cell_type": "markdown",
   "metadata": {
    "slideshow": {
     "slide_type": "fragment"
    }
   },
   "source": [
    "`Research paper v2.1_final.docx`"
   ]
  },
  {
   "cell_type": "markdown",
   "metadata": {
    "slideshow": {
     "slide_type": "fragment"
    }
   },
   "source": [
    "<HTML>\n",
    "    <font size=\"32\" color=\"#9900FF\" text-shadow=2px 2px 5px red;>\n",
    "        <strong>--- NEVER AGAIN!</strong>\n",
    "    </font>\n",
    "</HTML>"
   ]
  },
  {
   "cell_type": "markdown",
   "metadata": {
    "slideshow": {
     "slide_type": "subslide"
    }
   },
   "source": [
    "#### Commands\n",
    "- **clone** - copy a remote repository onto your local machine\n",
    "- **add** - add changed files to the stage\n",
    "- **commit** - register the changes at a specific moment in time\n",
    "- **push** - move your changes to the remote repository"
   ]
  },
  {
   "cell_type": "markdown",
   "metadata": {
    "slideshow": {
     "slide_type": "subslide"
    }
   },
   "source": [
    "#### Ways to use git\n",
    "- command line\n",
    "- GitHub Desktop"
   ]
  },
  {
   "cell_type": "markdown",
   "metadata": {
    "slideshow": {
     "slide_type": "slide"
    }
   },
   "source": [
    "### GitHub"
   ]
  },
  {
   "cell_type": "markdown",
   "metadata": {
    "slideshow": {
     "slide_type": "subslide"
    }
   },
   "source": [
    "- A place online to host git-tracked code repositories\n",
    "- The vast majority of companies (~80+ %) use GitHub to maintain their code\n",
    "- GitHub supports both private and public repositories"
   ]
  },
  {
   "cell_type": "markdown",
   "metadata": {
    "slideshow": {
     "slide_type": "subslide"
    }
   },
   "source": [
    "#### Why GitHub"
   ]
  },
  {
   "cell_type": "markdown",
   "metadata": {
    "slideshow": {
     "slide_type": "fragment"
    }
   },
   "source": [
    "- It's super easy to share code\n",
    "- Most tech companies will expect you to use it\n",
    "- Your code on GitHub shows future employers the quality of work you do"
   ]
  },
  {
   "cell_type": "markdown",
   "metadata": {
    "slideshow": {
     "slide_type": "slide"
    }
   },
   "source": [
    "## Getting Started in Python\n",
    "See notebook `02_2_getting_started_in_python.ipynb`"
   ]
  },
  {
   "cell_type": "markdown",
   "metadata": {
    "slideshow": {
     "slide_type": "slide"
    }
   },
   "source": [
    "## Wrap Up"
   ]
  },
  {
   "cell_type": "markdown",
   "metadata": {
    "slideshow": {
     "slide_type": "fragment"
    }
   },
   "source": [
    "**Project Organization**\n",
    "- Make a copy of the Outline Template\n",
    "- Go to Jira and move this week's tasks from \"Backlog\" to \"To Do\"\n",
    "- Review your weekly tasks with your Coach"
   ]
  },
  {
   "cell_type": "markdown",
   "metadata": {
    "slideshow": {
     "slide_type": "fragment"
    }
   },
   "source": [
    "**GitHub**\n",
    "- Create a GitHub account and add a repository for your project\n",
    "- **Clone** the repository to your computer\n",
    "- Organize your repository as described\n",
    "- Create a new notebook and open a data file with `pandas`\n",
    "- Commit and push changes to the `remote` (GitHub)\n",
    "- Post a link to your project repository in our cohort's Slack channel"
   ]
  },
  {
   "cell_type": "markdown",
   "metadata": {
    "slideshow": {
     "slide_type": "subslide"
    }
   },
   "source": [
    "### To Do\n",
    "ASAP (if not done)\n",
    "- **Photo Release Form**\n",
    "- **Doodle Poll** for Showcase Scheduling\n",
    "- Share **Google Drive Folder** w/ Jon + Coach\n",
    "- Share **Research Question Guide** w/ Jon + Coach"
   ]
  },
  {
   "cell_type": "markdown",
   "metadata": {
    "slideshow": {
     "slide_type": "fragment"
    }
   },
   "source": [
    "End-of-week\n",
    "- Complete **Weekly Review Form**\n",
    "- Post your **Research Question** in Slack (`#research`)\n",
    "- Share your **GitHub project repository** in Slack (`#python`)\n",
    "- Other **Project Organization** and **GitHub** tasks above\n",
    "- Begin `coding`!"
   ]
  },
  {
   "cell_type": "markdown",
   "metadata": {
    "slideshow": {
     "slide_type": "slide"
    }
   },
   "source": [
    "# Thank you!"
   ]
  }
 ],
 "metadata": {
  "celltoolbar": "Slideshow",
  "kernelspec": {
   "display_name": "Python 3 (ipykernel)",
   "language": "python",
   "name": "python3"
  },
  "language_info": {
   "codemirror_mode": {
    "name": "ipython",
    "version": 3
   },
   "file_extension": ".py",
   "mimetype": "text/x-python",
   "name": "python",
   "nbconvert_exporter": "python",
   "pygments_lexer": "ipython3",
   "version": "3.9.12"
  },
  "toc": {
   "base_numbering": "1",
   "nav_menu": {},
   "number_sections": true,
   "sideBar": false,
   "skip_h1_title": true,
   "title_cell": "Table of Contents",
   "title_sidebar": "Contents",
   "toc_cell": false,
   "toc_position": {
    "height": "540.234px",
    "left": "2049.01px",
    "top": "211.113px",
    "width": "286.953px"
   },
   "toc_section_display": true,
   "toc_window_display": true
  },
  "toc-autonumbering": true,
  "toc-showcode": false,
  "toc-showmarkdowntxt": false,
  "toc-showtags": false,
  "varInspector": {
   "cols": {
    "lenName": 16,
    "lenType": 16,
    "lenVar": 40
   },
   "kernels_config": {
    "python": {
     "delete_cmd_postfix": "",
     "delete_cmd_prefix": "del ",
     "library": "var_list.py",
     "varRefreshCmd": "print(var_dic_list())"
    },
    "r": {
     "delete_cmd_postfix": ") ",
     "delete_cmd_prefix": "rm(",
     "library": "var_list.r",
     "varRefreshCmd": "cat(var_dic_list()) "
    }
   },
   "types_to_exclude": [
    "module",
    "function",
    "builtin_function_or_method",
    "instance",
    "_Feature"
   ],
   "window_display": false
  },
  "vscode": {
   "interpreter": {
    "hash": "9f1c6700f8dcc3c8b802ccdc9e52d271fe55d2c284c954b3cb9ffc9931b25ba7"
   }
  }
 },
 "nbformat": 4,
 "nbformat_minor": 4
}
