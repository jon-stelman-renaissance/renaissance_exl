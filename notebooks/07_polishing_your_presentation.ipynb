{
 "cells": [
  {
   "cell_type": "markdown",
   "id": "991b7e42",
   "metadata": {
    "slideshow": {
     "slide_type": "slide"
    }
   },
   "source": [
    "# Polishing Your Presentation\n",
    "_Renaissance EXL_  \n",
    "_Renaissance Learning, 2023_  "
   ]
  },
  {
   "cell_type": "markdown",
   "id": "827120ef",
   "metadata": {
    "slideshow": {
     "slide_type": "slide"
    }
   },
   "source": [
    "## Today's Session\n",
    "\n",
    "1. Housekeeping  \n",
    "    - Scheduling the Showcase  \n",
    "  \n",
    "  \n",
    "2. Share updates and ask questions\n",
    "    - Show off 1 graph / finding from the last week\n",
    "    - General Q & A\n",
    "  \n",
    "  \n",
    "3. Polishing your presentation\n",
    "    - Cleaning up notebooks\n",
    "    - Tidying your GitHub repository\n",
    "    - Finalize Paper\n",
    "    - Organize Slides\n",
    "  \n",
    "  \n",
    "4. Wrap up"
   ]
  },
  {
   "cell_type": "markdown",
   "id": "f89aa6fe",
   "metadata": {
    "slideshow": {
     "slide_type": "slide"
    }
   },
   "source": [
    "## Housekeeping"
   ]
  },
  {
   "cell_type": "markdown",
   "id": "bbecdb1f",
   "metadata": {
    "slideshow": {
     "slide_type": "subslide"
    }
   },
   "source": [
    "### Scheduling for the Showcase"
   ]
  },
  {
   "cell_type": "markdown",
   "id": "5ad09937",
   "metadata": {
    "slideshow": {
     "slide_type": "fragment"
    }
   },
   "source": [
    "Thanks for submitting your Doodle polls. The only times that seems to work for all are on Monday, August 14th\n",
    "* 1–2pm CT\n",
    "* 2–3pm CT\n"
   ]
  },
  {
   "cell_type": "markdown",
   "id": "549e4fe9",
   "metadata": {
    "slideshow": {
     "slide_type": "fragment"
    }
   },
   "source": [
    "This is **13 days away!**"
   ]
  },
  {
   "cell_type": "markdown",
   "id": "9d1e4e03",
   "metadata": {
    "slideshow": {
     "slide_type": "slide"
    }
   },
   "source": [
    "## Share out!\n",
    "### Show off 1 graph or key finding from the last week"
   ]
  },
  {
   "cell_type": "markdown",
   "id": "56a3e5bd",
   "metadata": {
    "slideshow": {
     "slide_type": "fragment"
    }
   },
   "source": [
    "### General Q & A"
   ]
  },
  {
   "cell_type": "markdown",
   "id": "c993c698",
   "metadata": {
    "slideshow": {
     "slide_type": "slide"
    }
   },
   "source": [
    "## Polishing your presentation"
   ]
  },
  {
   "cell_type": "markdown",
   "id": "8c0a0373",
   "metadata": {
    "slideshow": {
     "slide_type": "subslide"
    }
   },
   "source": [
    "- Cleaning up notebooks\n",
    "- Tidying your GitHub repository\n",
    "- Finalize Paper\n",
    "- Organize Slides"
   ]
  },
  {
   "cell_type": "markdown",
   "id": "4b3f2113",
   "metadata": {
    "slideshow": {
     "slide_type": "subslide"
    }
   },
   "source": [
    "### Cleaning notebooks"
   ]
  },
  {
   "cell_type": "markdown",
   "id": "5a5f71c0",
   "metadata": {
    "slideshow": {
     "slide_type": "fragment"
    }
   },
   "source": [
    "- Make sure your notebooks have human readable names"
   ]
  },
  {
   "cell_type": "markdown",
   "id": "0c0f5653",
   "metadata": {
    "slideshow": {
     "slide_type": "fragment"
    }
   },
   "source": [
    "- If you have multiple notebooks, prefix the names with a number so viewers will read them in the right order.\n",
    "    * `1_exploration.ipynb`\n",
    "    * `2_analysis.ipynb`\n",
    "    * `3_data_visualization.ipynb`"
   ]
  },
  {
   "cell_type": "markdown",
   "id": "c5ca9ad7",
   "metadata": {
    "slideshow": {
     "slide_type": "fragment"
    }
   },
   "source": [
    "- Notebooks should make sense when read from top to bottom"
   ]
  },
  {
   "cell_type": "markdown",
   "id": "0502a9aa",
   "metadata": {
    "slideshow": {
     "slide_type": "fragment"
    }
   },
   "source": [
    "-  You should be able to do `Kernel -> Restart & Run All` without any errors."
   ]
  },
  {
   "cell_type": "markdown",
   "id": "26914cae",
   "metadata": {
    "slideshow": {
     "slide_type": "fragment"
    }
   },
   "source": [
    "- Your notebooks should have clear sections, indicated by markdown, and text to explain what each section does."
   ]
  },
  {
   "cell_type": "markdown",
   "id": "326c3439",
   "metadata": {
    "slideshow": {
     "slide_type": "subslide"
    }
   },
   "source": [
    "### Tidying your GitHub repository"
   ]
  },
  {
   "cell_type": "markdown",
   "id": "f46646ae",
   "metadata": {
    "slideshow": {
     "slide_type": "fragment"
    }
   },
   "source": [
    "- Create a `README.md` file that explains the summary of your research and mentions your data sources."
   ]
  },
  {
   "cell_type": "markdown",
   "id": "ac735e2a",
   "metadata": {
    "slideshow": {
     "slide_type": "fragment"
    }
   },
   "source": [
    "- Remember to use an organized folder structure:"
   ]
  },
  {
   "cell_type": "markdown",
   "id": "4c8d768a",
   "metadata": {
    "slideshow": {
     "slide_type": "fragment"
    }
   },
   "source": [
    "- `project_name/`\n",
    "    - `README.md`\n",
    "    - `final_paper.pdf`\n",
    "    - `showcase_presentation.pdf`\n",
    "    \n",
    "    - `notebooks/`\n",
    "        - `1_exploration.ipynb`\n",
    "        - `2_analysis.ipynb`\n",
    "        - `3_data_visualization.ipynb`\n",
    "    - `src/`\n",
    "        - `utils.py`\n",
    "        - `plotting.py`\n",
    "    - `data/`\n",
    "        - `data_set_1.csv`\n",
    "        - `data_set_2.csv`"
   ]
  },
  {
   "cell_type": "markdown",
   "id": "2277a74b",
   "metadata": {
    "slideshow": {
     "slide_type": "subslide"
    }
   },
   "source": [
    "#### Advanced"
   ]
  },
  {
   "cell_type": "markdown",
   "id": "50d057d1",
   "metadata": {
    "slideshow": {
     "slide_type": "fragment"
    }
   },
   "source": [
    "- Add a `.gitignore` file to clean up any irrelevant system files"
   ]
  },
  {
   "cell_type": "markdown",
   "id": "dd52024e",
   "metadata": {
    "slideshow": {
     "slide_type": "fragment"
    }
   },
   "source": [
    "- Add a `requirements.txt` file (or equivalaent) so others can reproduce your work"
   ]
  },
  {
   "cell_type": "markdown",
   "id": "d1c79888",
   "metadata": {
    "slideshow": {
     "slide_type": "slide"
    }
   },
   "source": [
    "### Finalize Paper"
   ]
  },
  {
   "cell_type": "markdown",
   "id": "55bedff2",
   "metadata": {
    "slideshow": {
     "slide_type": "fragment"
    }
   },
   "source": [
    "As you prepare to make a final paper, start to consider the presentation:\n",
    "- Title page\n",
    "- Font sizes, margins, etc.\n",
    "- References and appendix"
   ]
  },
  {
   "cell_type": "markdown",
   "id": "bcfad6b1",
   "metadata": {
    "slideshow": {
     "slide_type": "fragment"
    }
   },
   "source": [
    "- File format -- export to `.pdf` and save "
   ]
  },
  {
   "cell_type": "markdown",
   "id": "b92e470d",
   "metadata": {
    "slideshow": {
     "slide_type": "slide"
    }
   },
   "source": [
    "### Organize Slides"
   ]
  },
  {
   "cell_type": "markdown",
   "id": "479e4989",
   "metadata": {
    "slideshow": {
     "slide_type": "fragment"
    }
   },
   "source": [
    "- Create a skeleton of your paper, with 1-3 slides for each section of your paper"
   ]
  },
  {
   "cell_type": "markdown",
   "id": "ee19f130",
   "metadata": {
    "slideshow": {
     "slide_type": "fragment"
    }
   },
   "source": [
    "- Choose a design template (fonts, backgrounds, colors, etc.)"
   ]
  },
  {
   "cell_type": "markdown",
   "id": "4180ca23",
   "metadata": {
    "slideshow": {
     "slide_type": "fragment"
    }
   },
   "source": [
    "- Add graphs"
   ]
  },
  {
   "cell_type": "markdown",
   "id": "4937135c",
   "metadata": {
    "slideshow": {
     "slide_type": "fragment"
    }
   },
   "source": [
    "- **REHEARSE YOUR PRESENTATION**\n",
    "    - Ensure your can deliver your presentation in **6 minutes**"
   ]
  },
  {
   "cell_type": "markdown",
   "id": "d09f9451",
   "metadata": {
    "slideshow": {
     "slide_type": "subslide"
    }
   },
   "source": [
    "Example: [shaheeraslam02/AirPollution](https://github.com/shaheermaslam02/airpollution)"
   ]
  },
  {
   "cell_type": "markdown",
   "id": "2d6cd675",
   "metadata": {
    "slideshow": {
     "slide_type": "slide"
    }
   },
   "source": [
    "## Wrap Up"
   ]
  },
  {
   "cell_type": "markdown",
   "id": "119b2451",
   "metadata": {
    "slideshow": {
     "slide_type": "subslide"
    }
   },
   "source": [
    "### Todos"
   ]
  },
  {
   "cell_type": "markdown",
   "id": "daa1b79e",
   "metadata": {
    "slideshow": {
     "slide_type": "fragment"
    }
   },
   "source": [
    "1. Post updates on your research project in the `#python`, `#research`, and `#data-visualization` channels"
   ]
  },
  {
   "cell_type": "markdown",
   "id": "3f676535",
   "metadata": {
    "slideshow": {
     "slide_type": "fragment"
    }
   },
   "source": [
    "2. Reply to at least 2 others' postings\n",
    "    - A question about the project\n",
    "    - A suggestion\n",
    "    - Anything else you want to say!"
   ]
  }
 ],
 "metadata": {
  "celltoolbar": "Slideshow",
  "kernelspec": {
   "display_name": "Python 3 (ipykernel)",
   "language": "python",
   "name": "python3"
  },
  "language_info": {
   "codemirror_mode": {
    "name": "ipython",
    "version": 3
   },
   "file_extension": ".py",
   "mimetype": "text/x-python",
   "name": "python",
   "nbconvert_exporter": "python",
   "pygments_lexer": "ipython3",
   "version": "3.9.12"
  },
  "toc": {
   "base_numbering": 1,
   "nav_menu": {},
   "number_sections": true,
   "sideBar": false,
   "skip_h1_title": true,
   "title_cell": "Table of Contents",
   "title_sidebar": "Contents",
   "toc_cell": false,
   "toc_position": {
    "height": "241.641px",
    "left": "2252.44px",
    "top": "0px",
    "width": "252.562px"
   },
   "toc_section_display": true,
   "toc_window_display": true
  },
  "varInspector": {
   "cols": {
    "lenName": 16,
    "lenType": 16,
    "lenVar": 40
   },
   "kernels_config": {
    "python": {
     "delete_cmd_postfix": "",
     "delete_cmd_prefix": "del ",
     "library": "var_list.py",
     "varRefreshCmd": "print(var_dic_list())"
    },
    "r": {
     "delete_cmd_postfix": ") ",
     "delete_cmd_prefix": "rm(",
     "library": "var_list.r",
     "varRefreshCmd": "cat(var_dic_list()) "
    }
   },
   "types_to_exclude": [
    "module",
    "function",
    "builtin_function_or_method",
    "instance",
    "_Feature"
   ],
   "window_display": false
  }
 },
 "nbformat": 4,
 "nbformat_minor": 5
}
