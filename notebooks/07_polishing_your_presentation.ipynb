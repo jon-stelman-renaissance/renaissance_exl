{
 "cells": [
  {
   "cell_type": "markdown",
   "id": "991b7e42",
   "metadata": {
    "slideshow": {
     "slide_type": "slide"
    }
   },
   "source": [
    "# Polishing Your Presentation\n",
    "_Renaissance Experiential Learning Program_  \n",
    "_Renaissance Learning, 2024_  \n",
    "  \n",
    "With our research coming together, we are now putting the finishing touches on our paper / data story, and our focus is on sharing the research with a general audience in the form of a presentation."
   ]
  },
  {
   "cell_type": "markdown",
   "id": "827120ef",
   "metadata": {
    "slideshow": {
     "slide_type": "slide"
    }
   },
   "source": [
    "## Today's Session\n",
    "\n",
    "1. Housekeeping  \n",
    "    - Scheduling the Showcase "
   ]
  },
  {
   "cell_type": "markdown",
   "id": "b3188b5d",
   "metadata": {
    "slideshow": {
     "slide_type": "fragment"
    }
   },
   "source": [
    "2. Share updates and ask questions\n",
    "    - Show off 1 graph / finding from the last week\n",
    "    - General Q & A"
   ]
  },
  {
   "cell_type": "markdown",
   "id": "7a136768",
   "metadata": {
    "slideshow": {
     "slide_type": "fragment"
    }
   },
   "source": [
    "3. Polishing your presentation\n",
    "    - Cleaning up notebooks\n",
    "    - Tidying your GitHub repository\n",
    "    - Finalize Paper\n",
    "    - Organize Slides"
   ]
  },
  {
   "cell_type": "markdown",
   "id": "de6809ed",
   "metadata": {
    "slideshow": {
     "slide_type": "fragment"
    }
   },
   "source": [
    "4. Wrap up"
   ]
  },
  {
   "cell_type": "markdown",
   "id": "f89aa6fe",
   "metadata": {
    "slideshow": {
     "slide_type": "slide"
    }
   },
   "source": [
    "## Housekeeping"
   ]
  },
  {
   "cell_type": "markdown",
   "id": "bbecdb1f",
   "metadata": {
    "slideshow": {
     "slide_type": "subslide"
    }
   },
   "source": [
    "### Showcase Schedule"
   ]
  },
  {
   "cell_type": "markdown",
   "id": "5ad09937",
   "metadata": {
    "slideshow": {
     "slide_type": "fragment"
    }
   },
   "source": [
    "Invitations to the Showcase are being sent to all Renaissance employees.\n",
    "\n",
    "> **Friday, August 16th, 11am - 12pm CT**"
   ]
  },
  {
   "cell_type": "markdown",
   "id": "549e4fe9",
   "metadata": {
    "slideshow": {
     "slide_type": "fragment"
    }
   },
   "source": [
    "This is **11 days away!**"
   ]
  },
  {
   "cell_type": "markdown",
   "id": "9835b32e",
   "metadata": {
    "slideshow": {
     "slide_type": "fragment"
    }
   },
   "source": [
    "A new Teams meeting invite was to all of you earlier today, replacing the previous meeting \"hold\""
   ]
  },
  {
   "cell_type": "markdown",
   "id": "ee238a14",
   "metadata": {
    "slideshow": {
     "slide_type": "fragment"
    }
   },
   "source": [
    "Please sign-in to the Showcase meeting 5–10 minutes early (10:55am CT)"
   ]
  },
  {
   "cell_type": "markdown",
   "id": "129e0b8c",
   "metadata": {
    "slideshow": {
     "slide_type": "fragment"
    }
   },
   "source": [
    "After the Showcase we'll have a little hang as our final send-off.  \n",
    "Invite was sent out yesterday."
   ]
  },
  {
   "cell_type": "markdown",
   "id": "9d1e4e03",
   "metadata": {
    "slideshow": {
     "slide_type": "slide"
    }
   },
   "source": [
    "## Share out!\n",
    "### Show off 1 graph or key finding from the last week"
   ]
  },
  {
   "cell_type": "markdown",
   "id": "56a3e5bd",
   "metadata": {
    "slideshow": {
     "slide_type": "fragment"
    }
   },
   "source": [
    "### General Q & A"
   ]
  },
  {
   "cell_type": "markdown",
   "id": "c993c698",
   "metadata": {
    "slideshow": {
     "slide_type": "slide"
    }
   },
   "source": [
    "## Polishing your presentation"
   ]
  },
  {
   "cell_type": "markdown",
   "id": "8c0a0373",
   "metadata": {
    "slideshow": {
     "slide_type": "subslide"
    }
   },
   "source": [
    "- Cleaning up notebooks\n",
    "- Tidying your GitHub repository\n",
    "- Finalize Paper\n",
    "- Organize Slides"
   ]
  },
  {
   "cell_type": "markdown",
   "id": "4b3f2113",
   "metadata": {
    "slideshow": {
     "slide_type": "subslide"
    }
   },
   "source": [
    "### Cleaning notebooks"
   ]
  },
  {
   "cell_type": "markdown",
   "id": "5a5f71c0",
   "metadata": {
    "slideshow": {
     "slide_type": "fragment"
    }
   },
   "source": [
    "- Make sure your notebooks have human readable names"
   ]
  },
  {
   "cell_type": "markdown",
   "id": "0c0f5653",
   "metadata": {
    "slideshow": {
     "slide_type": "fragment"
    }
   },
   "source": [
    "- If you have multiple notebooks, prefix the names with a number so viewers will read them in the right order.\n",
    "    * `1_exploration.ipynb`\n",
    "    * `2_analysis.ipynb`\n",
    "    * `3_data_visualization.ipynb`"
   ]
  },
  {
   "cell_type": "markdown",
   "id": "c5ca9ad7",
   "metadata": {
    "slideshow": {
     "slide_type": "fragment"
    }
   },
   "source": [
    "- Notebooks should make sense when read from top to bottom"
   ]
  },
  {
   "cell_type": "markdown",
   "id": "0502a9aa",
   "metadata": {
    "slideshow": {
     "slide_type": "fragment"
    }
   },
   "source": [
    "-  You should be able to do `Kernel -> Restart & Run All` without any errors."
   ]
  },
  {
   "cell_type": "markdown",
   "id": "26914cae",
   "metadata": {
    "slideshow": {
     "slide_type": "fragment"
    }
   },
   "source": [
    "- Your notebooks should have clear sections, indicated by markdown, and text to explain what each section does."
   ]
  },
  {
   "cell_type": "markdown",
   "id": "326c3439",
   "metadata": {
    "slideshow": {
     "slide_type": "subslide"
    }
   },
   "source": [
    "### Tidying your GitHub repository"
   ]
  },
  {
   "cell_type": "markdown",
   "id": "f46646ae",
   "metadata": {
    "slideshow": {
     "slide_type": "fragment"
    }
   },
   "source": [
    "- Create a `README.md` file that explains the summary of your research and mentions your data sources."
   ]
  },
  {
   "cell_type": "markdown",
   "id": "ac735e2a",
   "metadata": {
    "slideshow": {
     "slide_type": "fragment"
    }
   },
   "source": [
    "- Remember to use an organized folder structure:"
   ]
  },
  {
   "cell_type": "markdown",
   "id": "4c8d768a",
   "metadata": {
    "slideshow": {
     "slide_type": "fragment"
    }
   },
   "source": [
    "- `project_name/`\n",
    "    - `README.md`\n",
    "    - `final_paper.pdf`\n",
    "    - `showcase_presentation.pdf`\n",
    "    \n",
    "    - `notebooks/`\n",
    "        - `1_exploration.ipynb`\n",
    "        - `2_analysis.ipynb`\n",
    "        - `3_data_visualization.ipynb`\n",
    "    - `src/`\n",
    "        - `utils.py`\n",
    "        - `plotting.py`\n",
    "    - `data/`\n",
    "        - `data_set_1.csv`\n",
    "        - `data_set_2.csv`"
   ]
  },
  {
   "cell_type": "markdown",
   "id": "2277a74b",
   "metadata": {
    "slideshow": {
     "slide_type": "subslide"
    }
   },
   "source": [
    "#### Advanced"
   ]
  },
  {
   "cell_type": "markdown",
   "id": "50d057d1",
   "metadata": {
    "slideshow": {
     "slide_type": "fragment"
    }
   },
   "source": [
    "- Add a `.gitignore` file to clean up any irrelevant system files"
   ]
  },
  {
   "cell_type": "markdown",
   "id": "dd52024e",
   "metadata": {
    "slideshow": {
     "slide_type": "fragment"
    }
   },
   "source": [
    "- Add a `requirements.txt` file (or equivalaent) so others can reproduce your work"
   ]
  },
  {
   "cell_type": "markdown",
   "id": "d1c79888",
   "metadata": {
    "slideshow": {
     "slide_type": "slide"
    }
   },
   "source": [
    "### Finalize Paper"
   ]
  },
  {
   "cell_type": "markdown",
   "id": "55bedff2",
   "metadata": {
    "slideshow": {
     "slide_type": "fragment"
    }
   },
   "source": [
    "As you are wrapping up your paper draft, start to make changes to your paper style:\n",
    "- Title page\n",
    "- Font sizes, margins, etc.\n",
    "- References and appendix"
   ]
  },
  {
   "cell_type": "markdown",
   "id": "60c1af75",
   "metadata": {
    "slideshow": {
     "slide_type": "fragment"
    }
   },
   "source": [
    "After peer review / and revisions..."
   ]
  },
  {
   "cell_type": "markdown",
   "id": "bcfad6b1",
   "metadata": {
    "slideshow": {
     "slide_type": "fragment"
    }
   },
   "source": [
    "- File format -- export to `.pdf` and save "
   ]
  },
  {
   "cell_type": "markdown",
   "id": "b92e470d",
   "metadata": {
    "slideshow": {
     "slide_type": "slide"
    }
   },
   "source": [
    "### Organize Slides"
   ]
  },
  {
   "cell_type": "markdown",
   "id": "479e4989",
   "metadata": {
    "slideshow": {
     "slide_type": "fragment"
    }
   },
   "source": [
    "- Create a skeleton of your paper, with 1-3 slides for each section of your paper"
   ]
  },
  {
   "cell_type": "markdown",
   "id": "ee19f130",
   "metadata": {
    "slideshow": {
     "slide_type": "fragment"
    }
   },
   "source": [
    "- Choose a design template (fonts, backgrounds, colors, etc.)"
   ]
  },
  {
   "cell_type": "markdown",
   "id": "4180ca23",
   "metadata": {
    "slideshow": {
     "slide_type": "fragment"
    }
   },
   "source": [
    "- Add graphs"
   ]
  },
  {
   "cell_type": "markdown",
   "id": "dd91ba0b",
   "metadata": {
    "slideshow": {
     "slide_type": "subslide"
    }
   },
   "source": [
    "#### Presentation"
   ]
  },
  {
   "cell_type": "markdown",
   "id": "faa25e0b",
   "metadata": {
    "slideshow": {
     "slide_type": "fragment"
    }
   },
   "source": [
    "For the rehearsal and showcase...\n",
    "- We will use a single shared PowerPoint presentation.\n",
    "- I will advance slides (on your command)"
   ]
  },
  {
   "cell_type": "markdown",
   "id": "4937135c",
   "metadata": {
    "slideshow": {
     "slide_type": "fragment"
    }
   },
   "source": [
    "**REHEARSE YOUR PRESENTATION**\n",
    "- Ensure your can deliver your presentation in **6 minutes**.\n",
    "- Work your presentation this week until you can hit that 6-minute goal\n",
    "- We rehearse next Monday, on a timer!\n"
   ]
  },
  {
   "cell_type": "markdown",
   "id": "3d6911f4",
   "metadata": {
    "slideshow": {
     "slide_type": "fragment"
    }
   },
   "source": [
    "**IMPORTANT**  \n",
    "\n",
    "1. Send me a link to your slides by Friday, August 9.\n",
    "2. I will copy your slides into the main deck for the rehearsal on Monday, August 12.\n",
    "3. You will have edit access on the main deck until Wednesday, August 14."
   ]
  },
  {
   "cell_type": "markdown",
   "id": "2d6cd675",
   "metadata": {
    "slideshow": {
     "slide_type": "slide"
    }
   },
   "source": [
    "## Wrap Up"
   ]
  },
  {
   "cell_type": "markdown",
   "id": "36b87933",
   "metadata": {
    "slideshow": {
     "slide_type": "subslide"
    }
   },
   "source": [
    "### Upcoming"
   ]
  },
  {
   "cell_type": "markdown",
   "id": "8dbdf139",
   "metadata": {
    "slideshow": {
     "slide_type": "fragment"
    }
   },
   "source": [
    "1. **Thursday, 8/8, 11:30am CT** — *Career Spotlight - Sheri Yerges, Senior Product Marketing Manager*\n",
    "2. **Monday, 8/12** — *Weekly Group Session: Presentation Rehearsal*\n",
    "3. **Friday, 8/16, 11–12 CT** — *Showcase*\n",
    "3. **Friday, 8/16, 12–12:30 CT** — *After-Showcase Hang*"
   ]
  },
  {
   "cell_type": "markdown",
   "id": "119b2451",
   "metadata": {
    "slideshow": {
     "slide_type": "subslide"
    }
   },
   "source": [
    "### Todos"
   ]
  },
  {
   "cell_type": "markdown",
   "id": "daa1b79e",
   "metadata": {
    "slideshow": {
     "slide_type": "fragment"
    }
   },
   "source": [
    "1. Post updates on your research project in the `#python`, `#research`, and `#data-visualization` channels"
   ]
  },
  {
   "cell_type": "markdown",
   "id": "3f676535",
   "metadata": {
    "slideshow": {
     "slide_type": "fragment"
    }
   },
   "source": [
    "2. Reply to at least 2 others' postings\n",
    "    - A question about the project\n",
    "    - A suggestion\n",
    "    - Anything else you want to say!"
   ]
  },
  {
   "cell_type": "markdown",
   "id": "cc6b2dc7",
   "metadata": {
    "slideshow": {
     "slide_type": "fragment"
    }
   },
   "source": [
    "3. Reminder -- presentation prep schedule\n",
    "    1. Send slides by Friday, August 9.\n",
    "    2. Edit access on the main deck until Wednesday, August 14."
   ]
  }
 ],
 "metadata": {
  "celltoolbar": "Slideshow",
  "kernelspec": {
   "display_name": "Python 3 (ipykernel)",
   "language": "python",
   "name": "python3"
  },
  "language_info": {
   "codemirror_mode": {
    "name": "ipython",
    "version": 3
   },
   "file_extension": ".py",
   "mimetype": "text/x-python",
   "name": "python",
   "nbconvert_exporter": "python",
   "pygments_lexer": "ipython3",
   "version": "3.9.12"
  },
  "toc": {
   "base_numbering": 1,
   "nav_menu": {},
   "number_sections": true,
   "sideBar": false,
   "skip_h1_title": true,
   "title_cell": "Table of Contents",
   "title_sidebar": "Contents",
   "toc_cell": false,
   "toc_position": {
    "height": "241.635px",
    "left": "2136.78px",
    "top": "0px",
    "width": "252.552px"
   },
   "toc_section_display": true,
   "toc_window_display": true
  },
  "varInspector": {
   "cols": {
    "lenName": 16,
    "lenType": 16,
    "lenVar": 40
   },
   "kernels_config": {
    "python": {
     "delete_cmd_postfix": "",
     "delete_cmd_prefix": "del ",
     "library": "var_list.py",
     "varRefreshCmd": "print(var_dic_list())"
    },
    "r": {
     "delete_cmd_postfix": ") ",
     "delete_cmd_prefix": "rm(",
     "library": "var_list.r",
     "varRefreshCmd": "cat(var_dic_list()) "
    }
   },
   "types_to_exclude": [
    "module",
    "function",
    "builtin_function_or_method",
    "instance",
    "_Feature"
   ],
   "window_display": false
  }
 },
 "nbformat": 4,
 "nbformat_minor": 5
}
