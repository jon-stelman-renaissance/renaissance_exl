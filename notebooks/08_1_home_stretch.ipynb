{
 "cells": [
  {
   "cell_type": "markdown",
   "id": "527b09a3",
   "metadata": {
    "slideshow": {
     "slide_type": "slide"
    }
   },
   "source": [
    "# In the Home Stretch!\n",
    "_Renaissance Experiential Learning Program_  \n",
    "_Renaissance Learning, 2024_  \n",
    "  \n",
    "Is the summer over already!? 🤯"
   ]
  },
  {
   "cell_type": "code",
   "execution_count": null,
   "id": "56acf44f",
   "metadata": {
    "slideshow": {
     "slide_type": "fragment"
    }
   },
   "outputs": [],
   "source": [
    "import numpy as np\n",
    "import pandas as pd\n",
    "from random import shuffle"
   ]
  },
  {
   "cell_type": "markdown",
   "id": "d7181147",
   "metadata": {
    "slideshow": {
     "slide_type": "subslide"
    }
   },
   "source": [
    "**Today's Session**\n",
    "1. Showcase Rehearsals\n",
    "2. LinkedIn\n",
    "3. EXL Recap\n",
    "4. What's Next"
   ]
  },
  {
   "cell_type": "markdown",
   "id": "7958216a",
   "metadata": {
    "slideshow": {
     "slide_type": "slide"
    }
   },
   "source": [
    "## Rehearsals!"
   ]
  },
  {
   "cell_type": "code",
   "execution_count": null,
   "id": "d1f9bef8",
   "metadata": {
    "slideshow": {
     "slide_type": "fragment"
    }
   },
   "outputs": [],
   "source": [
    "presenters = ['Aditya', 'Alex', 'Rakshaa', 'Tejas']\n",
    "shuffle(presenters)\n",
    "for i, p in enumerate(presenters):\n",
    "    print(f'{i+1}. {p}')"
   ]
  },
  {
   "cell_type": "markdown",
   "id": "ce2baab9",
   "metadata": {
    "slideshow": {
     "slide_type": "slide"
    }
   },
   "source": [
    "## [LinkedIn.com](https://www.linkedin.com)"
   ]
  },
  {
   "cell_type": "markdown",
   "id": "27b04527",
   "metadata": {
    "slideshow": {
     "slide_type": "fragment"
    }
   },
   "source": [
    "- Why does it matter?"
   ]
  },
  {
   "cell_type": "markdown",
   "id": "b87f1cf1",
   "metadata": {
    "slideshow": {
     "slide_type": "fragment"
    }
   },
   "source": [
    "- Create a profile\n",
    "- Add all of the people you met at Renaissance, and each other"
   ]
  },
  {
   "cell_type": "markdown",
   "id": "76bc5b2e",
   "metadata": {
    "slideshow": {
     "slide_type": "fragment"
    }
   },
   "source": [
    "- In the future, think about growing your network and cultivating your \"brand\""
   ]
  },
  {
   "cell_type": "markdown",
   "id": "7a4ab1a8",
   "metadata": {
    "slideshow": {
     "slide_type": "slide"
    }
   },
   "source": [
    "## EXL Recap"
   ]
  },
  {
   "cell_type": "markdown",
   "id": "206e1210",
   "metadata": {
    "slideshow": {
     "slide_type": "slide"
    }
   },
   "source": [
    "### Renaissance EXL Goals"
   ]
  },
  {
   "cell_type": "markdown",
   "id": "0487e071",
   "metadata": {
    "slideshow": {
     "slide_type": "fragment"
    }
   },
   "source": [
    "- Prepare you for working with data in the real-world"
   ]
  },
  {
   "cell_type": "markdown",
   "id": "7e007fad",
   "metadata": {
    "slideshow": {
     "slide_type": "fragment"
    }
   },
   "source": [
    "- Managing code on your own device"
   ]
  },
  {
   "cell_type": "markdown",
   "id": "f9f9f267",
   "metadata": {
    "slideshow": {
     "slide_type": "fragment"
    }
   },
   "source": [
    "- Commonly-used programming languages"
   ]
  },
  {
   "cell_type": "markdown",
   "id": "44eeeee9",
   "metadata": {
    "slideshow": {
     "slide_type": "fragment"
    }
   },
   "source": [
    "- Managing your own project"
   ]
  },
  {
   "cell_type": "markdown",
   "id": "457a4c9c",
   "metadata": {
    "slideshow": {
     "slide_type": "fragment"
    }
   },
   "source": [
    "- Having a feeling for what parts of data research are most interesting and important to you"
   ]
  },
  {
   "cell_type": "markdown",
   "id": "823918d0",
   "metadata": {
    "slideshow": {
     "slide_type": "fragment"
    }
   },
   "source": [
    "- Giving a foundation for a strong professional profile"
   ]
  },
  {
   "cell_type": "markdown",
   "id": "5a6ad721",
   "metadata": {
    "slideshow": {
     "slide_type": "fragment"
    }
   },
   "source": [
    "- Ensuring you get to see how you can change the world for the better"
   ]
  },
  {
   "cell_type": "markdown",
   "id": "d25caeaa",
   "metadata": {
    "slideshow": {
     "slide_type": "subslide"
    }
   },
   "source": [
    "### How did we do? Help us do better!\n",
    "\n",
    "[Renaissance Experiential Learning Exit Survey](#)"
   ]
  },
  {
   "cell_type": "markdown",
   "id": "2c9078ee",
   "metadata": {
    "slideshow": {
     "slide_type": "slide"
    }
   },
   "source": [
    "## What's Next"
   ]
  },
  {
   "cell_type": "markdown",
   "id": "57bba669",
   "metadata": {
    "slideshow": {
     "slide_type": "subslide"
    }
   },
   "source": [
    "### Polishing your paper, presentation, and GitHub repository"
   ]
  },
  {
   "cell_type": "markdown",
   "id": "e3d20cc5",
   "metadata": {
    "slideshow": {
     "slide_type": "fragment"
    }
   },
   "source": [
    "- Continue to ask your mentor for feedback."
   ]
  },
  {
   "cell_type": "markdown",
   "id": "803ec5ec",
   "metadata": {
    "slideshow": {
     "slide_type": "fragment"
    }
   },
   "source": [
    "- If you have any final changes to your presentation, let me know with Slack message NOW (before this meeting is done)"
   ]
  },
  {
   "cell_type": "markdown",
   "id": "1e32316a",
   "metadata": {
    "slideshow": {
     "slide_type": "fragment"
    }
   },
   "source": [
    "- I need to have all final presentations in the main deck by WEDNESDAY evening."
   ]
  },
  {
   "cell_type": "markdown",
   "id": "e9c06836",
   "metadata": {
    "slideshow": {
     "slide_type": "subslide"
    }
   },
   "source": [
    "### Showcase\n",
    "**Friday, August 16th, 11am - 12pm CT**  "
   ]
  },
  {
   "cell_type": "markdown",
   "id": "e9aa5ed4",
   "metadata": {
    "slideshow": {
     "slide_type": "fragment"
    }
   },
   "source": [
    "Sign in 5 minutes early"
   ]
  },
  {
   "cell_type": "markdown",
   "id": "ee8efe2e",
   "metadata": {
    "slideshow": {
     "slide_type": "fragment"
    }
   },
   "source": [
    "### After Showcase Hang"
   ]
  },
  {
   "cell_type": "markdown",
   "id": "e79a14e0",
   "metadata": {
    "slideshow": {
     "slide_type": "fragment"
    }
   },
   "source": [
    "**Friday, August 16th, 12pm - 12:30pm CT**  \n",
    "(immediately following Showcase)"
   ]
  },
  {
   "cell_type": "markdown",
   "id": "e7d5f742",
   "metadata": {
    "slideshow": {
     "slide_type": "subslide"
    }
   },
   "source": [
    "### Stay in Touch!"
   ]
  }
 ],
 "metadata": {
  "celltoolbar": "Slideshow",
  "kernelspec": {
   "display_name": "Python 3 (ipykernel)",
   "language": "python",
   "name": "python3"
  },
  "language_info": {
   "codemirror_mode": {
    "name": "ipython",
    "version": 3
   },
   "file_extension": ".py",
   "mimetype": "text/x-python",
   "name": "python",
   "nbconvert_exporter": "python",
   "pygments_lexer": "ipython3",
   "version": "3.9.12"
  },
  "toc": {
   "base_numbering": 1,
   "nav_menu": {},
   "number_sections": true,
   "sideBar": false,
   "skip_h1_title": true,
   "title_cell": "Table of Contents",
   "title_sidebar": "Contents",
   "toc_cell": false,
   "toc_position": {
    "height": "261.719px",
    "left": "2018.58px",
    "top": "0px",
    "width": "301.42px"
   },
   "toc_section_display": true,
   "toc_window_display": true
  },
  "varInspector": {
   "cols": {
    "lenName": 16,
    "lenType": 16,
    "lenVar": 40
   },
   "kernels_config": {
    "python": {
     "delete_cmd_postfix": "",
     "delete_cmd_prefix": "del ",
     "library": "var_list.py",
     "varRefreshCmd": "print(var_dic_list())"
    },
    "r": {
     "delete_cmd_postfix": ") ",
     "delete_cmd_prefix": "rm(",
     "library": "var_list.r",
     "varRefreshCmd": "cat(var_dic_list()) "
    }
   },
   "types_to_exclude": [
    "module",
    "function",
    "builtin_function_or_method",
    "instance",
    "_Feature"
   ],
   "window_display": false
  }
 },
 "nbformat": 4,
 "nbformat_minor": 5
}
