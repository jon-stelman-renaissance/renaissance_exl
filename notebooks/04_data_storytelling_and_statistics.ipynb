{
 "cells": [
  {
   "cell_type": "markdown",
   "id": "991b7e42",
   "metadata": {
    "slideshow": {
     "slide_type": "slide"
    }
   },
   "source": [
    "# Data Storytelling & Statistics\n",
    "_Renaissance EXL_  \n",
    "_Renaissance Learning, 2022_  \n",
    "  \n",
    "Now that we have some data and graphing powers to discover patterns and meaning in our data, it's time to start thinking about how we are going to share our discoveries with others."
   ]
  },
  {
   "cell_type": "markdown",
   "id": "827120ef",
   "metadata": {
    "slideshow": {
     "slide_type": "slide"
    }
   },
   "source": [
    "## Today's Session\n",
    "\n",
    "1. Housekeeping  \n",
    "  \n",
    "2. Data Storytelling\n",
    "    - Story Arc\n",
    "    - Understanding your audience\n",
    "    - Notebook organization and markdown\n",
    "\n",
    "3. Statistics I\n",
    "    - Central tendency\n",
    "    - Variance and standard deviation\n",
    "\n",
    "4. Wrap up"
   ]
  },
  {
   "cell_type": "markdown",
   "id": "f89aa6fe",
   "metadata": {
    "slideshow": {
     "slide_type": "slide"
    }
   },
   "source": [
    "## Housekeeping"
   ]
  },
  {
   "cell_type": "markdown",
   "id": "ca14cbfd",
   "metadata": {
    "slideshow": {
     "slide_type": "subslide"
    }
   },
   "source": [
    "### 3 Week Check In"
   ]
  },
  {
   "cell_type": "markdown",
   "id": "049fceaa",
   "metadata": {
    "slideshow": {
     "slide_type": "fragment"
    }
   },
   "source": [
    "We're a little over 1/3 of the way through the summer, and we'd like to quickly check in to find out how we're doing. Please take 5 minutes to complete the **3 Week Check-In Form** at the end of this session..."
   ]
  },
  {
   "cell_type": "markdown",
   "id": "da9aa03d",
   "metadata": {
    "slideshow": {
     "slide_type": "subslide"
    }
   },
   "source": [
    "### Slack postings"
   ]
  },
  {
   "cell_type": "markdown",
   "id": "13fd5ab7",
   "metadata": {
    "slideshow": {
     "slide_type": "fragment"
    }
   },
   "source": [
    "Thanks to everyone who posted screen shots of your graphs and analysis in the `#python` Slack channel! \n",
    "\n",
    "We had few postings in the `#research` channel, so I believe that my request was not clear. An example of a post would be:"
   ]
  },
  {
   "cell_type": "markdown",
   "id": "cd9909e8",
   "metadata": {
    "slideshow": {
     "slide_type": "subslide"
    }
   },
   "source": [
    "> I found three data sources, two from the Environmental Protection Agency, and one from a local city agency. I have to figure out how to combine these into a single data set, but now I have all of the data I need to answer my research question. My analysis is still early, but I saw a couple of patterns in increasing pollution levels that I want to dig into more. The hardest thing in my project so far is that I have a lot of data, and it's hard to decide which of it is useful and which of it should be filtered out."
   ]
  },
  {
   "cell_type": "markdown",
   "id": "334874e0",
   "metadata": {
    "slideshow": {
     "slide_type": "subslide"
    }
   },
   "source": [
    "Let's get some conversation going in the `#research` channel today and tomorrow."
   ]
  },
  {
   "cell_type": "markdown",
   "id": "c993c698",
   "metadata": {
    "slideshow": {
     "slide_type": "slide"
    }
   },
   "source": [
    "## Data Storytelling"
   ]
  },
  {
   "cell_type": "markdown",
   "id": "8c0a0373",
   "metadata": {
    "slideshow": {
     "slide_type": "subslide"
    }
   },
   "source": [
    "### Discuss with a partner"
   ]
  },
  {
   "cell_type": "markdown",
   "id": "2ddece4e",
   "metadata": {
    "slideshow": {
     "slide_type": "subslide"
    }
   },
   "source": [
    "Think of one of your favorite books from childhood...  \n",
    "- Who is the main character / protagonist?\n",
    "- What challenge do they face?\n",
    "- What do you like about the book?\n",
    "\n",
    "Take 2 minutes each.  \n",
    "After discussing, put the book name in our `#exl-summer-2022-cohort` channel."
   ]
  },
  {
   "cell_type": "markdown",
   "id": "3f7e7f8b",
   "metadata": {
    "slideshow": {
     "slide_type": "subslide"
    }
   },
   "source": [
    "### Elements of a good story"
   ]
  },
  {
   "cell_type": "markdown",
   "id": "58541ced",
   "metadata": {
    "slideshow": {
     "slide_type": "fragment"
    }
   },
   "source": [
    "Good stories are memorable"
   ]
  },
  {
   "cell_type": "markdown",
   "id": "c75e5838",
   "metadata": {
    "slideshow": {
     "slide_type": "fragment"
    }
   },
   "source": [
    "- Use repeated language"
   ]
  },
  {
   "cell_type": "markdown",
   "id": "cfe52dfe",
   "metadata": {
    "slideshow": {
     "slide_type": "fragment"
    }
   },
   "source": [
    "- Fun, quirky, or bizarre"
   ]
  },
  {
   "cell_type": "markdown",
   "id": "8f8960c9",
   "metadata": {
    "slideshow": {
     "slide_type": "fragment"
    }
   },
   "source": [
    "- Defy expectations"
   ]
  },
  {
   "cell_type": "markdown",
   "id": "bd33c25e",
   "metadata": {
    "slideshow": {
     "slide_type": "fragment"
    }
   },
   "source": [
    "- Simple to share / re-tell"
   ]
  },
  {
   "cell_type": "markdown",
   "id": "a670e138",
   "metadata": {
    "slideshow": {
     "slide_type": "slide"
    }
   },
   "source": [
    "### Story Arc"
   ]
  },
  {
   "cell_type": "markdown",
   "id": "8af9b2aa",
   "metadata": {
    "slideshow": {
     "slide_type": "fragment"
    }
   },
   "source": [
    "#### Little Red Riding Hood - Powerpoint Edition"
   ]
  },
  {
   "cell_type": "markdown",
   "id": "c7fbb36b",
   "metadata": {
    "slideshow": {
     "slide_type": "fragment"
    }
   },
   "source": [
    "- Little Red Riding Hood (Red) has to walk 0.54 mi from Point A (home) to Point B (Grandma’s)"
   ]
  },
  {
   "cell_type": "markdown",
   "id": "c716fbc9",
   "metadata": {
    "slideshow": {
     "slide_type": "fragment"
    }
   },
   "source": [
    "- Red meets Wolf, who (1) runs ahead to Grandma’s, (2) eats her, and (3) dresses in her clothes "
   ]
  },
  {
   "cell_type": "markdown",
   "id": "46604e81",
   "metadata": {
    "slideshow": {
     "slide_type": "fragment"
    }
   },
   "source": [
    "- Red arrives at Grandma’s at 2PM, asks her three questions"
   ]
  },
  {
   "cell_type": "markdown",
   "id": "d0a95665",
   "metadata": {
    "slideshow": {
     "slide_type": "fragment"
    }
   },
   "source": [
    "- Identified problem: after third question, Wolf eats Red"
   ]
  },
  {
   "cell_type": "markdown",
   "id": "e01b612e",
   "metadata": {
    "slideshow": {
     "slide_type": "fragment"
    }
   },
   "source": [
    "- Solution: vendor (Woodsman) employs tool (ax) "
   ]
  },
  {
   "cell_type": "markdown",
   "id": "37d376c1",
   "metadata": {
    "slideshow": {
     "slide_type": "fragment"
    }
   },
   "source": [
    "- Expected outcome: Grandma and Red alive, wolf is not"
   ]
  },
  {
   "cell_type": "markdown",
   "id": "d3cfde08",
   "metadata": {
    "slideshow": {
     "slide_type": "slide"
    }
   },
   "source": [
    "![narrative arc](../images/narrative-arc)"
   ]
  },
  {
   "cell_type": "markdown",
   "id": "4017eea7",
   "metadata": {
    "slideshow": {
     "slide_type": "slide"
    }
   },
   "source": [
    "![Little Red Riding Hood Arc](../images/little-red-riding-hood-arc.png)"
   ]
  },
  {
   "cell_type": "markdown",
   "id": "e044d995",
   "metadata": {
    "slideshow": {
     "slide_type": "slide"
    }
   },
   "source": [
    "### Understanding your audience"
   ]
  },
  {
   "cell_type": "markdown",
   "id": "f27a3cb0",
   "metadata": {
    "slideshow": {
     "slide_type": "fragment"
    }
   },
   "source": [
    "The same story can be adapted for different audiences..."
   ]
  },
  {
   "cell_type": "markdown",
   "id": "a7609d3d",
   "metadata": {
    "slideshow": {
     "slide_type": "fragment"
    }
   },
   "source": [
    "<img src=\"../images/little-red-riding-hood.png\" alt=\"Little Red Riding Hood\" width=\"400\"/>"
   ]
  },
  {
   "cell_type": "markdown",
   "id": "6f701189",
   "metadata": {
    "slideshow": {
     "slide_type": "subslide"
    }
   },
   "source": [
    "<img src=\"../images/red-riding-hood.jpg.webp\" alt=\"Red Riding Hood\" width=\"400\"/>"
   ]
  },
  {
   "cell_type": "markdown",
   "id": "af2868ee",
   "metadata": {
    "slideshow": {
     "slide_type": "subslide"
    }
   },
   "source": [
    "You will have to tell your data research story to 3 different audiences:"
   ]
  },
  {
   "cell_type": "markdown",
   "id": "9fcd5c3c",
   "metadata": {
    "slideshow": {
     "slide_type": "fragment"
    }
   },
   "source": [
    "1. **Presentation:** General audience"
   ]
  },
  {
   "cell_type": "markdown",
   "id": "eebc0c64",
   "metadata": {
    "slideshow": {
     "slide_type": "fragment"
    }
   },
   "source": [
    "2. **Paper:** Expert audience, but tell the story without code or exposing writing out all the math"
   ]
  },
  {
   "cell_type": "markdown",
   "id": "39a04655",
   "metadata": {
    "slideshow": {
     "slide_type": "fragment"
    }
   },
   "source": [
    "3. **GitHub:** Job admissions - technical focus, all technical details on display"
   ]
  },
  {
   "cell_type": "markdown",
   "id": "e9fc96f7",
   "metadata": {
    "slideshow": {
     "slide_type": "slide"
    }
   },
   "source": [
    "### Notebook Organization and Markdown"
   ]
  },
  {
   "cell_type": "markdown",
   "id": "ba1e2c72",
   "metadata": {
    "slideshow": {
     "slide_type": "subslide"
    }
   },
   "source": []
  },
  {
   "cell_type": "markdown",
   "id": "141f93b4",
   "metadata": {
    "slideshow": {
     "slide_type": "slide"
    }
   },
   "source": [
    "## Statistics I"
   ]
  },
  {
   "cell_type": "markdown",
   "id": "8c45bc89",
   "metadata": {
    "slideshow": {
     "slide_type": "fragment"
    }
   },
   "source": [
    "Let's load the iris data set."
   ]
  },
  {
   "cell_type": "code",
   "execution_count": 1,
   "id": "719996d3",
   "metadata": {
    "scrolled": true,
    "slideshow": {
     "slide_type": "fragment"
    }
   },
   "outputs": [
    {
     "name": "stdout",
     "output_type": "stream",
     "text": [
      "(150, 5)\n"
     ]
    },
    {
     "data": {
      "text/html": [
       "<div>\n",
       "<style scoped>\n",
       "    .dataframe tbody tr th:only-of-type {\n",
       "        vertical-align: middle;\n",
       "    }\n",
       "\n",
       "    .dataframe tbody tr th {\n",
       "        vertical-align: top;\n",
       "    }\n",
       "\n",
       "    .dataframe thead th {\n",
       "        text-align: right;\n",
       "    }\n",
       "</style>\n",
       "<table border=\"1\" class=\"dataframe\">\n",
       "  <thead>\n",
       "    <tr style=\"text-align: right;\">\n",
       "      <th></th>\n",
       "      <th>sepal_length</th>\n",
       "      <th>sepal_width</th>\n",
       "      <th>petal_length</th>\n",
       "      <th>petal_width</th>\n",
       "      <th>species</th>\n",
       "    </tr>\n",
       "  </thead>\n",
       "  <tbody>\n",
       "    <tr>\n",
       "      <th>0</th>\n",
       "      <td>5.1</td>\n",
       "      <td>3.5</td>\n",
       "      <td>1.4</td>\n",
       "      <td>0.2</td>\n",
       "      <td>Iris-setosa</td>\n",
       "    </tr>\n",
       "    <tr>\n",
       "      <th>1</th>\n",
       "      <td>4.9</td>\n",
       "      <td>3.0</td>\n",
       "      <td>1.4</td>\n",
       "      <td>0.2</td>\n",
       "      <td>Iris-setosa</td>\n",
       "    </tr>\n",
       "    <tr>\n",
       "      <th>2</th>\n",
       "      <td>4.7</td>\n",
       "      <td>3.2</td>\n",
       "      <td>1.3</td>\n",
       "      <td>0.2</td>\n",
       "      <td>Iris-setosa</td>\n",
       "    </tr>\n",
       "    <tr>\n",
       "      <th>3</th>\n",
       "      <td>4.6</td>\n",
       "      <td>3.1</td>\n",
       "      <td>1.5</td>\n",
       "      <td>0.2</td>\n",
       "      <td>Iris-setosa</td>\n",
       "    </tr>\n",
       "    <tr>\n",
       "      <th>4</th>\n",
       "      <td>5.0</td>\n",
       "      <td>3.6</td>\n",
       "      <td>1.4</td>\n",
       "      <td>0.2</td>\n",
       "      <td>Iris-setosa</td>\n",
       "    </tr>\n",
       "  </tbody>\n",
       "</table>\n",
       "</div>"
      ],
      "text/plain": [
       "   sepal_length  sepal_width  petal_length  petal_width      species\n",
       "0           5.1          3.5           1.4          0.2  Iris-setosa\n",
       "1           4.9          3.0           1.4          0.2  Iris-setosa\n",
       "2           4.7          3.2           1.3          0.2  Iris-setosa\n",
       "3           4.6          3.1           1.5          0.2  Iris-setosa\n",
       "4           5.0          3.6           1.4          0.2  Iris-setosa"
      ]
     },
     "metadata": {},
     "output_type": "display_data"
    }
   ],
   "source": [
    "import pandas as pd\n",
    "import matplotlib.pyplot as plt\n",
    "\n",
    "csv_url = 'https://archive.ics.uci.edu/ml/machine-learning-databases/iris/iris.data'\n",
    "col_names = ['sepal_length', 'sepal_width', 'petal_length', 'petal_width', 'species']\n",
    "iris = pd.read_csv(csv_url, names = col_names)\n",
    "\n",
    "print(iris.shape)\n",
    "display(iris.head())"
   ]
  },
  {
   "cell_type": "markdown",
   "id": "7c4dac3a",
   "metadata": {
    "slideshow": {
     "slide_type": "subslide"
    }
   },
   "source": [
    "### Measures of Central Tendency"
   ]
  },
  {
   "cell_type": "code",
   "execution_count": 3,
   "id": "5ea3c651",
   "metadata": {
    "slideshow": {
     "slide_type": "fragment"
    }
   },
   "outputs": [
    {
     "data": {
      "text/plain": [
       "array(['Iris-setosa', 'Iris-versicolor', 'Iris-virginica'], dtype=object)"
      ]
     },
     "execution_count": 3,
     "metadata": {},
     "output_type": "execute_result"
    }
   ],
   "source": [
    "species = iris['species'].unique()\n",
    "species"
   ]
  },
  {
   "cell_type": "code",
   "execution_count": 4,
   "id": "0aa632f3",
   "metadata": {
    "slideshow": {
     "slide_type": "subslide"
    }
   },
   "outputs": [
    {
     "data": {
      "image/png": "[encoded data removed]",
      "text/plain": [
       "<Figure size 432x288 with 1 Axes>"
      ]
     },
     "metadata": {
      "needs_background": "light"
     },
     "output_type": "display_data"
    }
   ],
   "source": [
    "for s in species:\n",
    "    \n",
    "    short_name = s[5:].title()                   # remove \"Iris-\" by select the 6th letter to last\n",
    "                                                 # then change to Title Case\n",
    "    \n",
    "    iris_species = iris[iris['species'] == s]    # subset of iris DataFrame\n",
    "    \n",
    "    iris_species['sepal_length'].plot.hist(\n",
    "        bins=10,\n",
    "        alpha=0.5,                               # \"alpha\" refers to the transparency of the color\n",
    "        title='Sepal Length by Species',\n",
    "        label=short_name,\n",
    "        legend=True\n",
    "    );\n",
    "    "
   ]
  },
  {
   "cell_type": "markdown",
   "id": "84a47701",
   "metadata": {
    "slideshow": {
     "slide_type": "subslide"
    }
   },
   "source": [
    "Let's look at the Virginica species"
   ]
  },
  {
   "cell_type": "code",
   "execution_count": 5,
   "id": "59d35ede",
   "metadata": {
    "scrolled": true,
    "slideshow": {
     "slide_type": "fragment"
    }
   },
   "outputs": [
    {
     "data": {
      "text/html": [
       "<div>\n",
       "<style scoped>\n",
       "    .dataframe tbody tr th:only-of-type {\n",
       "        vertical-align: middle;\n",
       "    }\n",
       "\n",
       "    .dataframe tbody tr th {\n",
       "        vertical-align: top;\n",
       "    }\n",
       "\n",
       "    .dataframe thead th {\n",
       "        text-align: right;\n",
       "    }\n",
       "</style>\n",
       "<table border=\"1\" class=\"dataframe\">\n",
       "  <thead>\n",
       "    <tr style=\"text-align: right;\">\n",
       "      <th></th>\n",
       "      <th>sepal_length</th>\n",
       "      <th>sepal_width</th>\n",
       "      <th>petal_length</th>\n",
       "      <th>petal_width</th>\n",
       "      <th>species</th>\n",
       "    </tr>\n",
       "  </thead>\n",
       "  <tbody>\n",
       "    <tr>\n",
       "      <th>139</th>\n",
       "      <td>6.9</td>\n",
       "      <td>3.1</td>\n",
       "      <td>5.4</td>\n",
       "      <td>2.1</td>\n",
       "      <td>Iris-virginica</td>\n",
       "    </tr>\n",
       "    <tr>\n",
       "      <th>128</th>\n",
       "      <td>6.4</td>\n",
       "      <td>2.8</td>\n",
       "      <td>5.6</td>\n",
       "      <td>2.1</td>\n",
       "      <td>Iris-virginica</td>\n",
       "    </tr>\n",
       "    <tr>\n",
       "      <th>115</th>\n",
       "      <td>6.4</td>\n",
       "      <td>3.2</td>\n",
       "      <td>5.3</td>\n",
       "      <td>2.3</td>\n",
       "      <td>Iris-virginica</td>\n",
       "    </tr>\n",
       "    <tr>\n",
       "      <th>120</th>\n",
       "      <td>6.9</td>\n",
       "      <td>3.2</td>\n",
       "      <td>5.7</td>\n",
       "      <td>2.3</td>\n",
       "      <td>Iris-virginica</td>\n",
       "    </tr>\n",
       "    <tr>\n",
       "      <th>111</th>\n",
       "      <td>6.4</td>\n",
       "      <td>2.7</td>\n",
       "      <td>5.3</td>\n",
       "      <td>1.9</td>\n",
       "      <td>Iris-virginica</td>\n",
       "    </tr>\n",
       "    <tr>\n",
       "      <th>144</th>\n",
       "      <td>6.7</td>\n",
       "      <td>3.3</td>\n",
       "      <td>5.7</td>\n",
       "      <td>2.5</td>\n",
       "      <td>Iris-virginica</td>\n",
       "    </tr>\n",
       "    <tr>\n",
       "      <th>140</th>\n",
       "      <td>6.7</td>\n",
       "      <td>3.1</td>\n",
       "      <td>5.6</td>\n",
       "      <td>2.4</td>\n",
       "      <td>Iris-virginica</td>\n",
       "    </tr>\n",
       "    <tr>\n",
       "      <th>133</th>\n",
       "      <td>6.3</td>\n",
       "      <td>2.8</td>\n",
       "      <td>5.1</td>\n",
       "      <td>1.5</td>\n",
       "      <td>Iris-virginica</td>\n",
       "    </tr>\n",
       "    <tr>\n",
       "      <th>119</th>\n",
       "      <td>6.0</td>\n",
       "      <td>2.2</td>\n",
       "      <td>5.0</td>\n",
       "      <td>1.5</td>\n",
       "      <td>Iris-virginica</td>\n",
       "    </tr>\n",
       "    <tr>\n",
       "      <th>125</th>\n",
       "      <td>7.2</td>\n",
       "      <td>3.2</td>\n",
       "      <td>6.0</td>\n",
       "      <td>1.8</td>\n",
       "      <td>Iris-virginica</td>\n",
       "    </tr>\n",
       "  </tbody>\n",
       "</table>\n",
       "</div>"
      ],
      "text/plain": [
       "     sepal_length  sepal_width  petal_length  petal_width         species\n",
       "139           6.9          3.1           5.4          2.1  Iris-virginica\n",
       "128           6.4          2.8           5.6          2.1  Iris-virginica\n",
       "115           6.4          3.2           5.3          2.3  Iris-virginica\n",
       "120           6.9          3.2           5.7          2.3  Iris-virginica\n",
       "111           6.4          2.7           5.3          1.9  Iris-virginica\n",
       "144           6.7          3.3           5.7          2.5  Iris-virginica\n",
       "140           6.7          3.1           5.6          2.4  Iris-virginica\n",
       "133           6.3          2.8           5.1          1.5  Iris-virginica\n",
       "119           6.0          2.2           5.0          1.5  Iris-virginica\n",
       "125           7.2          3.2           6.0          1.8  Iris-virginica"
      ]
     },
     "execution_count": 5,
     "metadata": {},
     "output_type": "execute_result"
    }
   ],
   "source": [
    "virginica = iris[iris['species'] == 'Iris-virginica']\n",
    "virginica.sample(10)"
   ]
  },
  {
   "cell_type": "code",
   "execution_count": 6,
   "id": "0b254443",
   "metadata": {
    "slideshow": {
     "slide_type": "subslide"
    }
   },
   "outputs": [
    {
     "data": {
      "image/png": "[encoded data removed]",
      "text/plain": [
       "<Figure size 432x288 with 1 Axes>"
      ]
     },
     "metadata": {
      "needs_background": "light"
     },
     "output_type": "display_data"
    }
   ],
   "source": [
    "virginica['sepal_length'].plot.hist(\n",
    "    bins=10, \n",
    "    title='Sepal Length - Virginica',\n",
    "    color='purple', \n",
    "    alpha=0.2\n",
    ");"
   ]
  },
  {
   "cell_type": "markdown",
   "id": "cee6991c",
   "metadata": {
    "slideshow": {
     "slide_type": "subslide"
    }
   },
   "source": [
    "#### Discuss with a partner: \n",
    "\n",
    "- Where is the *middle* of this dataset?\n",
    "- What are some ways we can describe the middle?"
   ]
  },
  {
   "cell_type": "markdown",
   "id": "a10cecdb",
   "metadata": {
    "slideshow": {
     "slide_type": "subslide"
    }
   },
   "source": [
    "- Mean\n",
    "- Median\n",
    "- Mode"
   ]
  },
  {
   "cell_type": "code",
   "execution_count": 7,
   "id": "0ac20151",
   "metadata": {
    "slideshow": {
     "slide_type": "subslide"
    }
   },
   "outputs": [
    {
     "data": {
      "image/png": "[encoded data removed]",
      "text/plain": [
       "<Figure size 432x288 with 1 Axes>"
      ]
     },
     "metadata": {
      "needs_background": "light"
     },
     "output_type": "display_data"
    }
   ],
   "source": [
    "_mean = virginica['sepal_length'].mean()\n",
    "_median = virginica['sepal_length'].median()\n",
    "_mode = virginica['sepal_length'].mode()[0]\n",
    "\n",
    "# main plot\n",
    "virginica['sepal_length'].plot.hist(\n",
    "    bins=10, \n",
    "    title='Sepal Length',\n",
    "    color='purple',\n",
    "    alpha=0.2,\n",
    "    label='_nolegend_'     # hide from legend\n",
    ")\n",
    "\n",
    "# draw mean, median, and mode as vertical lines\n",
    "plt.axvline(x=_mean, color='red', linestyle='-', label='Mean')\n",
    "plt.axvline(x=_median, color='darkgreen', linestyle='--', label='Median')\n",
    "plt.axvline(x=_mode, color='grey', linestyle='-.', label='Mode')\n",
    "\n",
    "# add a legend for the lines\n",
    "plt.legend(loc=2);"
   ]
  },
  {
   "cell_type": "markdown",
   "id": "f0992cc4",
   "metadata": {
    "slideshow": {
     "slide_type": "subslide"
    }
   },
   "source": [
    "### Why so many stats?\n",
    "\n",
    "Take 5 minutes to discuss with a partner and post your answers in Slack:\n",
    "> What is an advantage or disadvantage of using...\n",
    "> - Mean\n",
    "> - Median\n",
    "> - Mode\n",
    "\n"
   ]
  },
  {
   "cell_type": "markdown",
   "id": "b4470ecf",
   "metadata": {
    "slideshow": {
     "slide_type": "slide"
    }
   },
   "source": [
    "### Variance and Standard Deviation"
   ]
  },
  {
   "cell_type": "code",
   "execution_count": 8,
   "id": "d8eebb2c",
   "metadata": {
    "slideshow": {
     "slide_type": "fragment"
    }
   },
   "outputs": [
    {
     "name": "stdout",
     "output_type": "stream",
     "text": [
      "[103. 103. 105. 108.  95. 100. 107.  88. 111. 126.  90.  97.  91. 107.\n",
      "  94. 111. 107. 117. 112.  84. 105.  86. 102.  95.  84. 109.  87.  93.\n",
      " 116. 105.]\n"
     ]
    },
    {
     "data": {
      "image/png": "[encoded data removed]",
      "text/plain": [
       "<Figure size 432x288 with 1 Axes>"
      ]
     },
     "metadata": {
      "needs_background": "light"
     },
     "output_type": "display_data"
    }
   ],
   "source": [
    "import numpy as np\n",
    "\n",
    "mean = 100\n",
    "std = 10\n",
    "\n",
    "s = np.rint(np.random.normal(100, 10, 50000))\n",
    "print(s[:30])\n",
    "\n",
    "bins = int(s.max() - s.min())\n",
    "plt.hist(x=s, bins=bins);"
   ]
  },
  {
   "cell_type": "code",
   "execution_count": 9,
   "id": "cafa1897",
   "metadata": {
    "slideshow": {
     "slide_type": "subslide"
    }
   },
   "outputs": [
    {
     "data": {
      "text/plain": [
       "<AxesSubplot:ylabel='Count'>"
      ]
     },
     "execution_count": 9,
     "metadata": {},
     "output_type": "execute_result"
    },
    {
     "data": {
      "image/png": "[encoded data removed]",
      "text/plain": [
       "<Figure size 432x288 with 1 Axes>"
      ]
     },
     "metadata": {
      "needs_background": "light"
     },
     "output_type": "display_data"
    }
   ],
   "source": [
    "import seaborn as sns\n",
    "sns.histplot(s, bins=bins, color='green', binwidth=3, alpha=0.1, kde=True)"
   ]
  },
  {
   "cell_type": "markdown",
   "id": "2d6cd675",
   "metadata": {
    "slideshow": {
     "slide_type": "slide"
    }
   },
   "source": [
    "## Wrap Up"
   ]
  },
  {
   "cell_type": "markdown",
   "id": "119b2451",
   "metadata": {
    "slideshow": {
     "slide_type": "subslide"
    }
   },
   "source": [
    "### Todos"
   ]
  },
  {
   "cell_type": "markdown",
   "id": "211cb989",
   "metadata": {
    "slideshow": {
     "slide_type": "fragment"
    }
   },
   "source": [
    "1. **Do Now:** [3 Week Check-In](https://forms.gle/JYdYx2feNg3XUGhr5)"
   ]
  },
  {
   "cell_type": "markdown",
   "id": "daa1b79e",
   "metadata": {
    "slideshow": {
     "slide_type": "fragment"
    }
   },
   "source": [
    "2. Post an update on your research project in the `#research` channel"
   ]
  },
  {
   "cell_type": "markdown",
   "id": "d463d96a",
   "metadata": {
    "slideshow": {
     "slide_type": "fragment"
    }
   },
   "source": [
    "3. Post a screenshot of your statistical analysis in the `#python` channel"
   ]
  },
  {
   "cell_type": "markdown",
   "id": "3f676535",
   "metadata": {
    "slideshow": {
     "slide_type": "fragment"
    }
   },
   "source": [
    "4. Reply to at least 2 others' postings\n",
    "    - A question about the project\n",
    "    - A suggestion\n",
    "    - Anything else you want to say!"
   ]
  },
  {
   "cell_type": "markdown",
   "id": "1f5b3a17",
   "metadata": {
    "slideshow": {
     "slide_type": "fragment"
    }
   },
   "source": [
    "5. Read more: \n",
    "    - [Measures of central tendency](https://www.scribbr.com/statistics/central-tendency/)"
   ]
  }
 ],
 "metadata": {
  "celltoolbar": "Slideshow",
  "kernelspec": {
   "display_name": "Python 3 (ipykernel)",
   "language": "python",
   "name": "python3"
  },
  "language_info": {
   "codemirror_mode": {
    "name": "ipython",
    "version": 3
   },
   "file_extension": ".py",
   "mimetype": "text/x-python",
   "name": "python",
   "nbconvert_exporter": "python",
   "pygments_lexer": "ipython3",
   "version": "3.9.12"
  },
  "toc": {
   "base_numbering": 1,
   "nav_menu": {},
   "number_sections": true,
   "sideBar": false,
   "skip_h1_title": true,
   "title_cell": "Table of Contents",
   "title_sidebar": "Contents",
   "toc_cell": false,
   "toc_position": {
    "height": "241.667px",
    "left": "1691.42px",
    "top": "0px",
    "width": "252.583px"
   },
   "toc_section_display": true,
   "toc_window_display": true
  },
  "varInspector": {
   "cols": {
    "lenName": 16,
    "lenType": 16,
    "lenVar": 40
   },
   "kernels_config": {
    "python": {
     "delete_cmd_postfix": "",
     "delete_cmd_prefix": "del ",
     "library": "var_list.py",
     "varRefreshCmd": "print(var_dic_list())"
    },
    "r": {
     "delete_cmd_postfix": ") ",
     "delete_cmd_prefix": "rm(",
     "library": "var_list.r",
     "varRefreshCmd": "cat(var_dic_list()) "
    }
   },
   "types_to_exclude": [
    "module",
    "function",
    "builtin_function_or_method",
    "instance",
    "_Feature"
   ],
   "window_display": false
  }
 },
 "nbformat": 4,
 "nbformat_minor": 5
}
