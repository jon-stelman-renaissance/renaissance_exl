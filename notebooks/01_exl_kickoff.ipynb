{
 "cells": [
  {
   "cell_type": "markdown",
   "metadata": {
    "slideshow": {
     "slide_type": "slide"
    },
    "tags": []
   },
   "source": [
    "# Welcome to Renaissance EXL - Summer 2024 Session Kickoff  \n",
    "_Renaissance Experiential Learning Program_  \n",
    "_Renaissance Learning, 2024_  \n",
    "\n",
    "June 24, 2024  \n",
    "  \n",
    "- *Justin Alt*, EXL Coach, Data Engineer\n",
    "- *Andrea Bracho*, EXL Coach, Customer Data Analyst\n",
    "- *Brendan Fay*, EXL Coach, Software Engineer\n",
    "- *Onel Harrison*, EXL Coach, Data Engineer\n",
    "- *Jackie Malooly*, EXL Coach, Data Scientist\n",
    "- *Jon Stelman*, EXL Program Coordinator, Technical Product Manager"
   ]
  },
  {
   "cell_type": "markdown",
   "metadata": {
    "jp-MarkdownHeadingCollapsed": true,
    "slideshow": {
     "slide_type": "slide"
    },
    "tags": []
   },
   "source": [
    "## Overview"
   ]
  },
  {
   "cell_type": "markdown",
   "metadata": {
    "slideshow": {
     "slide_type": "fragment"
    }
   },
   "source": [
    "- **[Getting Started](#Getting-Started)**\n",
    "    1. Intros\n",
    "    2. What you will do\n",
    "    3. Final products\n",
    "    4. Community and Culture\n",
    " <br>\n",
    " <br>\n",
    "- **[Your Research Question](#Your-Research-Question)**\n",
    "    1. Refining your topic\n",
    "    2. Choosing the right question/s\n",
    "    3. Laboratory research vs. data research\n",
    " <br>\n",
    " <br>    \n",
    "- **[Tools](#Tools)**\n",
    "    1. Slack\n",
    "    2. Jira\n",
    "    3. G-Suite\n",
    " <br>\n",
    " <br>\n",
    "- **[Wrap Up](#Wrap-Up)**\n",
    "    1. Photo Release Form\n",
    "    2. \n",
    "    3. G-Suite\n",
    "    \n"
   ]
  },
  {
   "cell_type": "markdown",
   "metadata": {
    "slideshow": {
     "slide_type": "slide"
    },
    "tags": []
   },
   "source": [
    "## Getting Started"
   ]
  },
  {
   "cell_type": "markdown",
   "metadata": {
    "jp-MarkdownHeadingCollapsed": true,
    "slideshow": {
     "slide_type": "fragment"
    },
    "tags": []
   },
   "source": [
    "### Intros"
   ]
  },
  {
   "cell_type": "code",
   "execution_count": null,
   "metadata": {
    "code_folding": [],
    "deletable": false,
    "editable": false,
    "slideshow": {
     "slide_type": "subslide"
    },
    "tags": []
   },
   "outputs": [],
   "source": [
    "from random import choice\n",
    "from typing import Union\n",
    "\n",
    "def choose_next(names: list, selected: list) -> Union[str, None]:\n",
    "    \"\"\"Choose the next person to speak\n",
    "\n",
    "    Effectively a random choice from a list, without replacement\n",
    "    \"\"\"\n",
    "    available = list(set(names) - set(selected))  # use set() to remove any duplicates\n",
    "\n",
    "    if not available:                             # available is empty; all names have been selected\n",
    "        print(\"That's everyone!\")\n",
    "        return\n",
    "    next_person = choice(available)\n",
    "    \n",
    "    print(f'{len(selected) + 1} of {len(names)}: {next_person}')\n",
    "    return next_person\n",
    "\n",
    "\n",
    "all_names = [\n",
    "    \"Aditya\",\n",
    "    \"Alex\",\n",
    "    \"Jack\",\n",
    "    \"Rakshaa\",\n",
    "    \"Tejas\",\n",
    "    \"Xander\",\n",
    "    \"Andrea\",\n",
    "    \"Brendan\",\n",
    "    \"Jackie\",\n",
    "    \"Jon\",\n",
    "    \"Justin\",\n",
    "    \"Onel\"\n",
    "]\n",
    "\n",
    "already_chosen = []"
   ]
  },
  {
   "cell_type": "markdown",
   "metadata": {
    "slideshow": {
     "slide_type": "subslide"
    }
   },
   "source": [
    "Take 2 minutes each to introduce yourself...\n",
    "- Your name\n",
    "- Where you're from (city / school)\n",
    "- What you want to do or study after high school\n",
    "- Your research project\n",
    "- Any interesting hobbies"
   ]
  },
  {
   "cell_type": "code",
   "execution_count": null,
   "metadata": {
    "deletable": false,
    "editable": false,
    "slideshow": {
     "slide_type": "fragment"
    }
   },
   "outputs": [],
   "source": [
    "for i, name in enumerate(already_chosen):\n",
    "    if name: print(f'{i + 1:>2} of {len(all_names)}: {name}')\n",
    "already_chosen.append(choose_next(all_names, already_chosen))"
   ]
  },
  {
   "cell_type": "markdown",
   "metadata": {
    "slideshow": {
     "slide_type": "slide"
    },
    "tags": []
   },
   "source": [
    "### What you will do"
   ]
  },
  {
   "cell_type": "markdown",
   "metadata": {
    "slideshow": {
     "slide_type": "fragment"
    }
   },
   "source": [
    "- Spend 8 weeks to\n",
    "    1. Develop a research question\n",
    "    2. Find data that can help you answer that question\n",
    "    3. Use Python to do your statistical analysis and data visualization\n",
    "    4. Share your research with the world"
   ]
  },
  {
   "cell_type": "markdown",
   "metadata": {
    "slideshow": {
     "slide_type": "fragment"
    }
   },
   "source": [
    "- You will need to...\n",
    "    - Own your research\n",
    "    - Manage your time\n",
    "    - Collaborate with others"
   ]
  },
  {
   "cell_type": "markdown",
   "metadata": {
    "slideshow": {
     "slide_type": "slide"
    },
    "tags": []
   },
   "source": [
    "### Final products"
   ]
  },
  {
   "cell_type": "markdown",
   "metadata": {
    "slideshow": {
     "slide_type": "fragment"
    }
   },
   "source": [
    "1. **Research paper**\n",
    "    - Describes the background, data sources, methodology, and results\n",
    "    - About 5-10 pages"
   ]
  },
  {
   "cell_type": "markdown",
   "metadata": {
    "slideshow": {
     "slide_type": "fragment"
    }
   },
   "source": [
    "2. **Presentation** \n",
    "    - Summarizes your findings for a general audience\n",
    "    - We will present at the end of the summer\n",
    "    - Invitations sent to Renaissance employees, teachers at your school, family"
   ]
  },
  {
   "cell_type": "markdown",
   "metadata": {
    "slideshow": {
     "slide_type": "fragment"
    }
   },
   "source": [
    "3. **GitHub repository** \n",
    "    - A place online where you will share all of your code and research with the world\n",
    "    - Example: [Shaheer's Air Pollution Study](https://github.com/shaheermaslam02/airpollution)"
   ]
  },
  {
   "cell_type": "markdown",
   "metadata": {
    "slideshow": {
     "slide_type": "fragment"
    }
   },
   "source": [
    "4. **LinkedIn Profile** \n",
    "    - A place to share your educational and work experience, and preserve professional connections"
   ]
  },
  {
   "cell_type": "markdown",
   "metadata": {
    "slideshow": {
     "slide_type": "fragment"
    }
   },
   "source": [
    "For more info on these deliverables, see [this](https://docs.google.com/document/d/18WEk9NDMmqRufaxj0_Fp3PCYSSyw0KmisanYhvcpeRI/edit?usp=sharing)."
   ]
  },
  {
   "cell_type": "markdown",
   "metadata": {
    "jp-MarkdownHeadingCollapsed": true,
    "slideshow": {
     "slide_type": "slide"
    },
    "tags": []
   },
   "source": [
    "### Community and Culture"
   ]
  },
  {
   "cell_type": "markdown",
   "metadata": {
    "jp-MarkdownHeadingCollapsed": true,
    "slideshow": {
     "slide_type": "fragment"
    },
    "tags": []
   },
   "source": [
    "#### Norms\n",
    "- Learning can be hard\n",
    "- It requires us to be **open** about the **things we do not know yet**\n",
    "- Openness requires **trust**\n",
    "- **Trust** can grow when we all commit to behaving in consistent and mutually beneficial ways"
   ]
  },
  {
   "cell_type": "markdown",
   "metadata": {
    "slideshow": {
     "slide_type": "slide"
    }
   },
   "source": [
    "#### Suggested norms"
   ]
  },
  {
   "cell_type": "markdown",
   "metadata": {
    "jp-MarkdownHeadingCollapsed": true,
    "slideshow": {
     "slide_type": "subslide"
    },
    "tags": []
   },
   "source": [
    "###### Treat everyone with respect"
   ]
  },
  {
   "cell_type": "markdown",
   "metadata": {
    "jp-MarkdownHeadingCollapsed": true,
    "slideshow": {
     "slide_type": "fragment"
    },
    "tags": []
   },
   "source": [
    "- Why\n",
    "    - Respect means showing that you recognize the value of others\n",
    "    - Everyone's **time** is vaulable\n",
    "    - Everyone's **education** is valuable\n",
    "    - Everyone's **research** is valuable"
   ]
  },
  {
   "cell_type": "markdown",
   "metadata": {
    "jp-MarkdownHeadingCollapsed": true,
    "slideshow": {
     "slide_type": "fragment"
    },
    "tags": []
   },
   "source": [
    "- How\n",
    "    - Be on-time to meetings\n",
    "    - In meetings, do not multi-task\n",
    "    - Practice active listening\n",
    "    - Be aware when we are listening, vs. waiting to talk\n",
    "    - Ask questions in good faith\n",
    "    - Assume other's questions are asked in good faith\n",
    "    - Ask if people are available to support you"
   ]
  },
  {
   "cell_type": "markdown",
   "metadata": {
    "jp-MarkdownHeadingCollapsed": true,
    "slideshow": {
     "slide_type": "subslide"
    },
    "tags": []
   },
   "source": [
    "###### Support one another"
   ]
  },
  {
   "cell_type": "markdown",
   "metadata": {
    "jp-MarkdownHeadingCollapsed": true,
    "slideshow": {
     "slide_type": "fragment"
    },
    "tags": []
   },
   "source": [
    "- Why\n",
    "    - We all have something to learn and to teach\n",
    "    - We learn best when others share their knowledge\n",
    "    - It is right to reciprocate, and share our own knowledge as freely as we can"
   ]
  },
  {
   "cell_type": "markdown",
   "metadata": {
    "slideshow": {
     "slide_type": "fragment"
    }
   },
   "source": [
    "- How\n",
    "    - If someone asks a question in Slack that you know the answer to, reply!\n",
    "    - Share anything interesting you've just learned, especially if you think it can help someone else\n",
    "    - But also, give people the space they need to learn"
   ]
  },
  {
   "cell_type": "markdown",
   "metadata": {
    "slideshow": {
     "slide_type": "subslide"
    }
   },
   "source": [
    "###### What happens in EXL stays in EXL"
   ]
  },
  {
   "cell_type": "markdown",
   "metadata": {
    "slideshow": {
     "slide_type": "fragment"
    }
   },
   "source": [
    "- Why\n",
    "    - To learn, we need to feel safe enough to be wrong\n",
    "    - We feel safer when we know our comments won't be shared widely"
   ]
  },
  {
   "cell_type": "markdown",
   "metadata": {
    "slideshow": {
     "slide_type": "fragment"
    }
   },
   "source": [
    "- Actions\n",
    "    - Do not share the opinions, experiences, or struggles of group members outside of EXL\n",
    "    - If you wish to share another's story, ask them directly for permission first"
   ]
  },
  {
   "cell_type": "markdown",
   "metadata": {
    "slideshow": {
     "slide_type": "subslide"
    }
   },
   "source": [
    "#### What do you suggest?\n",
    "What else would help us to build a place where we can all grow, learn, and collaborate?  "
   ]
  },
  {
   "cell_type": "markdown",
   "metadata": {
    "slideshow": {
     "slide_type": "fragment"
    }
   },
   "source": [
    "Drop your ideas in Slack. I’ll collect them and bring a draft next week."
   ]
  },
  {
   "cell_type": "markdown",
   "metadata": {
    "slideshow": {
     "slide_type": "slide"
    }
   },
   "source": [
    "## Your Research Question"
   ]
  },
  {
   "cell_type": "markdown",
   "metadata": {
    "slideshow": {
     "slide_type": "fragment"
    }
   },
   "source": [
    "* Please complete this [Research Question Guide](https://docs.google.com/document/d/1QLpxqY4Y2yoQHy9AGhW1DbMXdj_Htg9C9-Neodl7Axk/edit?usp=sharing) and share with  the group by the end of this week.\n",
    "\n",
    "* Consider the following when you complete the Guide..."
   ]
  },
  {
   "cell_type": "markdown",
   "metadata": {
    "slideshow": {
     "slide_type": "slide"
    },
    "tags": []
   },
   "source": [
    "### Refining your topic"
   ]
  },
  {
   "cell_type": "markdown",
   "metadata": {
    "slideshow": {
     "slide_type": "fragment"
    }
   },
   "source": [
    "#### Example: Air Pollution"
   ]
  },
  {
   "cell_type": "markdown",
   "metadata": {
    "slideshow": {
     "slide_type": "subslide"
    }
   },
   "source": [
    "##### What"
   ]
  },
  {
   "cell_type": "markdown",
   "metadata": {
    "slideshow": {
     "slide_type": "fragment"
    }
   },
   "source": [
    "- What kinds of air pollution exist?\n",
    "- How well have each of these been measured?"
   ]
  },
  {
   "cell_type": "markdown",
   "metadata": {
    "slideshow": {
     "slide_type": "subslide"
    }
   },
   "source": [
    "##### When"
   ]
  },
  {
   "cell_type": "markdown",
   "metadata": {
    "slideshow": {
     "slide_type": "fragment"
    }
   },
   "source": [
    "- When did air quality see major changes?\n",
    "- When did people start paying attention to air pollution?\n",
    "- What laws or policies have been enacted to address pollution?\n",
    "- How frequently do people collect data about air quality?"
   ]
  },
  {
   "cell_type": "markdown",
   "metadata": {
    "slideshow": {
     "slide_type": "subslide"
    }
   },
   "source": [
    "##### Where"
   ]
  },
  {
   "cell_type": "markdown",
   "metadata": {
    "slideshow": {
     "slide_type": "fragment"
    }
   },
   "source": [
    "- Which areas are most impacted by air pollution?\n",
    "- Which areas are least impacted by air pollution?\n",
    "- What are some similarities and differences between these?"
   ]
  },
  {
   "cell_type": "markdown",
   "metadata": {
    "slideshow": {
     "slide_type": "subslide"
    }
   },
   "source": [
    "##### Why"
   ]
  },
  {
   "cell_type": "markdown",
   "metadata": {
    "slideshow": {
     "slide_type": "fragment"
    }
   },
   "source": [
    "- What can we even do about air pollution?\n",
    "- Which factors are most easily addressed with information or technology?\n",
    "- Which factors are outside of humans' control right now?"
   ]
  },
  {
   "cell_type": "markdown",
   "metadata": {
    "slideshow": {
     "slide_type": "slide"
    },
    "tags": []
   },
   "source": [
    "### Choosing the right question/s"
   ]
  },
  {
   "cell_type": "markdown",
   "metadata": {
    "slideshow": {
     "slide_type": "fragment"
    }
   },
   "source": [
    "- What data actually exists?"
   ]
  },
  {
   "cell_type": "markdown",
   "metadata": {
    "slideshow": {
     "slide_type": "fragment"
    }
   },
   "source": [
    "- What data can be trusted?"
   ]
  },
  {
   "cell_type": "markdown",
   "metadata": {
    "slideshow": {
     "slide_type": "fragment"
    }
   },
   "source": [
    "- How does this issue impact you and/or people you care about?"
   ]
  },
  {
   "cell_type": "markdown",
   "metadata": {
    "slideshow": {
     "slide_type": "fragment"
    }
   },
   "source": [
    "- What change do you want to see because of your research?"
   ]
  },
  {
   "cell_type": "markdown",
   "metadata": {
    "slideshow": {
     "slide_type": "slide"
    },
    "tags": []
   },
   "source": [
    "### Laboratory research vs. data research"
   ]
  },
  {
   "cell_type": "markdown",
   "metadata": {
    "slideshow": {
     "slide_type": "subslide"
    }
   },
   "source": [
    "#### Laboratory research"
   ]
  },
  {
   "cell_type": "markdown",
   "metadata": {
    "slideshow": {
     "slide_type": "fragment"
    }
   },
   "source": [
    "- Design an experiment to collect data\n",
    "- Can control for many variables\n",
    "- Analyze the data we collect"
   ]
  },
  {
   "cell_type": "markdown",
   "metadata": {
    "slideshow": {
     "slide_type": "subslide"
    }
   },
   "source": [
    "#### Data research"
   ]
  },
  {
   "cell_type": "markdown",
   "metadata": {
    "slideshow": {
     "slide_type": "fragment"
    }
   },
   "source": [
    "In data research, we are more limited by the data available."
   ]
  },
  {
   "cell_type": "markdown",
   "metadata": {
    "slideshow": {
     "slide_type": "fragment"
    }
   },
   "source": [
    "- We must find good data in the world...\n",
    "    - Government institutions\n",
    "    - University studies\n",
    "    - News media companies\n",
    "    - Occasionally, private companies"
   ]
  },
  {
   "cell_type": "markdown",
   "metadata": {
    "slideshow": {
     "slide_type": "subslide"
    }
   },
   "source": [
    "- How do we know what can be trusted?"
   ]
  },
  {
   "cell_type": "markdown",
   "metadata": {
    "slideshow": {
     "slide_type": "subslide"
    }
   },
   "source": [
    "- How do we know what makes data good?"
   ]
  },
  {
   "cell_type": "markdown",
   "metadata": {
    "slideshow": {
     "slide_type": "slide"
    }
   },
   "source": [
    "## Tools"
   ]
  },
  {
   "cell_type": "markdown",
   "metadata": {
    "slideshow": {
     "slide_type": "subslide"
    }
   },
   "source": [
    "### Slack\n",
    "Messaging app similar to Discord.  \n",
    "  \n",
    "Great for...\n",
    "* group discussions\n",
    "* posting updates\n",
    "* sharing examples of what you've made\n",
    "* asking questions"
   ]
  },
  {
   "cell_type": "markdown",
   "metadata": {
    "slideshow": {
     "slide_type": "subslide"
    }
   },
   "source": [
    "### Jira\n",
    "Project planning and tracking  \n",
    "\n",
    "- Each person has their own dedicated project set up from a template\n",
    "- Every week you will look at the \"backlog\" of tasks and move relevant tasks into your weekly plan\n",
    "- We'll discuss Jira in more detail in our next group session.\n"
   ]
  },
  {
   "cell_type": "markdown",
   "metadata": {
    "slideshow": {
     "slide_type": "subslide"
    }
   },
   "source": [
    "### G-Suite\n",
    "Documents, files, and more. (Google Drive, Google Docs)  \n",
    "  \n",
    "Use G-Suite to organize... \n",
    "* notes from your 1-on-1 meetings with your coach\n",
    "* research notes\n",
    "* research outline\n",
    "* research paper\n",
    "* presentation slides\n",
    "* etc."
   ]
  },
  {
   "cell_type": "markdown",
   "metadata": {
    "slideshow": {
     "slide_type": "slide"
    }
   },
   "source": [
    "## Wrap Up"
   ]
  },
  {
   "cell_type": "markdown",
   "metadata": {
    "slideshow": {
     "slide_type": "subslide"
    }
   },
   "source": [
    "### Photo Release Form\n",
    "- To share Zoom screen captures, etc.\n",
    "- Important to be able to continue to grow and develop this program"
   ]
  },
  {
   "cell_type": "markdown",
   "metadata": {
    "slideshow": {
     "slide_type": "fragment"
    }
   },
   "source": [
    "Two versions of form:\n",
    "- For minors\n",
    "    - requires the signature of your guardian, in addition to your own\n",
    "- For adults\n",
    "    - only requires your own signature"
   ]
  },
  {
   "cell_type": "markdown",
   "metadata": {
    "slideshow": {
     "slide_type": "subslide"
    }
   },
   "source": [
    "### To-Dos"
   ]
  },
  {
   "cell_type": "markdown",
   "metadata": {
    "slideshow": {
     "slide_type": "fragment"
    }
   },
   "source": [
    "1. Make a copy of, and then complete the **[Research Question Guide](https://docs.google.com/document/d/1QLpxqY4Y2yoQHy9AGhW1DbMXdj_Htg9C9-Neodl7Axk/edit?usp=sharing)**\n",
    "2. **Share the Guide** with me and your Coach\n",
    "3. Introduce yourself to your coach with a **DM in Slack**\n",
    "4. Schedule a meeting with your coach before the end of the week\n",
    "5. Make sure you have Anaconda and GitHub Desktop installed\n",
    "6. Sign the **Photo Release Form**, then email to me.\n",
    "    - [minor version](https://drive.google.com/file/d/1rrdNcey6v4fmeYPmU3zRSPrMxzRPWfb7/view?usp=sharing)\n",
    "    - [adult version](https://drive.google.com/file/d/1JCK37RgLkCOXdIPtVjVaajNU3qb0SnDm/view?usp=sharing)"
   ]
  },
  {
   "cell_type": "markdown",
   "metadata": {
    "slideshow": {
     "slide_type": "subslide"
    }
   },
   "source": [
    "### Coach Assignments"
   ]
  },
  {
   "cell_type": "markdown",
   "metadata": {
    "slideshow": {
     "slide_type": "fragment"
    }
   },
   "source": [
    "|              |  Coach         | Email                          |\n",
    "|:-------------|----------------|--------------------------------|\n",
    "| **Aditya**   | Jackie Malooly | jackie.malooly@renaissance.com |\n",
    "| **Alex**     | Jon Stelman    | jon.stelman@renaissance.com    |\n",
    "| **Jack**     | Onel Harrison  | onel.harrison@renaissance.com  |\n",
    "| **Rakshaa**  | Andrea Bracho  | andrea.bracho@renaissance.com  |\n",
    "| **Tejas**    | Justin Alt     | justin.alt@renaissance.com     |\n",
    "| **Xander**   | Brendan Fay    | brendan.fay@renaissance.com    |\n"
   ]
  },
  {
   "cell_type": "markdown",
   "metadata": {
    "slideshow": {
     "slide_type": "slide"
    }
   },
   "source": [
    "# Thank you!"
   ]
  }
 ],
 "metadata": {
  "celltoolbar": "Slideshow",
  "kernelspec": {
   "display_name": "Python 3 (ipykernel)",
   "language": "python",
   "name": "python3"
  },
  "language_info": {
   "codemirror_mode": {
    "name": "ipython",
    "version": 3
   },
   "file_extension": ".py",
   "mimetype": "text/x-python",
   "name": "python",
   "nbconvert_exporter": "python",
   "pygments_lexer": "ipython3",
   "version": "3.9.12"
  },
  "toc": {
   "base_numbering": "1",
   "nav_menu": {},
   "number_sections": true,
   "sideBar": false,
   "skip_h1_title": true,
   "title_cell": "Table of Contents",
   "title_sidebar": "Contents",
   "toc_cell": false,
   "toc_position": {
    "height": "338.679px",
    "left": "1937px",
    "top": "188px",
    "width": "266.307px"
   },
   "toc_section_display": true,
   "toc_window_display": true
  },
  "toc-autonumbering": true,
  "toc-showcode": false,
  "toc-showmarkdowntxt": false,
  "toc-showtags": false,
  "varInspector": {
   "cols": {
    "lenName": 16,
    "lenType": 16,
    "lenVar": 40
   },
   "kernels_config": {
    "python": {
     "delete_cmd_postfix": "",
     "delete_cmd_prefix": "del ",
     "library": "var_list.py",
     "varRefreshCmd": "print(var_dic_list())"
    },
    "r": {
     "delete_cmd_postfix": ") ",
     "delete_cmd_prefix": "rm(",
     "library": "var_list.r",
     "varRefreshCmd": "cat(var_dic_list()) "
    }
   },
   "position": {
    "height": "187.622px",
    "left": "2547.01px",
    "right": "20px",
    "top": "120px",
    "width": "268.542px"
   },
   "types_to_exclude": [
    "module",
    "function",
    "builtin_function_or_method",
    "instance",
    "_Feature"
   ],
   "window_display": false
  },
  "vscode": {
   "interpreter": {
    "hash": "9f1c6700f8dcc3c8b802ccdc9e52d271fe55d2c284c954b3cb9ffc9931b25ba7"
   }
  }
 },
 "nbformat": 4,
 "nbformat_minor": 4
}
