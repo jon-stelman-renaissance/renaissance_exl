{
 "cells": [
  {
   "cell_type": "markdown",
   "id": "8ad3d532",
   "metadata": {},
   "source": [
    "# Getting Started in Python with Jupyter Notebook\n",
    "_Renaissance Experiential Learning Program_  \n",
    "_Renaissance Learning, 2022_  "
   ]
  },
  {
   "cell_type": "markdown",
   "id": "9bd944a9",
   "metadata": {},
   "source": [
    "## Jupyter Notebook\n",
    "This is a Jupyter Notebook file (note the `.ipynb` extension). When opened in a Jupyter environment, it can be used to execute code, typically in a Python kernel."
   ]
  },
  {
   "cell_type": "markdown",
   "id": "c4924c27",
   "metadata": {},
   "source": [
    "### Cells\n",
    "Jupyter notebooks generally consist of two kinds of cells: Markdown and Code."
   ]
  },
  {
   "cell_type": "markdown",
   "id": "17b5d76b",
   "metadata": {},
   "source": [
    "#### Markdown"
   ]
  },
  {
   "cell_type": "markdown",
   "id": "f8717617",
   "metadata": {},
   "source": [
    "This is a markdown cell.\n",
    "<br>\n",
    "<br>\n",
    "Markdown is a syntax that can be added to text to specify how that text should be formatted. The markdown is supported by many text editors and renderers, like Jupyter and GitHub.\n",
    "\n",
    "\n",
    "#### Heading\n",
    "1. Ordered list\n",
    "2. Ordered list item 2\n",
    "- Unordered lists\n",
    "    1. nested lists\n",
    "- **Bold**\n",
    "- *italics*\n",
    "> **Block quotes**\n",
    "- `In-line code`\n",
    "\n",
    "\n",
    "```\n",
    "code block (for multi-line code)\n",
    "x = 4\n",
    "y = 6\n",
    "z = x + y\n",
    "```\n",
    "\n",
    "\n",
    "- Link: [Markdown Cheat Sheet](https://www.markdownguide.org/cheat-sheet)\n",
    "---"
   ]
  },
  {
   "cell_type": "markdown",
   "id": "585b5a67",
   "metadata": {},
   "source": [
    "#### Code\n",
    "Below is a code cell:"
   ]
  },
  {
   "cell_type": "code",
   "execution_count": 1,
   "id": "2c4a1851",
   "metadata": {},
   "outputs": [],
   "source": [
    "var = \"python code goes here\""
   ]
  },
  {
   "cell_type": "markdown",
   "id": "6ba67ba4",
   "metadata": {},
   "source": [
    "You can add line numbers to your code cell too, just type `l` in when the cell is selected in command mode."
   ]
  },
  {
   "cell_type": "code",
   "execution_count": 2,
   "id": "8940e651",
   "metadata": {},
   "outputs": [],
   "source": [
    "var = 'cat'\n",
    "\n",
    "\n",
    "\n"
   ]
  },
  {
   "cell_type": "markdown",
   "id": "72ad4fc3",
   "metadata": {},
   "source": [
    "Code cells have an indicator to their left showing the order in which they have been run."
   ]
  },
  {
   "cell_type": "markdown",
   "id": "ba959117",
   "metadata": {},
   "source": [
    "## Coding"
   ]
  },
  {
   "cell_type": "markdown",
   "id": "69fafcee",
   "metadata": {},
   "source": [
    "### The `print` statement\n",
    "Let's start with the `print` statement:"
   ]
  },
  {
   "cell_type": "code",
   "execution_count": 3,
   "id": "e688a9ed",
   "metadata": {},
   "outputs": [
    {
     "name": "stdout",
     "output_type": "stream",
     "text": [
      "Hello World\n"
     ]
    }
   ],
   "source": [
    "print('Hello World')"
   ]
  },
  {
   "cell_type": "markdown",
   "id": "8c5be854",
   "metadata": {},
   "source": [
    "Depending on your passion for programming, there are at least a few things interesting about the code above:\n",
    "1. In Python 3, the print statement works as a function. In this case, it took a string of text as its argument.\n",
    "2. *Where* the text was printed: in a Jupyter Notebook, a print statement will show the output directly below the code cell (rather than in a separate console or log file or something)."
   ]
  },
  {
   "cell_type": "markdown",
   "id": "85c6315c",
   "metadata": {},
   "source": [
    "### Variable assignment"
   ]
  },
  {
   "cell_type": "markdown",
   "id": "c027a8b4",
   "metadata": {},
   "source": [
    "Next let's explore a few more details of Python programming, starting with variable assignment.  \n",
    "  \n",
    "We start by defining a new variable, `x`."
   ]
  },
  {
   "cell_type": "code",
   "execution_count": 4,
   "id": "dc1cb5da",
   "metadata": {},
   "outputs": [],
   "source": [
    "x = 'Renaissance Learning'"
   ]
  },
  {
   "cell_type": "markdown",
   "id": "0d8baf8e",
   "metadata": {},
   "source": [
    "Notice that, in Python, the variable is defined at the same time as its assignment. In other words, when we assign a value to an unknown object, the new variable is created with the value. We don't need to start by saying what type of variable it will be.  \n",
    "\n",
    "If we pass `x` to the `print()` function, we should see its value in the output:\n"
   ]
  },
  {
   "cell_type": "code",
   "execution_count": 5,
   "id": "9a458072",
   "metadata": {
    "scrolled": true
   },
   "outputs": [
    {
     "name": "stdout",
     "output_type": "stream",
     "text": [
      "Renaissance Learning\n"
     ]
    }
   ],
   "source": [
    "print(x)"
   ]
  },
  {
   "cell_type": "markdown",
   "id": "2ef175bf",
   "metadata": {},
   "source": [
    "Here's a little thing to note. Jupyter tries to save us a little time when running little snippets of code. By default, Jupyter will display the last variable in a code cell, even if that variable isn't passed as an argument to the `print` function."
   ]
  },
  {
   "cell_type": "code",
   "execution_count": 6,
   "id": "c8b0976e",
   "metadata": {},
   "outputs": [
    {
     "data": {
      "text/plain": [
       "'Renaissance Learning'"
      ]
     },
     "execution_count": 6,
     "metadata": {},
     "output_type": "execute_result"
    }
   ],
   "source": [
    "my_name = 'Jon'\n",
    "my_name\n",
    "x"
   ]
  },
  {
   "cell_type": "markdown",
   "id": "fb1998ed",
   "metadata": {},
   "source": [
    "Notice above that the value for `x` is automatically sent to the output, but `my_name` is not."
   ]
  },
  {
   "cell_type": "code",
   "execution_count": 7,
   "id": "7ec6fbd9",
   "metadata": {},
   "outputs": [
    {
     "name": "stdout",
     "output_type": "stream",
     "text": [
      "Jon\n",
      "Renaissance Learning\n"
     ]
    }
   ],
   "source": [
    "my_name = 'Jon'\n",
    "print(my_name)\n",
    "print(x)"
   ]
  },
  {
   "cell_type": "markdown",
   "id": "f5469a90",
   "metadata": {},
   "source": [
    "### Loops"
   ]
  },
  {
   "cell_type": "markdown",
   "id": "b8c9d83c",
   "metadata": {},
   "source": [
    "Ok, time for some real programming. Let's start with a `for` loop:"
   ]
  },
  {
   "cell_type": "code",
   "execution_count": null,
   "id": "5a26eba9",
   "metadata": {
    "deletable": false,
    "editable": false,
    "run_control": {
     "frozen": true
    }
   },
   "outputs": [],
   "source": [
    "x = 5\n",
    "for i in range(0, 5):\n",
    "    print(x + i)"
   ]
  },
  {
   "cell_type": "markdown",
   "id": "f6762be0",
   "metadata": {},
   "source": [
    "---\n",
    "\n",
    "Before running this code, try to predict what you will see in the output. Scroll down to see the answer....\n",
    "```\n",
    ".\n",
    ".\n",
    ".\n",
    ".\n",
    ".\n",
    ".\n",
    ".\n",
    ".\n",
    ".\n",
    ".\n",
    ".\n",
    ".\n",
    ".\n",
    ".\n",
    ".\n",
    ".\n",
    ".\n",
    ".\n",
    ".\n",
    ".\n",
    ".\n",
    ".\n",
    ".\n",
    ".\n",
    ".\n",
    ".\n",
    ".\n",
    "```"
   ]
  },
  {
   "cell_type": "code",
   "execution_count": 8,
   "id": "e42bce41",
   "metadata": {},
   "outputs": [
    {
     "name": "stdout",
     "output_type": "stream",
     "text": [
      "5\n",
      "6\n",
      "7\n",
      "8\n",
      "9\n"
     ]
    }
   ],
   "source": [
    "x = 5\n",
    "for i in range(5):\n",
    "    print(x + i)"
   ]
  },
  {
   "cell_type": "markdown",
   "id": "b9adf2ab",
   "metadata": {},
   "source": [
    "Let's make sense of this behavior...  \n",
    "1. First, let's look at `range(0, 5)`. This code produces a set of integers `0, 1, 2, 3, 4`.\n",
    "  \n",
    "2. In this `for` loop, a new variable named `i` is instantiated with a value assigned, for each value in the range. Then the sum of `i` and `x` is calculated, and printed to the output. I'll say it again, to call it out more clearly:\n",
    "<br>\n",
    "<br>\n",
    "***The print statement was passed an expression, not a variable, but the expression was evalulated before passing it's result to output.***  \n",
    "<br>\n",
    "<br>\n",
    "One other neat thing to note: in Python, there's nothing special about the variable `i`. It's commonly used to represent an index or count, but this code works just as well with any other variable name:"
   ]
  },
  {
   "cell_type": "code",
   "execution_count": 9,
   "id": "b5152e64",
   "metadata": {},
   "outputs": [
    {
     "name": "stdout",
     "output_type": "stream",
     "text": [
      "90\n",
      "91\n",
      "92\n",
      "93\n",
      "94\n"
     ]
    }
   ],
   "source": [
    "gorilla = 90\n",
    "for fish in range(0, 5):\n",
    "    print(gorilla + fish)"
   ]
  },
  {
   "cell_type": "markdown",
   "id": "42f2c9d4",
   "metadata": {},
   "source": [
    "### Variable names"
   ]
  },
  {
   "cell_type": "markdown",
   "id": "a6207439",
   "metadata": {},
   "source": [
    "While we're talking about variable names, let's learn about some conventions about naming in Python."
   ]
  },
  {
   "cell_type": "markdown",
   "id": "70a79ae0",
   "metadata": {},
   "source": [
    "#### Variables and Functions"
   ]
  },
  {
   "cell_type": "markdown",
   "id": "abe0fbec",
   "metadata": {},
   "source": [
    "> Function [and variable] names should be all lowercase, with words separated by underscores as necessary to improve readability.\n",
    "\n",
    "Examples: `my_name`, `count`, `iris_data`"
   ]
  },
  {
   "cell_type": "markdown",
   "id": "521d80ea",
   "metadata": {},
   "source": [
    "#### Constants"
   ]
  },
  {
   "cell_type": "markdown",
   "id": "628a2f62",
   "metadata": {},
   "source": [
    "> Constants are usually defined on a module level and written in all capital letters with underscores separating words.\n",
    "\n",
    "Examples: `MAX_RANGE`, ` INITIAL_PAGE_WIDTH`\n",
    "  \n",
    "\n",
    "These [naming conventions](https://www.python.org/dev/peps/pep-0008/#prescriptive-naming-conventions) are quoted directly from the official [Python PEP-8 Style Guide](https://www.python.org/dev/peps/pep-0008/). There's a ton more information there, so if you care about writing code that looks good to others (and you definitely should!) go check it out. It's actually a fun read!"
   ]
  },
  {
   "cell_type": "markdown",
   "id": "55c11021",
   "metadata": {},
   "source": [
    "### Import Library"
   ]
  },
  {
   "cell_type": "code",
   "execution_count": 10,
   "id": "c507be80",
   "metadata": {},
   "outputs": [],
   "source": [
    "import os\n",
    "from glob import glob"
   ]
  },
  {
   "cell_type": "code",
   "execution_count": 11,
   "id": "30d3f058",
   "metadata": {},
   "outputs": [
    {
     "data": {
      "text/plain": [
       "['../data/world-population-by-country-2020.csv',\n",
       " '../data/random_data_9.csv',\n",
       " '../data/random_data_8.csv',\n",
       " '../data/random_data_10.csv',\n",
       " '../data/random_data_6.csv',\n",
       " '../data/random_data_7.csv',\n",
       " '../data/random_data_5.csv',\n",
       " '../data/random_data_4.csv',\n",
       " '../data/random_data_1.csv',\n",
       " '../data/random_data_3.csv',\n",
       " '../data/random_data_2.csv',\n",
       " '../data/anscombes_quartet.csv']"
      ]
     },
     "execution_count": 11,
     "metadata": {},
     "output_type": "execute_result"
    }
   ],
   "source": [
    "glob('../data/*.csv')"
   ]
  },
  {
   "cell_type": "code",
   "execution_count": 12,
   "id": "64cb5205",
   "metadata": {},
   "outputs": [
    {
     "data": {
      "text/plain": [
       "['../data/random_data_9.csv',\n",
       " '../data/random_data_8.csv',\n",
       " '../data/random_data_10.csv',\n",
       " '../data/random_data_6.csv',\n",
       " '../data/random_data_7.csv',\n",
       " '../data/random_data_5.csv',\n",
       " '../data/random_data_4.csv',\n",
       " '../data/random_data_1.csv',\n",
       " '../data/random_data_3.csv',\n",
       " '../data/random_data_2.csv']"
      ]
     },
     "execution_count": 12,
     "metadata": {},
     "output_type": "execute_result"
    }
   ],
   "source": [
    "glob('../data/random_data_*.csv')"
   ]
  },
  {
   "cell_type": "markdown",
   "id": "e2716e26",
   "metadata": {},
   "source": [
    "### Other Good to Know Concepts"
   ]
  },
  {
   "cell_type": "markdown",
   "id": "a18cd6f0",
   "metadata": {},
   "source": [
    "- `while` loops\n",
    "- iterators\n",
    "- classes\n",
    "    - methods"
   ]
  },
  {
   "cell_type": "markdown",
   "id": "56c29bd1",
   "metadata": {},
   "source": [
    "### Loading data"
   ]
  },
  {
   "cell_type": "markdown",
   "id": "91dcbc7b",
   "metadata": {},
   "source": [
    "`pandas`"
   ]
  },
  {
   "cell_type": "code",
   "execution_count": 13,
   "id": "2101768e",
   "metadata": {},
   "outputs": [],
   "source": [
    "import pandas as pd\n",
    "\n",
    "population_data = pd.read_csv('../data/world-population-by-country-2020.csv')"
   ]
  },
  {
   "cell_type": "code",
   "execution_count": 14,
   "id": "5b7385d5",
   "metadata": {},
   "outputs": [
    {
     "data": {
      "text/html": [
       "<div>\n",
       "<style scoped>\n",
       "    .dataframe tbody tr th:only-of-type {\n",
       "        vertical-align: middle;\n",
       "    }\n",
       "\n",
       "    .dataframe tbody tr th {\n",
       "        vertical-align: top;\n",
       "    }\n",
       "\n",
       "    .dataframe thead th {\n",
       "        text-align: right;\n",
       "    }\n",
       "</style>\n",
       "<table border=\"1\" class=\"dataframe\">\n",
       "  <thead>\n",
       "    <tr style=\"text-align: right;\">\n",
       "      <th></th>\n",
       "      <th>no</th>\n",
       "      <th>Country (or dependency)</th>\n",
       "      <th>Population 2020</th>\n",
       "      <th>Yearly Change</th>\n",
       "      <th>Net Change</th>\n",
       "      <th>Density  (P/Km²)</th>\n",
       "      <th>Land Area (Km²)</th>\n",
       "      <th>Migrants (net)</th>\n",
       "      <th>Fert. Rate</th>\n",
       "      <th>Med. Age</th>\n",
       "      <th>Urban Pop %</th>\n",
       "      <th>World Share</th>\n",
       "    </tr>\n",
       "  </thead>\n",
       "  <tbody>\n",
       "    <tr>\n",
       "      <th>0</th>\n",
       "      <td>1</td>\n",
       "      <td>China</td>\n",
       "      <td>1,439,323,776</td>\n",
       "      <td>0.39%</td>\n",
       "      <td>5,540,090</td>\n",
       "      <td>153</td>\n",
       "      <td>9,388,211</td>\n",
       "      <td>-348,399</td>\n",
       "      <td>1.7</td>\n",
       "      <td>38</td>\n",
       "      <td>61%</td>\n",
       "      <td>18.47%</td>\n",
       "    </tr>\n",
       "    <tr>\n",
       "      <th>1</th>\n",
       "      <td>2</td>\n",
       "      <td>India</td>\n",
       "      <td>1,380,004,385</td>\n",
       "      <td>0.99%</td>\n",
       "      <td>13,586,631</td>\n",
       "      <td>464</td>\n",
       "      <td>2,973,190</td>\n",
       "      <td>-532,687</td>\n",
       "      <td>2.2</td>\n",
       "      <td>28</td>\n",
       "      <td>35%</td>\n",
       "      <td>17.70%</td>\n",
       "    </tr>\n",
       "    <tr>\n",
       "      <th>2</th>\n",
       "      <td>3</td>\n",
       "      <td>United States</td>\n",
       "      <td>331,002,651</td>\n",
       "      <td>0.59%</td>\n",
       "      <td>1,937,734</td>\n",
       "      <td>36</td>\n",
       "      <td>9,147,420</td>\n",
       "      <td>954,806</td>\n",
       "      <td>1.8</td>\n",
       "      <td>38</td>\n",
       "      <td>83%</td>\n",
       "      <td>4.25%</td>\n",
       "    </tr>\n",
       "    <tr>\n",
       "      <th>3</th>\n",
       "      <td>4</td>\n",
       "      <td>Indonesia</td>\n",
       "      <td>273,523,615</td>\n",
       "      <td>1.07%</td>\n",
       "      <td>2,898,047</td>\n",
       "      <td>151</td>\n",
       "      <td>1,811,570</td>\n",
       "      <td>-98,955</td>\n",
       "      <td>2.3</td>\n",
       "      <td>30</td>\n",
       "      <td>56%</td>\n",
       "      <td>3.51%</td>\n",
       "    </tr>\n",
       "    <tr>\n",
       "      <th>4</th>\n",
       "      <td>5</td>\n",
       "      <td>Pakistan</td>\n",
       "      <td>220,892,340</td>\n",
       "      <td>2.00%</td>\n",
       "      <td>4,327,022</td>\n",
       "      <td>287</td>\n",
       "      <td>770,880</td>\n",
       "      <td>-233,379</td>\n",
       "      <td>3.6</td>\n",
       "      <td>23</td>\n",
       "      <td>35%</td>\n",
       "      <td>2.83%</td>\n",
       "    </tr>\n",
       "  </tbody>\n",
       "</table>\n",
       "</div>"
      ],
      "text/plain": [
       "   no Country (or dependency) Population 2020 Yearly Change  Net Change  \\\n",
       "0   1                   China   1,439,323,776         0.39%   5,540,090   \n",
       "1   2                   India   1,380,004,385         0.99%  13,586,631   \n",
       "2   3           United States     331,002,651         0.59%   1,937,734   \n",
       "3   4               Indonesia     273,523,615         1.07%   2,898,047   \n",
       "4   5                Pakistan     220,892,340         2.00%   4,327,022   \n",
       "\n",
       "  Density  (P/Km²) Land Area (Km²) Migrants (net) Fert. Rate Med. Age  \\\n",
       "0              153       9,388,211       -348,399        1.7       38   \n",
       "1              464       2,973,190       -532,687        2.2       28   \n",
       "2               36       9,147,420        954,806        1.8       38   \n",
       "3              151       1,811,570        -98,955        2.3       30   \n",
       "4              287         770,880       -233,379        3.6       23   \n",
       "\n",
       "  Urban Pop % World Share  \n",
       "0         61%      18.47%  \n",
       "1         35%      17.70%  \n",
       "2         83%       4.25%  \n",
       "3         56%       3.51%  \n",
       "4         35%       2.83%  "
      ]
     },
     "execution_count": 14,
     "metadata": {},
     "output_type": "execute_result"
    }
   ],
   "source": [
    "population_data.head()"
   ]
  },
  {
   "cell_type": "code",
   "execution_count": 15,
   "id": "a8dedcd1",
   "metadata": {},
   "outputs": [
    {
     "data": {
      "text/plain": [
       "(235, 12)"
      ]
     },
     "execution_count": 15,
     "metadata": {},
     "output_type": "execute_result"
    }
   ],
   "source": [
    "population_data.shape"
   ]
  },
  {
   "cell_type": "code",
   "execution_count": 16,
   "id": "1b6c5035",
   "metadata": {},
   "outputs": [
    {
     "data": {
      "text/html": [
       "<div>\n",
       "<style scoped>\n",
       "    .dataframe tbody tr th:only-of-type {\n",
       "        vertical-align: middle;\n",
       "    }\n",
       "\n",
       "    .dataframe tbody tr th {\n",
       "        vertical-align: top;\n",
       "    }\n",
       "\n",
       "    .dataframe thead th {\n",
       "        text-align: right;\n",
       "    }\n",
       "</style>\n",
       "<table border=\"1\" class=\"dataframe\">\n",
       "  <thead>\n",
       "    <tr style=\"text-align: right;\">\n",
       "      <th></th>\n",
       "      <th>Country (or dependency)</th>\n",
       "      <th>Population 2020</th>\n",
       "    </tr>\n",
       "  </thead>\n",
       "  <tbody>\n",
       "    <tr>\n",
       "      <th>36</th>\n",
       "      <td>Afghanistan</td>\n",
       "      <td>38,928,346</td>\n",
       "    </tr>\n",
       "    <tr>\n",
       "      <th>139</th>\n",
       "      <td>Albania</td>\n",
       "      <td>2,877,797</td>\n",
       "    </tr>\n",
       "    <tr>\n",
       "      <th>32</th>\n",
       "      <td>Algeria</td>\n",
       "      <td>43,851,044</td>\n",
       "    </tr>\n",
       "    <tr>\n",
       "      <th>209</th>\n",
       "      <td>American Samoa</td>\n",
       "      <td>55,191</td>\n",
       "    </tr>\n",
       "    <tr>\n",
       "      <th>202</th>\n",
       "      <td>Andorra</td>\n",
       "      <td>77,265</td>\n",
       "    </tr>\n",
       "    <tr>\n",
       "      <th>...</th>\n",
       "      <td>...</td>\n",
       "      <td>...</td>\n",
       "    </tr>\n",
       "    <tr>\n",
       "      <th>225</th>\n",
       "      <td>Wallis &amp; Futuna</td>\n",
       "      <td>11,239</td>\n",
       "    </tr>\n",
       "    <tr>\n",
       "      <th>169</th>\n",
       "      <td>Western Sahara</td>\n",
       "      <td>597,339</td>\n",
       "    </tr>\n",
       "    <tr>\n",
       "      <th>47</th>\n",
       "      <td>Yemen</td>\n",
       "      <td>29,825,964</td>\n",
       "    </tr>\n",
       "    <tr>\n",
       "      <th>64</th>\n",
       "      <td>Zambia</td>\n",
       "      <td>18,383,955</td>\n",
       "    </tr>\n",
       "    <tr>\n",
       "      <th>73</th>\n",
       "      <td>Zimbabwe</td>\n",
       "      <td>14,862,924</td>\n",
       "    </tr>\n",
       "  </tbody>\n",
       "</table>\n",
       "<p>235 rows × 2 columns</p>\n",
       "</div>"
      ],
      "text/plain": [
       "    Country (or dependency) Population 2020\n",
       "36              Afghanistan      38,928,346\n",
       "139                 Albania       2,877,797\n",
       "32                  Algeria      43,851,044\n",
       "209          American Samoa          55,191\n",
       "202                 Andorra          77,265\n",
       "..                      ...             ...\n",
       "225         Wallis & Futuna          11,239\n",
       "169          Western Sahara         597,339\n",
       "47                    Yemen      29,825,964\n",
       "64                   Zambia      18,383,955\n",
       "73                 Zimbabwe      14,862,924\n",
       "\n",
       "[235 rows x 2 columns]"
      ]
     },
     "execution_count": 16,
     "metadata": {},
     "output_type": "execute_result"
    }
   ],
   "source": [
    "population_data[['Country (or dependency)', 'Population 2020']] \\\n",
    "    .sort_values('Country (or dependency)')"
   ]
  },
  {
   "cell_type": "markdown",
   "id": "9277db2f",
   "metadata": {},
   "source": [
    "## Jupyter Specific Features\n",
    "The following features are built in to Jupyter to help you as you code."
   ]
  },
  {
   "cell_type": "markdown",
   "id": "655450bd",
   "metadata": {},
   "source": [
    "### Docstring View"
   ]
  },
  {
   "cell_type": "code",
   "execution_count": null,
   "id": "dbb6e058",
   "metadata": {},
   "outputs": [],
   "source": [
    "os.path...."
   ]
  },
  {
   "cell_type": "markdown",
   "id": "d693cf3a",
   "metadata": {},
   "source": [
    "### Multiple Cursors"
   ]
  },
  {
   "cell_type": "code",
   "execution_count": null,
   "id": "910db759",
   "metadata": {},
   "outputs": [],
   "source": [
    "list_of_numbers = [\n",
    "    1.9843,\n",
    "    23.9843,\n",
    "    2.9843,\n",
    "    47.9843,\n",
    "    6.9843\n",
    "]"
   ]
  },
  {
   "cell_type": "markdown",
   "id": "fca423e0",
   "metadata": {},
   "source": [
    "### Keyboard Shortcuts"
   ]
  },
  {
   "cell_type": "markdown",
   "id": "c8ed18a8",
   "metadata": {},
   "source": [
    "- `esc` to enter command mode\n",
    "- `enter` to go to edit mode\n",
    "<br>\n",
    "<br>\n",
    "- Command mode\n",
    "    - `m` - change cell to markdown\n",
    "    - `y` - change cell to code\n",
    "    - `a` - add cell above selected cell\n",
    "    - `b` - add cell below selected cell"
   ]
  },
  {
   "cell_type": "markdown",
   "id": "15ec68e8",
   "metadata": {},
   "source": [
    "### And more\n",
    "- Support for other programming languages\n",
    "- Magics\n",
    "- Extensions"
   ]
  },
  {
   "cell_type": "code",
   "execution_count": null,
   "id": "e9bde4aa",
   "metadata": {},
   "outputs": [],
   "source": [
    "!cd /Users/jon.stelman/git/"
   ]
  }
 ],
 "metadata": {
  "kernelspec": {
   "display_name": "Python 3 (ipykernel)",
   "language": "python",
   "name": "python3"
  },
  "language_info": {
   "codemirror_mode": {
    "name": "ipython",
    "version": 3
   },
   "file_extension": ".py",
   "mimetype": "text/x-python",
   "name": "python",
   "nbconvert_exporter": "python",
   "pygments_lexer": "ipython3",
   "version": "3.9.12"
  },
  "toc": {
   "base_numbering": 1,
   "nav_menu": {},
   "number_sections": true,
   "sideBar": true,
   "skip_h1_title": true,
   "title_cell": "Table of Contents",
   "title_sidebar": "Contents",
   "toc_cell": false,
   "toc_position": {
    "height": "calc(100% - 180px)",
    "left": "10px",
    "top": "150px",
    "width": "304.797px"
   },
   "toc_section_display": true,
   "toc_window_display": true
  },
  "varInspector": {
   "cols": {
    "lenName": 16,
    "lenType": 16,
    "lenVar": 40
   },
   "kernels_config": {
    "python": {
     "delete_cmd_postfix": "",
     "delete_cmd_prefix": "del ",
     "library": "var_list.py",
     "varRefreshCmd": "print(var_dic_list())"
    },
    "r": {
     "delete_cmd_postfix": ") ",
     "delete_cmd_prefix": "rm(",
     "library": "var_list.r",
     "varRefreshCmd": "cat(var_dic_list()) "
    }
   },
   "position": {
    "height": "298.835px",
    "left": "1506.98px",
    "right": "20px",
    "top": "153.986px",
    "width": "332.983px"
   },
   "types_to_exclude": [
    "module",
    "function",
    "builtin_function_or_method",
    "instance",
    "_Feature"
   ],
   "window_display": true
  }
 },
 "nbformat": 4,
 "nbformat_minor": 5
}
