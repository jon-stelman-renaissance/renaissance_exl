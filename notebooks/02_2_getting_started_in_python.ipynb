{
 "cells": [
  {
   "cell_type": "markdown",
   "id": "8ad3d532",
   "metadata": {},
   "source": [
    "# Getting Started in Python with Jupyter Notebook\n",
    "_Renaissance Experiential Learning Program_  \n",
    "_Renaissance Learning, 2024_  "
   ]
  },
  {
   "cell_type": "markdown",
   "id": "9bd944a9",
   "metadata": {},
   "source": [
    "## Jupyter Notebook\n",
    "This is a Jupyter Notebook file (note the `.ipynb` extension). When opened in a Jupyter environment, it can be used to execute code, typically in a Python kernel."
   ]
  },
  {
   "cell_type": "markdown",
   "id": "d4a6a0ba",
   "metadata": {},
   "source": [
    "### Why Jupyter?\n",
    "Jupyter allows us to combine code with rich text descriptions and graphical outputs, so all of our code, outputs, and descriptions of findings can be viewed sequentially, in one document."
   ]
  },
  {
   "cell_type": "markdown",
   "id": "c4924c27",
   "metadata": {},
   "source": [
    "### Cells\n",
    "Jupyter notebooks generally consist of two kinds of cells: **Markdown** and **Code**."
   ]
  },
  {
   "cell_type": "markdown",
   "id": "17b5d76b",
   "metadata": {},
   "source": [
    "#### Markdown"
   ]
  },
  {
   "cell_type": "markdown",
   "id": "f8717617",
   "metadata": {},
   "source": [
    "This is a markdown cell.\n",
    "<br>\n",
    "<br>\n",
    "Markdown is a syntax that can be added to text to specify how that text should be formatted. The markdown is supported by many text editors and renderers, including Jupyter and GitHub.\n",
    "\n",
    "#### Heading 4\n",
    "##### Heading 5\n",
    "\n",
    "Add an ordered list\n",
    "1. list item 1\n",
    "2. list item 2\n",
    "  \n",
    "Or an unodered list\n",
    "- list item 1\n",
    "- list item 2\n",
    "\n",
    "Nest your lists\n",
    "1. First level\n",
    "    1. Second level item 1\n",
    "    2. Second level item 2\n",
    "        - Third level, unordered item\n",
    "    \n",
    "\n",
    "Add quotes\n",
    "> Block quotes  \n",
    "I can even write a  \n",
    "multi-line quote  \n",
    "\n",
    "And other basic formatting options\n",
    "- **Bold**\n",
    "- _italics_\n",
    "- ~STRIKETHROUGH~\n",
    "- `In-line code`\n",
    "\n",
    "```\n",
    "code block (for multi-line code)\n",
    "x = 4\n",
    "y = 6\n",
    "z = x + y\n",
    "```\n",
    "\n",
    "We can also create links in Markdown  \n",
    "[Markdown Cheat Sheet](https://www.markdownguide.org/cheat-sheet)\n",
    "\n",
    "Line breaks are also supported\n",
    "\n",
    "---\n",
    "Here's some text below the line 😊.  \n",
    "Oh yeah, did I mention that _**emoji**_ are valid!?"
   ]
  },
  {
   "cell_type": "markdown",
   "id": "585b5a67",
   "metadata": {},
   "source": [
    "#### Code\n",
    "Below is a code cell:"
   ]
  },
  {
   "cell_type": "code",
   "execution_count": null,
   "id": "2c4a1851",
   "metadata": {},
   "outputs": [],
   "source": [
    "var = \"python code goes here\""
   ]
  },
  {
   "cell_type": "markdown",
   "id": "6ba67ba4",
   "metadata": {},
   "source": [
    "You can add line numbers to your code cell too, just type `l` in when the cell is selected in \"command\" mode."
   ]
  },
  {
   "cell_type": "code",
   "execution_count": null,
   "id": "8940e651",
   "metadata": {},
   "outputs": [],
   "source": [
    "var = 'cat'\n",
    "\n",
    "\n",
    "\n"
   ]
  },
  {
   "cell_type": "markdown",
   "id": "72ad4fc3",
   "metadata": {},
   "source": [
    "Code cells have an indicator to their left showing the order in which they have been run."
   ]
  },
  {
   "cell_type": "markdown",
   "id": "ba959117",
   "metadata": {},
   "source": [
    "## Coding"
   ]
  },
  {
   "cell_type": "markdown",
   "id": "69fafcee",
   "metadata": {},
   "source": [
    "### The `print` statement\n",
    "Let's start with the `print` statement:"
   ]
  },
  {
   "cell_type": "code",
   "execution_count": null,
   "id": "e688a9ed",
   "metadata": {},
   "outputs": [],
   "source": [
    "print('Hello World')"
   ]
  },
  {
   "cell_type": "markdown",
   "id": "8c5be854",
   "metadata": {},
   "source": [
    "There are at least three notable things about the code above:\n",
    "1. In Python 3, `print()` is a function. In this case, it takes a string of text as its argument.\n",
    "2. *Where* the text was printed: in a Jupyter Notebook, a print statement will show the output directly below the code cell (rather than in a separate console or log file or something).\n",
    "3. The text is enclosed in single quotes (`'`). In Python, 'single quotes' and \"double quotes\" can generally be used interchangeably."
   ]
  },
  {
   "cell_type": "markdown",
   "id": "85c6315c",
   "metadata": {},
   "source": [
    "### Variable assignment"
   ]
  },
  {
   "cell_type": "markdown",
   "id": "c027a8b4",
   "metadata": {},
   "source": [
    "Next let's explore a few more details of Python programming, starting with variable assignment.  \n",
    "  \n",
    "We start by defining a new variable, `x`."
   ]
  },
  {
   "cell_type": "code",
   "execution_count": null,
   "id": "dc1cb5da",
   "metadata": {},
   "outputs": [],
   "source": [
    "x = 'Renaissance Learning'"
   ]
  },
  {
   "cell_type": "markdown",
   "id": "0d8baf8e",
   "metadata": {},
   "source": [
    "Notice that, in Python, the variable is defined at the same time as its assignment. In other words, when we assign a value to an unknown object, the new variable is created with the value. We don't need to start by saying what type of variable it will be.  \n",
    "\n",
    "If we pass `x` to the `print()` function, we should see its value in the output:\n"
   ]
  },
  {
   "cell_type": "code",
   "execution_count": null,
   "id": "9a458072",
   "metadata": {
    "scrolled": true
   },
   "outputs": [],
   "source": [
    "print(x)"
   ]
  },
  {
   "cell_type": "markdown",
   "id": "2ef175bf",
   "metadata": {},
   "source": [
    "Here's a little thing to note. Jupyter tries to save us a little time when running little snippets of code. By default, Jupyter will output the *last variable in a code cell*, even if that variable isn't passed as an argument to the `print` function."
   ]
  },
  {
   "cell_type": "code",
   "execution_count": null,
   "id": "c8b0976e",
   "metadata": {},
   "outputs": [],
   "source": [
    "my_name = 'Jon'\n",
    "my_name\n",
    "x"
   ]
  },
  {
   "cell_type": "markdown",
   "id": "fb1998ed",
   "metadata": {},
   "source": [
    "Notice above that the value for `x` is automatically sent to the output, but `my_name` is not.  \n",
    "  \n",
    "If I want to print more than one value to the output, I need to be more explicit:"
   ]
  },
  {
   "cell_type": "code",
   "execution_count": null,
   "id": "7ec6fbd9",
   "metadata": {},
   "outputs": [],
   "source": [
    "print(my_name)\n",
    "print(x)"
   ]
  },
  {
   "cell_type": "markdown",
   "id": "f5469a90",
   "metadata": {},
   "source": [
    "### Loops"
   ]
  },
  {
   "cell_type": "markdown",
   "id": "b8c9d83c",
   "metadata": {},
   "source": [
    "Ok, let's do some real programming. Let's start with a `for` loop:"
   ]
  },
  {
   "cell_type": "code",
   "execution_count": null,
   "id": "5a26eba9",
   "metadata": {
    "deletable": false,
    "editable": false,
    "run_control": {
     "frozen": true
    }
   },
   "outputs": [],
   "source": [
    "x = 5\n",
    "for i in range(0, 5):\n",
    "    print(x + i)"
   ]
  },
  {
   "cell_type": "markdown",
   "id": "f6762be0",
   "metadata": {},
   "source": [
    "---\n",
    "\n",
    "Before running this code, try to predict what you will see in the output. Scroll down to see the answer....\n",
    "```\n",
    ".\n",
    ".\n",
    ".\n",
    ".\n",
    ".\n",
    ".\n",
    ".\n",
    ".\n",
    ".\n",
    ".\n",
    ".\n",
    ".\n",
    ".\n",
    ".\n",
    ".\n",
    ".\n",
    ".\n",
    ".\n",
    ".\n",
    ".\n",
    ".\n",
    ".\n",
    ".\n",
    ".\n",
    ".\n",
    ".\n",
    ".\n",
    "```"
   ]
  },
  {
   "cell_type": "code",
   "execution_count": null,
   "id": "e42bce41",
   "metadata": {},
   "outputs": [],
   "source": [
    "x = 5\n",
    "for i in range(0, 5):\n",
    "    print(x + i)"
   ]
  },
  {
   "cell_type": "markdown",
   "id": "b9adf2ab",
   "metadata": {},
   "source": [
    "Let's make sense of this behavior...  \n",
    "1. First, let's look at `range(0, 5)`. This code produces a set of integers `0, 1, 2, 3, 4`.\n",
    "  \n",
    "2. In this `for` loop, a new variable named `i` is instantiated with a value assigned, for each value in the range. Then the sum of `i` and `x` is calculated, and finally, that value printed to the output. To call it out more clearly:\n",
    "<br>\n",
    "<br>\n",
    "***The print statement was passed an expression, not a variable, but the expression gets evalulated before passing its result to output.***  \n",
    "<br>\n",
    "<br>\n",
    "One other neat thing to note: There's nothing special about the variable `i`. It's commonly used to represent an index or count, but this code works just as well with any other variable name:"
   ]
  },
  {
   "cell_type": "code",
   "execution_count": null,
   "id": "b5152e64",
   "metadata": {},
   "outputs": [],
   "source": [
    "tiger = 80\n",
    "for fish in range(5, 15):\n",
    "    print(tiger + fish)"
   ]
  },
  {
   "cell_type": "markdown",
   "id": "42f2c9d4",
   "metadata": {},
   "source": [
    "### Variable names"
   ]
  },
  {
   "cell_type": "markdown",
   "id": "a6207439",
   "metadata": {},
   "source": [
    "While we're talking about variable names, let's learn about some conventions about naming in Python."
   ]
  },
  {
   "cell_type": "markdown",
   "id": "70a79ae0",
   "metadata": {},
   "source": [
    "#### Variables and Functions"
   ]
  },
  {
   "cell_type": "markdown",
   "id": "abe0fbec",
   "metadata": {},
   "source": [
    "> Function [and variable] names should be all lowercase, with words separated by underscores as necessary to improve readability.\n",
    "\n",
    "Examples: `my_name`, `count`, `iris_data`"
   ]
  },
  {
   "cell_type": "markdown",
   "id": "521d80ea",
   "metadata": {},
   "source": [
    "#### Constants"
   ]
  },
  {
   "cell_type": "markdown",
   "id": "628a2f62",
   "metadata": {},
   "source": [
    "> Constants are usually defined on a module level and written in all capital letters with underscores separating words.\n",
    "\n",
    "Examples: `MAX_RANGE`, ` INITIAL_PAGE_WIDTH`\n",
    "  \n",
    "\n",
    "These [naming conventions](https://www.python.org/dev/peps/pep-0008/#prescriptive-naming-conventions) are quoted directly from the official [Python PEP-8 Style Guide](https://www.python.org/dev/peps/pep-0008/). There's a ton more information there, so if you care about writing code that looks good to others (and you definitely should!) go check it out. It's actually a fun read!"
   ]
  },
  {
   "cell_type": "markdown",
   "id": "55c11021",
   "metadata": {},
   "source": [
    "### Import Library"
   ]
  },
  {
   "cell_type": "code",
   "execution_count": null,
   "id": "c507be80",
   "metadata": {},
   "outputs": [],
   "source": [
    "import os\n",
    "from glob import glob"
   ]
  },
  {
   "cell_type": "code",
   "execution_count": null,
   "id": "30d3f058",
   "metadata": {},
   "outputs": [],
   "source": [
    "glob('../data/*.csv')"
   ]
  },
  {
   "cell_type": "code",
   "execution_count": null,
   "id": "64cb5205",
   "metadata": {},
   "outputs": [],
   "source": [
    "glob('../data/random_data_*.csv')"
   ]
  },
  {
   "cell_type": "markdown",
   "id": "e2716e26",
   "metadata": {},
   "source": [
    "### Other Good to Know Concepts"
   ]
  },
  {
   "cell_type": "markdown",
   "id": "a18cd6f0",
   "metadata": {},
   "source": [
    "- `while` loops\n",
    "- iterators\n",
    "- classes\n",
    "- methods"
   ]
  },
  {
   "cell_type": "markdown",
   "id": "56c29bd1",
   "metadata": {},
   "source": [
    "### Loading data"
   ]
  },
  {
   "cell_type": "markdown",
   "id": "91dcbc7b",
   "metadata": {},
   "source": [
    "`pandas`"
   ]
  },
  {
   "cell_type": "code",
   "execution_count": null,
   "id": "2101768e",
   "metadata": {},
   "outputs": [],
   "source": [
    "import pandas as pd\n",
    "\n",
    "population_data = pd.read_csv('../data/world-population-by-country-2020.csv')"
   ]
  },
  {
   "cell_type": "code",
   "execution_count": null,
   "id": "5b7385d5",
   "metadata": {},
   "outputs": [],
   "source": [
    "population_data.head(20)"
   ]
  },
  {
   "cell_type": "code",
   "execution_count": null,
   "id": "2f8162b5",
   "metadata": {},
   "outputs": [],
   "source": [
    "population_data.describe()"
   ]
  },
  {
   "cell_type": "code",
   "execution_count": null,
   "id": "693a35c2",
   "metadata": {},
   "outputs": [],
   "source": [
    "print(population_data)"
   ]
  },
  {
   "cell_type": "code",
   "execution_count": null,
   "id": "a8dedcd1",
   "metadata": {},
   "outputs": [],
   "source": [
    "population_data.shape"
   ]
  },
  {
   "cell_type": "code",
   "execution_count": null,
   "id": "1b6c5035",
   "metadata": {},
   "outputs": [],
   "source": [
    "population_data[['Country (or dependency)', 'Population 2020']] \\\n",
    "    .sort_values('Country (or dependency)')"
   ]
  },
  {
   "cell_type": "markdown",
   "id": "9277db2f",
   "metadata": {},
   "source": [
    "## Jupyter Specific Features\n",
    "The following features are built in to Jupyter to help you as you code."
   ]
  },
  {
   "cell_type": "markdown",
   "id": "655450bd",
   "metadata": {},
   "source": [
    "### Docstring View\n",
    "When your cursor is inside the parentheses of a function, you can press \"Shift + Tab\" to view a popover of the `Docstring` (the documentation associated with a function).  \n",
    "  \n",
    "Pressing \"Shift + Tab\" again expands the Docstring.  \n",
    "Pressing \"Shift + Tab\" a third time pins the Docstring to the bottom of the window."
   ]
  },
  {
   "cell_type": "code",
   "execution_count": null,
   "id": "dbb6e058",
   "metadata": {},
   "outputs": [],
   "source": [
    "os.path.commonpath()"
   ]
  },
  {
   "cell_type": "markdown",
   "id": "d693cf3a",
   "metadata": {},
   "source": [
    "### Multiple Cursors"
   ]
  },
  {
   "cell_type": "code",
   "execution_count": null,
   "id": "02f9f922",
   "metadata": {},
   "outputs": [],
   "source": [
    "list_of_numbers = [\n",
    "     1.4392834893,\n",
    "    23.4392834893,\n",
    "     2.4392834893,\n",
    "    47.4392834893,\n",
    "     6.4392834893\n",
    "]"
   ]
  },
  {
   "cell_type": "markdown",
   "id": "fca423e0",
   "metadata": {},
   "source": [
    "### Keyboard Shortcuts"
   ]
  },
  {
   "cell_type": "markdown",
   "id": "7bd3f744",
   "metadata": {},
   "source": [
    "- `esc` to enter command mode\n",
    "- `enter` to go to edit mode\n",
    "<br>\n",
    "<br>\n",
    "- Command mode\n",
    "    - `m` - change cell to markdown\n",
    "    - `y` - change cell to code\n",
    "    - `a` - add cell above selected cell\n",
    "    - `b` - add cell below selected cell\n",
    "    - `dd` - delete currently selected cell"
   ]
  },
  {
   "cell_type": "markdown",
   "id": "15ec68e8",
   "metadata": {},
   "source": [
    "### And more\n",
    "- Support for other programming languages\n",
    "- Magics\n",
    "- Extensions"
   ]
  },
  {
   "cell_type": "code",
   "execution_count": null,
   "id": "e9bde4aa",
   "metadata": {},
   "outputs": [],
   "source": [
    "# change into project repository\n",
    "!cd /Users/jon.stelman/git/renaissance_exl/;\n",
    "\n",
    "# list the files in the current directory\n",
    "!ls;"
   ]
  },
  {
   "cell_type": "markdown",
   "id": "a98c6ff2",
   "metadata": {},
   "source": []
  }
 ],
 "metadata": {
  "kernelspec": {
   "display_name": "Python 3 (ipykernel)",
   "language": "python",
   "name": "python3"
  },
  "language_info": {
   "codemirror_mode": {
    "name": "ipython",
    "version": 3
   },
   "file_extension": ".py",
   "mimetype": "text/x-python",
   "name": "python",
   "nbconvert_exporter": "python",
   "pygments_lexer": "ipython3",
   "version": "3.9.12"
  },
  "toc": {
   "base_numbering": 1,
   "nav_menu": {},
   "number_sections": true,
   "sideBar": false,
   "skip_h1_title": true,
   "title_cell": "Table of Contents",
   "title_sidebar": "Contents",
   "toc_cell": false,
   "toc_position": {
    "height": "533px",
    "left": "2965.88px",
    "top": "812px",
    "width": "374.125px"
   },
   "toc_section_display": true,
   "toc_window_display": true
  },
  "varInspector": {
   "cols": {
    "lenName": 16,
    "lenType": 16,
    "lenVar": 40
   },
   "kernels_config": {
    "python": {
     "delete_cmd_postfix": "",
     "delete_cmd_prefix": "del ",
     "library": "var_list.py",
     "varRefreshCmd": "print(var_dic_list())"
    },
    "r": {
     "delete_cmd_postfix": ") ",
     "delete_cmd_prefix": "rm(",
     "library": "var_list.r",
     "varRefreshCmd": "cat(var_dic_list()) "
    }
   },
   "position": {
    "height": "298.833px",
    "left": "2986.98px",
    "right": "20px",
    "top": "14.9583px",
    "width": "332.938px"
   },
   "types_to_exclude": [
    "module",
    "function",
    "builtin_function_or_method",
    "instance",
    "_Feature"
   ],
   "window_display": true
  }
 },
 "nbformat": 4,
 "nbformat_minor": 5
}
